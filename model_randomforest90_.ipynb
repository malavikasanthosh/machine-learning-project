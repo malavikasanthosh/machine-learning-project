{
  "nbformat": 4,
  "nbformat_minor": 0,
  "metadata": {
    "colab": {
      "name": "model randomforest90%.ipynb",
      "provenance": []
    },
    "kernelspec": {
      "name": "python3",
      "display_name": "Python 3"
    },
    "language_info": {
      "name": "python"
    }
  },
  "cells": [
    {
      "cell_type": "code",
      "execution_count": 1,
      "metadata": {
        "id": "rOHr0hiZIycH"
      },
      "outputs": [],
      "source": [
        "import pandas as pd\n",
        "import numpy as np\n",
        "import datetime\n",
        "import time\n",
        "import matplotlib.pyplot as plt\n",
        "from sklearn.model_selection import train_test_split\n",
        "from sklearn.preprocessing import LabelEncoder\n",
        "from sklearn.ensemble import RandomForestRegressor"
      ]
    },
    {
      "cell_type": "markdown",
      "source": [
        "Label Encoder"
      ],
      "metadata": {
        "id": "V4Q7JrsnJxhs"
      }
    },
    {
      "cell_type": "code",
      "source": [
        "airlines_df = pd.read_csv('airlines.csv')\n",
        "airlines_le = LabelEncoder()\n",
        "airlines_le.fit(airlines_df['IATA_CODE'].astype(str))\n",
        "#pickle.dump(airlines_le,open('airlines_encoder.pkl','wb'))\n",
        "\n",
        "airports_df = pd.read_csv('airports.csv')\n",
        "airports_le = LabelEncoder()\n",
        "airports_le.fit(airports_df['IATA_CODE'].astype(str))\n",
        "#pickle.dump(airports_le,open('airports_encoder.pkl','wb'))"
      ],
      "metadata": {
        "id": "eP5UkJ-hJwgh",
        "colab": {
          "base_uri": "https://localhost:8080/"
        },
        "outputId": "6e84b843-4787-4cc9-f5e3-6f150b49b176"
      },
      "execution_count": 2,
      "outputs": [
        {
          "output_type": "execute_result",
          "data": {
            "text/plain": [
              "LabelEncoder()"
            ]
          },
          "metadata": {},
          "execution_count": 2
        }
      ]
    },
    {
      "cell_type": "code",
      "source": [
        "\n",
        "print(airports_df[['IATA_CODE','AIRPORT']].to_dict(\"records\"))"
      ],
      "metadata": {
        "colab": {
          "base_uri": "https://localhost:8080/"
        },
        "id": "ZwwkuEPUP5qR",
        "outputId": "ebb8e8fa-4a1d-42a6-89bf-e55c32e346c3"
      },
      "execution_count": null,
      "outputs": [
        {
          "output_type": "stream",
          "name": "stdout",
          "text": [
            "[{'IATA_CODE': 'ABE', 'AIRPORT': 'Lehigh Valley International Airport'}, {'IATA_CODE': 'ABI', 'AIRPORT': 'Abilene Regional Airport'}, {'IATA_CODE': 'ABQ', 'AIRPORT': 'Albuquerque International Sunport'}, {'IATA_CODE': 'ABR', 'AIRPORT': 'Aberdeen Regional Airport'}, {'IATA_CODE': 'ABY', 'AIRPORT': 'Southwest Georgia Regional Airport'}, {'IATA_CODE': 'ACK', 'AIRPORT': 'Nantucket Memorial Airport'}, {'IATA_CODE': 'ACT', 'AIRPORT': 'Waco Regional Airport'}, {'IATA_CODE': 'ACV', 'AIRPORT': 'Arcata Airport'}, {'IATA_CODE': 'ACY', 'AIRPORT': 'Atlantic City International Airport'}, {'IATA_CODE': 'ADK', 'AIRPORT': 'Adak Airport'}, {'IATA_CODE': 'ADQ', 'AIRPORT': 'Kodiak Airport'}, {'IATA_CODE': 'AEX', 'AIRPORT': 'Alexandria International Airport'}, {'IATA_CODE': 'AGS', 'AIRPORT': 'Augusta Regional Airport\\xa0(Bush Field)'}, {'IATA_CODE': 'AKN', 'AIRPORT': 'King Salmon Airport'}, {'IATA_CODE': 'ALB', 'AIRPORT': 'Albany International Airport'}, {'IATA_CODE': 'ALO', 'AIRPORT': 'Waterloo Regional Airport'}, {'IATA_CODE': 'AMA', 'AIRPORT': 'Rick Husband Amarillo International Airport'}, {'IATA_CODE': 'ANC', 'AIRPORT': 'Ted Stevens Anchorage International Airport'}, {'IATA_CODE': 'APN', 'AIRPORT': 'Alpena County Regional Airport'}, {'IATA_CODE': 'ASE', 'AIRPORT': 'Aspen-Pitkin County Airport'}, {'IATA_CODE': 'ATL', 'AIRPORT': 'Hartsfield-Jackson Atlanta International Airport'}, {'IATA_CODE': 'ATW', 'AIRPORT': 'Appleton International Airport'}, {'IATA_CODE': 'AUS', 'AIRPORT': 'Austin-Bergstrom International Airport'}, {'IATA_CODE': 'AVL', 'AIRPORT': 'Asheville Regional Airport'}, {'IATA_CODE': 'AVP', 'AIRPORT': 'Wilkes-Barre/Scranton International Airport'}, {'IATA_CODE': 'AZO', 'AIRPORT': 'Kalamazoo/Battle Creek International Airport'}, {'IATA_CODE': 'BDL', 'AIRPORT': 'Bradley International Airport'}, {'IATA_CODE': 'BET', 'AIRPORT': 'Bethel Airport'}, {'IATA_CODE': 'BFL', 'AIRPORT': 'Meadows Field'}, {'IATA_CODE': 'BGM', 'AIRPORT': 'Greater Binghamton Airport'}, {'IATA_CODE': 'BGR', 'AIRPORT': 'Bangor International Airport'}, {'IATA_CODE': 'BHM', 'AIRPORT': 'Birmingham-Shuttlesworth International Airport'}, {'IATA_CODE': 'BIL', 'AIRPORT': 'Billings Logan International Airport'}, {'IATA_CODE': 'BIS', 'AIRPORT': 'Bismarck Municipal Airport'}, {'IATA_CODE': 'BJI', 'AIRPORT': 'Bemidji Regional Airport'}, {'IATA_CODE': 'BLI', 'AIRPORT': 'Bellingham International Airport'}, {'IATA_CODE': 'BMI', 'AIRPORT': 'Central Illinois Regional Airport at Bloomington-Normal'}, {'IATA_CODE': 'BNA', 'AIRPORT': 'Nashville International Airport'}, {'IATA_CODE': 'BOI', 'AIRPORT': 'Boise Airport\\xa0(Boise Air Terminal)'}, {'IATA_CODE': 'BOS', 'AIRPORT': 'Gen. Edward Lawrence Logan International Airport'}, {'IATA_CODE': 'BPT', 'AIRPORT': 'Jack Brooks Regional Airport\\xa0(Southeast Texas Regional)'}, {'IATA_CODE': 'BQK', 'AIRPORT': 'Brunswick Golden Isles Airport'}, {'IATA_CODE': 'BQN', 'AIRPORT': 'Rafael Hernández Airport'}, {'IATA_CODE': 'BRD', 'AIRPORT': 'Brainerd Lakes Regional Airport'}, {'IATA_CODE': 'BRO', 'AIRPORT': 'Brownsville/South Padre Island International Airport'}, {'IATA_CODE': 'BRW', 'AIRPORT': 'Wiley Post-Will Rogers Memorial Airport'}, {'IATA_CODE': 'BTM', 'AIRPORT': 'Bert Mooney Airport'}, {'IATA_CODE': 'BTR', 'AIRPORT': 'Baton Rouge Metropolitan Airport'}, {'IATA_CODE': 'BTV', 'AIRPORT': 'Burlington International Airport'}, {'IATA_CODE': 'BUF', 'AIRPORT': 'Buffalo Niagara International Airport'}, {'IATA_CODE': 'BUR', 'AIRPORT': 'Bob Hope Airport\\xa0(Hollywood Burbank Airport)'}, {'IATA_CODE': 'BWI', 'AIRPORT': 'Baltimore-Washington International Airport'}, {'IATA_CODE': 'BZN', 'AIRPORT': 'Bozeman Yellowstone International Airport\\xa0(Gallatin Field Airport)'}, {'IATA_CODE': 'CAE', 'AIRPORT': 'Columbia Metropolitan Airport'}, {'IATA_CODE': 'CAK', 'AIRPORT': 'Akron-Canton Regional Airport'}, {'IATA_CODE': 'CDC', 'AIRPORT': 'Cedar City Regional Airport'}, {'IATA_CODE': 'CDV', 'AIRPORT': 'Merle K. (Mudhole) Smith Airport'}, {'IATA_CODE': 'CEC', 'AIRPORT': 'Del Norte County Airport\\xa0(Jack McNamara Field)'}, {'IATA_CODE': 'CHA', 'AIRPORT': 'Chattanooga Metropolitan Airport\\xa0(Lovell Field)'}, {'IATA_CODE': 'CHO', 'AIRPORT': 'Charlottesville-Albemarle Airport'}, {'IATA_CODE': 'CHS', 'AIRPORT': 'Charleston International Airport/Charleston AFB'}, {'IATA_CODE': 'CID', 'AIRPORT': 'The Eastern Iowa Airport'}, {'IATA_CODE': 'CIU', 'AIRPORT': 'Chippewa County International Airport'}, {'IATA_CODE': 'CLD', 'AIRPORT': 'McClellan-Palomar Airport'}, {'IATA_CODE': 'CLE', 'AIRPORT': 'Cleveland Hopkins International Airport'}, {'IATA_CODE': 'CLL', 'AIRPORT': 'Easterwood Airport'}, {'IATA_CODE': 'CLT', 'AIRPORT': 'Charlotte Douglas International Airport'}, {'IATA_CODE': 'CMH', 'AIRPORT': 'Port Columbus International Airport'}, {'IATA_CODE': 'CMI', 'AIRPORT': 'University of Illinois - Willard Airport'}, {'IATA_CODE': 'CMX', 'AIRPORT': 'Houghton County Memorial Airport'}, {'IATA_CODE': 'CNY', 'AIRPORT': 'Canyonlands Field'}, {'IATA_CODE': 'COD', 'AIRPORT': 'Yellowstone Regional Airport'}, {'IATA_CODE': 'COS', 'AIRPORT': 'City of Colorado Springs Municipal Airport'}, {'IATA_CODE': 'COU', 'AIRPORT': 'Columbia Regional Airport'}, {'IATA_CODE': 'CPR', 'AIRPORT': 'Natrona County International Airport'}, {'IATA_CODE': 'CRP', 'AIRPORT': 'Corpus Christi International Airport'}, {'IATA_CODE': 'CRW', 'AIRPORT': 'Yeager Airport'}, {'IATA_CODE': 'CSG', 'AIRPORT': 'Columbus Metropolitan Airport'}, {'IATA_CODE': 'CVG', 'AIRPORT': 'Cincinnati/Northern Kentucky International Airport'}, {'IATA_CODE': 'CWA', 'AIRPORT': 'Central Wisconsin Airport'}, {'IATA_CODE': 'DAB', 'AIRPORT': 'Daytona Beach International Airport'}, {'IATA_CODE': 'DAL', 'AIRPORT': 'Dallas Love Field'}, {'IATA_CODE': 'DAY', 'AIRPORT': 'James M. Cox Dayton International Airport'}, {'IATA_CODE': 'DBQ', 'AIRPORT': 'Dubuque Regional Airport'}, {'IATA_CODE': 'DCA', 'AIRPORT': 'Ronald Reagan Washington National Airport'}, {'IATA_CODE': 'DEN', 'AIRPORT': 'Denver International Airport'}, {'IATA_CODE': 'DFW', 'AIRPORT': 'Dallas/Fort Worth International Airport'}, {'IATA_CODE': 'DHN', 'AIRPORT': 'Dothan Regional Airport'}, {'IATA_CODE': 'DIK', 'AIRPORT': 'Dickinson Theodore Roosevelt Regional Airport'}, {'IATA_CODE': 'DLG', 'AIRPORT': 'Dillingham Airport'}, {'IATA_CODE': 'DLH', 'AIRPORT': 'Duluth International Airport'}, {'IATA_CODE': 'DRO', 'AIRPORT': 'Durango-La Plata County Airport'}, {'IATA_CODE': 'DSM', 'AIRPORT': 'Des Moines International Airport'}, {'IATA_CODE': 'DTW', 'AIRPORT': 'Detroit Metropolitan Airport'}, {'IATA_CODE': 'DVL', 'AIRPORT': 'Devils Lake Regional Airport'}, {'IATA_CODE': 'EAU', 'AIRPORT': 'Chippewa Valley Regional Airport'}, {'IATA_CODE': 'ECP', 'AIRPORT': 'Northwest Florida Beaches International Airport'}, {'IATA_CODE': 'EGE', 'AIRPORT': 'Eagle County Regional Airport'}, {'IATA_CODE': 'EKO', 'AIRPORT': 'Elko Regional Airport'}, {'IATA_CODE': 'ELM', 'AIRPORT': 'Elmira/Corning Regional Airport'}, {'IATA_CODE': 'ELP', 'AIRPORT': 'El Paso International Airport'}, {'IATA_CODE': 'ERI', 'AIRPORT': 'Erie International Airport'}, {'IATA_CODE': 'ESC', 'AIRPORT': 'Delta County Airport'}, {'IATA_CODE': 'EUG', 'AIRPORT': 'Eugene Airport\\xa0(Mahlon Sweet Field)'}, {'IATA_CODE': 'EVV', 'AIRPORT': 'Evansville Regional Airport'}, {'IATA_CODE': 'EWN', 'AIRPORT': 'Coastal Carolina Regional Airport\\xa0(Craven County Regional)'}, {'IATA_CODE': 'EWR', 'AIRPORT': 'Newark Liberty International Airport'}, {'IATA_CODE': 'EYW', 'AIRPORT': 'Key West International Airport'}, {'IATA_CODE': 'FAI', 'AIRPORT': 'Fairbanks International Airport'}, {'IATA_CODE': 'FAR', 'AIRPORT': 'Hector International Airport'}, {'IATA_CODE': 'FAT', 'AIRPORT': 'Fresno Yosemite International Airport'}, {'IATA_CODE': 'FAY', 'AIRPORT': 'Fayetteville Regional Airport'}, {'IATA_CODE': 'FCA', 'AIRPORT': 'Glacier Park International Airport'}, {'IATA_CODE': 'FLG', 'AIRPORT': 'Flagstaff Pulliam Airport'}, {'IATA_CODE': 'FLL', 'AIRPORT': 'Fort Lauderdale-Hollywood International Airport'}, {'IATA_CODE': 'FNT', 'AIRPORT': 'Bishop International Airport'}, {'IATA_CODE': 'FSD', 'AIRPORT': 'Sioux Falls Regional Airport'}, {'IATA_CODE': 'FSM', 'AIRPORT': 'Fort Smith Regional Airport'}, {'IATA_CODE': 'FWA', 'AIRPORT': 'Fort Wayne International Airport'}, {'IATA_CODE': 'GCC', 'AIRPORT': 'Gillette-Campbell County Airport'}, {'IATA_CODE': 'GCK', 'AIRPORT': 'Garden City Regional Airport'}, {'IATA_CODE': 'GEG', 'AIRPORT': 'Spokane International Airport'}, {'IATA_CODE': 'GFK', 'AIRPORT': 'Grand Forks International Airport'}, {'IATA_CODE': 'GGG', 'AIRPORT': 'East Texas Regional Airport'}, {'IATA_CODE': 'GJT', 'AIRPORT': 'Grand Junction Regional Airport\\xa0(Walker Field)'}, {'IATA_CODE': 'GNV', 'AIRPORT': 'Gainesville Regional Airport'}, {'IATA_CODE': 'GPT', 'AIRPORT': 'Gulfport-Biloxi International Airport'}, {'IATA_CODE': 'GRB', 'AIRPORT': 'Green Bay-Austin Straubel International Airport'}, {'IATA_CODE': 'GRI', 'AIRPORT': 'Central Nebraska Regional Airport'}, {'IATA_CODE': 'GRK', 'AIRPORT': 'Killeen-Fort Hood Regional Airport'}, {'IATA_CODE': 'GRR', 'AIRPORT': 'Gerald R. Ford International Airport'}, {'IATA_CODE': 'GSO', 'AIRPORT': 'Piedmont Triad International Airport'}, {'IATA_CODE': 'GSP', 'AIRPORT': 'Greenville-Spartanburg International Airport'}, {'IATA_CODE': 'GST', 'AIRPORT': 'Gustavus Airport'}, {'IATA_CODE': 'GTF', 'AIRPORT': 'Great Falls International Airport'}, {'IATA_CODE': 'GTR', 'AIRPORT': 'Golden Triangle Regional Airport'}, {'IATA_CODE': 'GUC', 'AIRPORT': 'Gunnison-Crested Butte Regional Airport'}, {'IATA_CODE': 'GUM', 'AIRPORT': 'Guam International Airport'}, {'IATA_CODE': 'HDN', 'AIRPORT': 'Yampa Valley Airport\\xa0(Yampa Valley Regional)'}, {'IATA_CODE': 'HIB', 'AIRPORT': 'Range Regional Airport\\xa0(Chisholm-Hibbing Airport)'}, {'IATA_CODE': 'HLN', 'AIRPORT': 'Helena Regional Airport'}, {'IATA_CODE': 'HNL', 'AIRPORT': 'Honolulu International Airport'}, {'IATA_CODE': 'HOB', 'AIRPORT': 'Lea County Regional Airport'}, {'IATA_CODE': 'HOU', 'AIRPORT': 'William P. Hobby Airport'}, {'IATA_CODE': 'HPN', 'AIRPORT': 'Westchester County Airport'}, {'IATA_CODE': 'HRL', 'AIRPORT': 'Valley International Airport'}, {'IATA_CODE': 'HSV', 'AIRPORT': 'Huntsville International Airport'}, {'IATA_CODE': 'HYA', 'AIRPORT': 'Barnstable Municipal Airport'}, {'IATA_CODE': 'HYS', 'AIRPORT': 'Hays Regional Airport'}, {'IATA_CODE': 'IAD', 'AIRPORT': 'Washington Dulles International Airport'}, {'IATA_CODE': 'IAG', 'AIRPORT': 'Niagara Falls International Airport'}, {'IATA_CODE': 'IAH', 'AIRPORT': 'George Bush Intercontinental Airport'}, {'IATA_CODE': 'ICT', 'AIRPORT': 'Wichita Dwight D. Eisenhower National Airport\\xa0(Wichita Mid-Continent Airport)'}, {'IATA_CODE': 'IDA', 'AIRPORT': 'Idaho Falls Regional Airport'}, {'IATA_CODE': 'ILG', 'AIRPORT': 'Wilmington Airport'}, {'IATA_CODE': 'ILM', 'AIRPORT': 'Wilmington International Airport'}, {'IATA_CODE': 'IMT', 'AIRPORT': 'Ford Airport'}, {'IATA_CODE': 'IND', 'AIRPORT': 'Indianapolis International Airport'}, {'IATA_CODE': 'INL', 'AIRPORT': 'Falls International Airport'}, {'IATA_CODE': 'ISN', 'AIRPORT': 'Sloulin Field International Airport'}, {'IATA_CODE': 'ISP', 'AIRPORT': 'Long Island MacArthur Airport'}, {'IATA_CODE': 'ITH', 'AIRPORT': 'Ithaca Tompkins Regional Airport'}, {'IATA_CODE': 'ITO', 'AIRPORT': 'Hilo International Airport'}, {'IATA_CODE': 'JAC', 'AIRPORT': 'Jackson Hole Airport'}, {'IATA_CODE': 'JAN', 'AIRPORT': 'Jackson-Evers International Airport'}, {'IATA_CODE': 'JAX', 'AIRPORT': 'Jacksonville International Airport'}, {'IATA_CODE': 'JFK', 'AIRPORT': 'John F. Kennedy International Airport\\xa0(New York International Airport)'}, {'IATA_CODE': 'JLN', 'AIRPORT': 'Joplin Regional Airport'}, {'IATA_CODE': 'JMS', 'AIRPORT': 'Jamestown Regional Airport'}, {'IATA_CODE': 'JNU', 'AIRPORT': 'Juneau International Airport'}, {'IATA_CODE': 'KOA', 'AIRPORT': 'Kona International Airport at Keahole'}, {'IATA_CODE': 'KTN', 'AIRPORT': 'Ketchikan International Airport'}, {'IATA_CODE': 'LAN', 'AIRPORT': 'Capital Region International Airport\\xa0( Lansing Capital City)'}, {'IATA_CODE': 'LAR', 'AIRPORT': 'Laramie Regional Airport'}, {'IATA_CODE': 'LAS', 'AIRPORT': 'McCarran International Airport'}, {'IATA_CODE': 'LAW', 'AIRPORT': 'Lawton-Fort Sill Regional Airport'}, {'IATA_CODE': 'LAX', 'AIRPORT': 'Los Angeles International Airport'}, {'IATA_CODE': 'LBB', 'AIRPORT': 'Lubbock Preston Smith International Airport'}, {'IATA_CODE': 'LBE', 'AIRPORT': 'Arnold Palmer Regional Airport'}, {'IATA_CODE': 'LCH', 'AIRPORT': 'Lake Charles Regional Airport'}, {'IATA_CODE': 'LEX', 'AIRPORT': 'Blue Grass Airport'}, {'IATA_CODE': 'LFT', 'AIRPORT': 'Lafayette Regional Airport'}, {'IATA_CODE': 'LGA', 'AIRPORT': 'LaGuardia Airport (Marine Air Terminal)'}, {'IATA_CODE': 'LGB', 'AIRPORT': 'Long Beach Airport\\xa0(Daugherty Field)'}, {'IATA_CODE': 'LIH', 'AIRPORT': 'Lihue Airport'}, {'IATA_CODE': 'LIT', 'AIRPORT': 'Bill and Hillary Clinton National Airport\\xa0(Adams Field)'}, {'IATA_CODE': 'LNK', 'AIRPORT': 'Lincoln Airport\\xa0(Lincoln Municipal)'}, {'IATA_CODE': 'LRD', 'AIRPORT': 'Laredo International Airport'}, {'IATA_CODE': 'LSE', 'AIRPORT': 'La Crosse Regional Airport'}, {'IATA_CODE': 'LWS', 'AIRPORT': 'Lewiston-Nez Perce County Airport'}, {'IATA_CODE': 'MAF', 'AIRPORT': 'Midland International Airport'}, {'IATA_CODE': 'MBS', 'AIRPORT': 'MBS International Airport'}, {'IATA_CODE': 'MCI', 'AIRPORT': 'Kansas City International Airport'}, {'IATA_CODE': 'MCO', 'AIRPORT': 'Orlando International Airport'}, {'IATA_CODE': 'MDT', 'AIRPORT': 'Harrisburg International Airport'}, {'IATA_CODE': 'MDW', 'AIRPORT': 'Chicago Midway International Airport'}, {'IATA_CODE': 'MEI', 'AIRPORT': 'Meridian Regional Airport'}, {'IATA_CODE': 'MEM', 'AIRPORT': 'Memphis International Airport'}, {'IATA_CODE': 'MFE', 'AIRPORT': 'McAllen-Miller International Airport\\xa0(McAllen Miller International)'}, {'IATA_CODE': 'MFR', 'AIRPORT': 'Rogue Valley International Airport'}, {'IATA_CODE': 'MGM', 'AIRPORT': 'Montgomery Regional Airport'}, {'IATA_CODE': 'MHK', 'AIRPORT': 'Manhattan Regional Airport'}, {'IATA_CODE': 'MHT', 'AIRPORT': 'Manchester-Boston Regional Airport'}, {'IATA_CODE': 'MIA', 'AIRPORT': 'Miami International Airport'}, {'IATA_CODE': 'MKE', 'AIRPORT': 'General Mitchell International Airport'}, {'IATA_CODE': 'MKG', 'AIRPORT': 'Muskegon County Airport'}, {'IATA_CODE': 'MLB', 'AIRPORT': 'Melbourne International Airport'}, {'IATA_CODE': 'MLI', 'AIRPORT': 'Quad City International Airport'}, {'IATA_CODE': 'MLU', 'AIRPORT': 'Monroe Regional Airport'}, {'IATA_CODE': 'MMH', 'AIRPORT': 'Mammoth Yosemite Airport'}, {'IATA_CODE': 'MOB', 'AIRPORT': 'Mobile Regional Airport'}, {'IATA_CODE': 'MOT', 'AIRPORT': 'Minot International Airport'}, {'IATA_CODE': 'MQT', 'AIRPORT': 'Sawyer International Airport'}, {'IATA_CODE': 'MRY', 'AIRPORT': 'Monterey Regional Airport\\xa0(Monterey Peninsula Airport)'}, {'IATA_CODE': 'MSN', 'AIRPORT': 'Dane County Regional Airport'}, {'IATA_CODE': 'MSO', 'AIRPORT': 'Missoula International Airport'}, {'IATA_CODE': 'MSP', 'AIRPORT': 'Minneapolis-Saint Paul International Airport'}, {'IATA_CODE': 'MSY', 'AIRPORT': 'Louis Armstrong New Orleans International Airport'}, {'IATA_CODE': 'MTJ', 'AIRPORT': 'Montrose Regional Airport'}, {'IATA_CODE': 'MVY', 'AIRPORT': \"Martha's Vineyard Airport\"}, {'IATA_CODE': 'MYR', 'AIRPORT': 'Myrtle Beach International Airport'}, {'IATA_CODE': 'OAJ', 'AIRPORT': 'Albert J. Ellis Airport'}, {'IATA_CODE': 'OAK', 'AIRPORT': 'Oakland International Airport'}, {'IATA_CODE': 'OGG', 'AIRPORT': 'Kahului Airport'}, {'IATA_CODE': 'OKC', 'AIRPORT': 'Will Rogers World Airport'}, {'IATA_CODE': 'OMA', 'AIRPORT': 'Eppley Airfield'}, {'IATA_CODE': 'OME', 'AIRPORT': 'Nome Airport'}, {'IATA_CODE': 'ONT', 'AIRPORT': 'Ontario International Airport'}, {'IATA_CODE': 'ORD', 'AIRPORT': \"Chicago O'Hare International Airport\"}, {'IATA_CODE': 'ORF', 'AIRPORT': 'Norfolk International Airport'}, {'IATA_CODE': 'ORH', 'AIRPORT': 'Worcester Regional Airport'}, {'IATA_CODE': 'OTH', 'AIRPORT': 'Southwest Oregon Regional Airport\\xa0(North Bend Municipal)'}, {'IATA_CODE': 'OTZ', 'AIRPORT': 'Ralph Wien Memorial Airport'}, {'IATA_CODE': 'PAH', 'AIRPORT': 'Barkley Regional Airport'}, {'IATA_CODE': 'PBG', 'AIRPORT': 'Plattsburgh International Airport'}, {'IATA_CODE': 'PBI', 'AIRPORT': 'Palm Beach International Airport'}, {'IATA_CODE': 'PDX', 'AIRPORT': 'Portland International Airport'}, {'IATA_CODE': 'PHF', 'AIRPORT': 'Newport News/Williamsburg International Airport'}, {'IATA_CODE': 'PHL', 'AIRPORT': 'Philadelphia International Airport'}, {'IATA_CODE': 'PHX', 'AIRPORT': 'Phoenix Sky Harbor International Airport'}, {'IATA_CODE': 'PIA', 'AIRPORT': 'General Wayne A. Downing Peoria International Airport'}, {'IATA_CODE': 'PIB', 'AIRPORT': 'Hattiesburg-Laurel Regional Airport'}, {'IATA_CODE': 'PIH', 'AIRPORT': 'Pocatello Regional Airport'}, {'IATA_CODE': 'PIT', 'AIRPORT': 'Pittsburgh International Airport'}, {'IATA_CODE': 'PLN', 'AIRPORT': 'Pellston Regional Airport of Emmet County'}, {'IATA_CODE': 'PNS', 'AIRPORT': 'Pensacola International Airport\\xa0(Pensacola Gulf Coast Regional Airport)'}, {'IATA_CODE': 'PPG', 'AIRPORT': 'Pago Pago International Airport (Tafuna Airport)'}, {'IATA_CODE': 'PSC', 'AIRPORT': 'Tri-Cities Airport'}, {'IATA_CODE': 'PSE', 'AIRPORT': 'Mercedita Airport'}, {'IATA_CODE': 'PSG', 'AIRPORT': 'Petersburg James A. Johnson Airport'}, {'IATA_CODE': 'PSP', 'AIRPORT': 'Palm Springs International Airport'}, {'IATA_CODE': 'PUB', 'AIRPORT': 'Pueblo Memorial Airport'}, {'IATA_CODE': 'PVD', 'AIRPORT': 'Theodore Francis Green State Airport'}, {'IATA_CODE': 'PWM', 'AIRPORT': 'Portland International Jetport'}, {'IATA_CODE': 'RAP', 'AIRPORT': 'Rapid City Regional Airport'}, {'IATA_CODE': 'RDD', 'AIRPORT': 'Redding Municipal Airport'}, {'IATA_CODE': 'RDM', 'AIRPORT': 'Redmond Municipal Airport\\xa0(Roberts Field)'}, {'IATA_CODE': 'RDU', 'AIRPORT': 'Raleigh-Durham International Airport'}, {'IATA_CODE': 'RHI', 'AIRPORT': 'Rhinelander-Oneida County Airport'}, {'IATA_CODE': 'RIC', 'AIRPORT': 'Richmond International Airport'}, {'IATA_CODE': 'RKS', 'AIRPORT': 'Rock Springs-Sweetwater County Airport'}, {'IATA_CODE': 'RNO', 'AIRPORT': 'Reno/Tahoe International Airport'}, {'IATA_CODE': 'ROA', 'AIRPORT': 'Roanoke Regional Airport\\xa0(Woodrum Field)'}, {'IATA_CODE': 'ROC', 'AIRPORT': 'Greater Rochester International Airport'}, {'IATA_CODE': 'ROW', 'AIRPORT': 'Roswell International Air Center'}, {'IATA_CODE': 'RST', 'AIRPORT': 'Rochester International Airport'}, {'IATA_CODE': 'RSW', 'AIRPORT': 'Southwest Florida International Airport'}, {'IATA_CODE': 'SAF', 'AIRPORT': 'Santa Fe Municipal Airport'}, {'IATA_CODE': 'SAN', 'AIRPORT': 'San Diego International Airport\\xa0(Lindbergh Field)'}, {'IATA_CODE': 'SAT', 'AIRPORT': 'San Antonio International Airport'}, {'IATA_CODE': 'SAV', 'AIRPORT': 'Savannah/Hilton Head International Airport'}, {'IATA_CODE': 'SBA', 'AIRPORT': 'Santa Barbara Municipal Airport\\xa0(Santa Barbara Airport)'}, {'IATA_CODE': 'SBN', 'AIRPORT': 'South Bend International Airport\\xa0(South Bend Regional)'}, {'IATA_CODE': 'SBP', 'AIRPORT': 'San Luis Obispo County Regional Airport\\xa0(McChesney Field)'}, {'IATA_CODE': 'SCC', 'AIRPORT': 'Deadhorse Airport\\xa0(Prudhoe Bay Airport)'}, {'IATA_CODE': 'SCE', 'AIRPORT': 'University Park Airport'}, {'IATA_CODE': 'SDF', 'AIRPORT': 'Louisville International Airport\\xa0(Standiford Field)'}, {'IATA_CODE': 'SEA', 'AIRPORT': 'Seattle-Tacoma International Airport'}, {'IATA_CODE': 'SFO', 'AIRPORT': 'San Francisco International Airport'}, {'IATA_CODE': 'SGF', 'AIRPORT': 'Springfield-Branson National Airport'}, {'IATA_CODE': 'SGU', 'AIRPORT': 'St. George Regional Airport'}, {'IATA_CODE': 'SHV', 'AIRPORT': 'Shreveport Regional Airport'}, {'IATA_CODE': 'SIT', 'AIRPORT': 'Sitka Rocky Gutierrez Airport'}, {'IATA_CODE': 'SJC', 'AIRPORT': 'Norman Y. Mineta San José International Airport'}, {'IATA_CODE': 'SJT', 'AIRPORT': 'San Angelo Regional Airport\\xa0(Mathis Field)'}, {'IATA_CODE': 'SJU', 'AIRPORT': 'Luis Muñoz Marín International Airport'}, {'IATA_CODE': 'SLC', 'AIRPORT': 'Salt Lake City International Airport'}, {'IATA_CODE': 'SMF', 'AIRPORT': 'Sacramento International Airport'}, {'IATA_CODE': 'SMX', 'AIRPORT': 'Santa Maria Public Airport\\xa0(Capt G. Allan Hancock Field)'}, {'IATA_CODE': 'SNA', 'AIRPORT': 'John Wayne Airport\\xa0(Orange County Airport)'}, {'IATA_CODE': 'SPI', 'AIRPORT': 'Abraham Lincoln Capital Airport'}, {'IATA_CODE': 'SPS', 'AIRPORT': 'Wichita Falls Municipal Airport/Sheppard AFB'}, {'IATA_CODE': 'SRQ', 'AIRPORT': 'Sarasota-Bradenton International Airport'}, {'IATA_CODE': 'STC', 'AIRPORT': 'St. Cloud Regional Airport'}, {'IATA_CODE': 'STL', 'AIRPORT': 'St. Louis International Airport at Lambert Field'}, {'IATA_CODE': 'STT', 'AIRPORT': 'Cyril E. King Airport'}, {'IATA_CODE': 'STX', 'AIRPORT': 'Henry E. Rohlsen Airport'}, {'IATA_CODE': 'SUN', 'AIRPORT': 'Friedman Memorial Airport'}, {'IATA_CODE': 'SUX', 'AIRPORT': 'Sioux Gateway Airport'}, {'IATA_CODE': 'SWF', 'AIRPORT': 'Stewart International Airport'}, {'IATA_CODE': 'SYR', 'AIRPORT': 'Syracuse Hancock International Airport'}, {'IATA_CODE': 'TLH', 'AIRPORT': 'Tallahassee International Airport'}, {'IATA_CODE': 'TOL', 'AIRPORT': 'Toledo Express Airport'}, {'IATA_CODE': 'TPA', 'AIRPORT': 'Tampa International Airport'}, {'IATA_CODE': 'TRI', 'AIRPORT': 'Tri-Cities Regional Airport'}, {'IATA_CODE': 'TTN', 'AIRPORT': 'Trenton Mercer Airport'}, {'IATA_CODE': 'TUL', 'AIRPORT': 'Tulsa International Airport'}, {'IATA_CODE': 'TUS', 'AIRPORT': 'Tucson International Airport'}, {'IATA_CODE': 'TVC', 'AIRPORT': 'Cherry Capital Airport'}, {'IATA_CODE': 'TWF', 'AIRPORT': 'Magic Valley Regional Airport\\xa0(Joslin Field)'}, {'IATA_CODE': 'TXK', 'AIRPORT': 'Texarkana Regional Airport\\xa0(Webb Field)'}, {'IATA_CODE': 'TYR', 'AIRPORT': 'Tyler Pounds Regional Airport'}, {'IATA_CODE': 'TYS', 'AIRPORT': 'McGhee Tyson Airport'}, {'IATA_CODE': 'UST', 'AIRPORT': 'Northeast Florida Regional Airport\\xa0(St. Augustine Airport)'}, {'IATA_CODE': 'VEL', 'AIRPORT': 'Valdez Airport'}, {'IATA_CODE': 'VLD', 'AIRPORT': 'Valdosta Regional Airport'}, {'IATA_CODE': 'VPS', 'AIRPORT': 'Destin-Fort Walton Beach Airport/Eglin AFB'}, {'IATA_CODE': 'WRG', 'AIRPORT': 'Wrangell Airport'}, {'IATA_CODE': 'WYS', 'AIRPORT': 'Westerly State Airport'}, {'IATA_CODE': 'XNA', 'AIRPORT': 'Northwest Arkansas Regional Airport'}, {'IATA_CODE': 'YAK', 'AIRPORT': 'Yakutat Airport'}, {'IATA_CODE': 'YUM', 'AIRPORT': 'Yuma International Airport'}]\n"
          ]
        }
      ]
    },
    {
      "cell_type": "code",
      "source": [
        "from google.colab import drive\n",
        "drive.mount('/content/drive')"
      ],
      "metadata": {
        "colab": {
          "base_uri": "https://localhost:8080/"
        },
        "id": "HEXPzqD_cDaD",
        "outputId": "38f5f87f-2834-4ded-97ec-58a655f893f8"
      },
      "execution_count": 3,
      "outputs": [
        {
          "output_type": "stream",
          "name": "stdout",
          "text": [
            "Mounted at /content/drive\n"
          ]
        }
      ]
    },
    {
      "cell_type": "code",
      "source": [
        "n=pd.read_csv('/content/drive/My Drive/flights.csv')\n",
        "#"
      ],
      "metadata": {
        "id": "kp2lj60UcL4A",
        "colab": {
          "base_uri": "https://localhost:8080/"
        },
        "outputId": "b6f80926-0f3e-4ca2-ddf1-5bf3220304b6"
      },
      "execution_count": 4,
      "outputs": [
        {
          "output_type": "stream",
          "name": "stderr",
          "text": [
            "/usr/local/lib/python3.7/dist-packages/IPython/core/interactiveshell.py:2882: DtypeWarning: Columns (7,8) have mixed types.Specify dtype option on import or set low_memory=False.\n",
            "  exec(code_obj, self.user_global_ns, self.user_ns)\n"
          ]
        }
      ]
    },
    {
      "cell_type": "code",
      "source": [
        "n.shape"
      ],
      "metadata": {
        "colab": {
          "base_uri": "https://localhost:8080/"
        },
        "id": "zhURGqrmaz9j",
        "outputId": "bc79a600-6130-49e5-e895-8a314fdbd060"
      },
      "execution_count": null,
      "outputs": [
        {
          "output_type": "execute_result",
          "data": {
            "text/plain": [
              "(5819079, 31)"
            ]
          },
          "metadata": {},
          "execution_count": 32
        }
      ]
    },
    {
      "cell_type": "markdown",
      "source": [
        "Random selection of data\n"
      ],
      "metadata": {
        "id": "M7ShneKEYRz6"
      }
    },
    {
      "cell_type": "code",
      "source": [
        "data=n.sample(n=10000)"
      ],
      "metadata": {
        "id": "HIxFOqYialkV"
      },
      "execution_count": 224,
      "outputs": []
    },
    {
      "cell_type": "code",
      "source": [
        "data.to_csv(\"flight_sample.csv\",sep=\",\")"
      ],
      "metadata": {
        "id": "0AYB0zgMn6lH"
      },
      "execution_count": null,
      "outputs": []
    },
    {
      "cell_type": "code",
      "source": [
        "#data=pd.read_csv(\"flightlakh.csv\")\n",
        "data.head()\n",
        "data.shape"
      ],
      "metadata": {
        "colab": {
          "base_uri": "https://localhost:8080/"
        },
        "id": "6jj7RVFUI9QE",
        "outputId": "9cebcfc8-9cef-429b-d881-cf6809dd18b1"
      },
      "execution_count": null,
      "outputs": [
        {
          "output_type": "execute_result",
          "data": {
            "text/plain": [
              "(10000, 31)"
            ]
          },
          "metadata": {},
          "execution_count": 282
        }
      ]
    },
    {
      "cell_type": "code",
      "source": [
        "data['DATE'] = pd.to_datetime(data[['YEAR','MONTH', 'DAY']])\n",
        "data['DATE']"
      ],
      "metadata": {
        "colab": {
          "base_uri": "https://localhost:8080/"
        },
        "id": "LyhocFU_JGg9",
        "outputId": "6ca86359-efbb-4610-9b73-3ca7f49e89d4"
      },
      "execution_count": 134,
      "outputs": [
        {
          "output_type": "execute_result",
          "data": {
            "text/plain": [
              "68555     2015-01-05\n",
              "523440    2015-02-04\n",
              "2354233   2015-05-29\n",
              "4395130   2015-10-01\n",
              "1373409   2015-03-30\n",
              "             ...    \n",
              "3595169   2015-08-12\n",
              "394384    2015-01-26\n",
              "3762727   2015-08-22\n",
              "860379    2015-02-26\n",
              "35436     2015-01-03\n",
              "Name: DATE, Length: 10000, dtype: datetime64[ns]"
            ]
          },
          "metadata": {},
          "execution_count": 134
        }
      ]
    },
    {
      "cell_type": "code",
      "source": [
        "print(data['AIRLINE'])"
      ],
      "metadata": {
        "colab": {
          "base_uri": "https://localhost:8080/"
        },
        "id": "TK1fq4iHwJDw",
        "outputId": "cec2f6ce-2cc6-41a7-a448-1021c2bb96c2"
      },
      "execution_count": 7,
      "outputs": [
        {
          "output_type": "stream",
          "name": "stdout",
          "text": [
            "5008897    UA\n",
            "1456084    MQ\n",
            "3131825    WN\n",
            "3537475    WN\n",
            "3628172    AA\n",
            "           ..\n",
            "1621102    WN\n",
            "1128134    HA\n",
            "3303163    WN\n",
            "3648843    AA\n",
            "3696531    NK\n",
            "Name: AIRLINE, Length: 10000, dtype: object\n"
          ]
        }
      ]
    },
    {
      "cell_type": "code",
      "source": [
        "data=data[data['ORIGIN_AIRPORT'].apply(lambda x: not (str(x).isdigit()))]\n",
        "data=data[data['DESTINATION_AIRPORT'].apply(lambda x: not (str(x).isdigit()))]\n",
        "data=data[data['AIRLINE'].apply(lambda x: not (str(x).isdigit()))]\n",
        "\n",
        "\n",
        "#data=data[not data.ORIGIN_AIRPORT.isdigit()]"
      ],
      "metadata": {
        "id": "kKPVxPQvWZFe"
      },
      "execution_count": 225,
      "outputs": []
    },
    {
      "cell_type": "code",
      "source": [
        "#airlines_le = LabelEncoder()\n",
        "#airports_le = LabelEncoder()\n",
        "data['AIRLINE']=airlines_le.transform(data['AIRLINE'].astype(str))\n",
        "data['ORIGIN_AIRPORT']=airports_le.transform(data['ORIGIN_AIRPORT'].astype(str))\n",
        "data['DESTINATION_AIRPORT']=airports_le.transform(data['DESTINATION_AIRPORT'].astype(str))\n",
        "\n",
        "\n",
        "\n",
        "#data['TAIL_NUMBER']=labelEncoder.fit_transform(data['TAIL_NUMBER'])"
      ],
      "metadata": {
        "id": "78JXQ_rEJKvS"
      },
      "execution_count": 226,
      "outputs": []
    },
    {
      "cell_type": "code",
      "source": [
        "pickle.dump(labelEncoder,open('encoder.pkl','wb'))"
      ],
      "metadata": {
        "id": "IxvPBNYsuaid"
      },
      "execution_count": null,
      "outputs": []
    },
    {
      "cell_type": "code",
      "source": [
        "def conv_time(time_val):\n",
        "   if pd.isnull(time_val):\n",
        "     return np.nan\n",
        "   else:\n",
        "      if time_val==2400:\n",
        "       time_val=0\n",
        "      time_val=\"{0:04d}\".format(int(time_val))\n",
        "      time_formatted=datetime.time(int(time_val[0:2]),int(time_val[2:4]))\n",
        "   return time_formatted"
      ],
      "metadata": {
        "id": "R8IuG-ebJOyg"
      },
      "execution_count": null,
      "outputs": []
    },
    {
      "cell_type": "code",
      "source": [
        "data['ARRIVAL_TIME']=data['ARRIVAL_TIME'].apply(conv_time)\n",
        "data['DEPARTURE_TIME']=data['DEPARTURE_TIME'].apply(conv_time)\n",
        "data['SCHEDULED_DEPARTURE']=data['SCHEDULED_DEPARTURE'].apply(conv_time)\n",
        "data['WHEELS_OFF']=data['WHEELS_OFF'].apply(conv_time)\n",
        "data['WHEELS_ON']=data['WHEELS_ON'].apply(conv_time)\n",
        "data['SCHEDULED_ARRIVAL']=data['SCHEDULED_ARRIVAL'].apply(conv_time)"
      ],
      "metadata": {
        "id": "k6RovsOcJSM1",
        "colab": {
          "base_uri": "https://localhost:8080/",
          "height": 246
        },
        "outputId": "f5407a1a-e158-4ce3-c3a6-8a35db529a93"
      },
      "execution_count": null,
      "outputs": [
        {
          "output_type": "error",
          "ename": "NameError",
          "evalue": "ignored",
          "traceback": [
            "\u001b[0;31m---------------------------------------------------------------------------\u001b[0m",
            "\u001b[0;31mNameError\u001b[0m                                 Traceback (most recent call last)",
            "\u001b[0;32m<ipython-input-33-26a38ced3ecb>\u001b[0m in \u001b[0;36m<module>\u001b[0;34m()\u001b[0m\n\u001b[0;32m----> 1\u001b[0;31m \u001b[0mdata\u001b[0m\u001b[0;34m[\u001b[0m\u001b[0;34m'ARRIVAL_TIME'\u001b[0m\u001b[0;34m]\u001b[0m\u001b[0;34m=\u001b[0m\u001b[0mdata\u001b[0m\u001b[0;34m[\u001b[0m\u001b[0;34m'ARRIVAL_TIME'\u001b[0m\u001b[0;34m]\u001b[0m\u001b[0;34m.\u001b[0m\u001b[0mapply\u001b[0m\u001b[0;34m(\u001b[0m\u001b[0mconv_time\u001b[0m\u001b[0;34m)\u001b[0m\u001b[0;34m\u001b[0m\u001b[0;34m\u001b[0m\u001b[0m\n\u001b[0m\u001b[1;32m      2\u001b[0m \u001b[0mdata\u001b[0m\u001b[0;34m[\u001b[0m\u001b[0;34m'DEPARTURE_TIME'\u001b[0m\u001b[0;34m]\u001b[0m\u001b[0;34m=\u001b[0m\u001b[0mdata\u001b[0m\u001b[0;34m[\u001b[0m\u001b[0;34m'DEPARTURE_TIME'\u001b[0m\u001b[0;34m]\u001b[0m\u001b[0;34m.\u001b[0m\u001b[0mapply\u001b[0m\u001b[0;34m(\u001b[0m\u001b[0mconv_time\u001b[0m\u001b[0;34m)\u001b[0m\u001b[0;34m\u001b[0m\u001b[0;34m\u001b[0m\u001b[0m\n\u001b[1;32m      3\u001b[0m \u001b[0mdata\u001b[0m\u001b[0;34m[\u001b[0m\u001b[0;34m'SCHEDULED_DEPARTURE'\u001b[0m\u001b[0;34m]\u001b[0m\u001b[0;34m=\u001b[0m\u001b[0mdata\u001b[0m\u001b[0;34m[\u001b[0m\u001b[0;34m'SCHEDULED_DEPARTURE'\u001b[0m\u001b[0;34m]\u001b[0m\u001b[0;34m.\u001b[0m\u001b[0mapply\u001b[0m\u001b[0;34m(\u001b[0m\u001b[0mconv_time\u001b[0m\u001b[0;34m)\u001b[0m\u001b[0;34m\u001b[0m\u001b[0;34m\u001b[0m\u001b[0m\n\u001b[1;32m      4\u001b[0m \u001b[0mdata\u001b[0m\u001b[0;34m[\u001b[0m\u001b[0;34m'WHEELS_OFF'\u001b[0m\u001b[0;34m]\u001b[0m\u001b[0;34m=\u001b[0m\u001b[0mdata\u001b[0m\u001b[0;34m[\u001b[0m\u001b[0;34m'WHEELS_OFF'\u001b[0m\u001b[0;34m]\u001b[0m\u001b[0;34m.\u001b[0m\u001b[0mapply\u001b[0m\u001b[0;34m(\u001b[0m\u001b[0mconv_time\u001b[0m\u001b[0;34m)\u001b[0m\u001b[0;34m\u001b[0m\u001b[0;34m\u001b[0m\u001b[0m\n\u001b[1;32m      5\u001b[0m \u001b[0mdata\u001b[0m\u001b[0;34m[\u001b[0m\u001b[0;34m'WHEELS_ON'\u001b[0m\u001b[0;34m]\u001b[0m\u001b[0;34m=\u001b[0m\u001b[0mdata\u001b[0m\u001b[0;34m[\u001b[0m\u001b[0;34m'WHEELS_ON'\u001b[0m\u001b[0;34m]\u001b[0m\u001b[0;34m.\u001b[0m\u001b[0mapply\u001b[0m\u001b[0;34m(\u001b[0m\u001b[0mconv_time\u001b[0m\u001b[0;34m)\u001b[0m\u001b[0;34m\u001b[0m\u001b[0;34m\u001b[0m\u001b[0m\n",
            "\u001b[0;31mNameError\u001b[0m: name 'conv_time' is not defined"
          ]
        }
      ]
    },
    {
      "cell_type": "code",
      "source": [
        "data.loc[data['AIRLINE_DELAY'].notnull(),['AIRLINE_DELAY','AIR_SYSTEM_DELAY','SECURITY_DELAY','LATE_AIRCRAFT_DELAY','WEATHER_DELAY']]"
      ],
      "metadata": {
        "colab": {
          "base_uri": "https://localhost:8080/",
          "height": 423
        },
        "id": "i3jpyBkgJV8p",
        "outputId": "af50c31f-8b37-48ee-f5be-4a691a8888a2"
      },
      "execution_count": 196,
      "outputs": [
        {
          "output_type": "execute_result",
          "data": {
            "text/plain": [
              "         AIRLINE_DELAY  AIR_SYSTEM_DELAY  SECURITY_DELAY  LATE_AIRCRAFT_DELAY  \\\n",
              "2410700            0.0               0.0             0.0                 26.0   \n",
              "5702206            0.0              10.0             0.0                  0.0   \n",
              "4160774            0.0              29.0             0.0                  0.0   \n",
              "535055            35.0               1.0             0.0                 16.0   \n",
              "1900314            0.0               1.0             0.0                 29.0   \n",
              "...                ...               ...             ...                  ...   \n",
              "5092136            4.0              56.0             0.0                  0.0   \n",
              "950968             0.0               0.0             0.0                175.0   \n",
              "1365328            0.0              23.0             0.0                  0.0   \n",
              "1450435            0.0               5.0             0.0                137.0   \n",
              "200977             0.0               0.0             0.0                  0.0   \n",
              "\n",
              "         WEATHER_DELAY  \n",
              "2410700            0.0  \n",
              "5702206          163.0  \n",
              "4160774            0.0  \n",
              "535055             0.0  \n",
              "1900314            0.0  \n",
              "...                ...  \n",
              "5092136            0.0  \n",
              "950968             0.0  \n",
              "1365328            0.0  \n",
              "1450435            0.0  \n",
              "200977            19.0  \n",
              "\n",
              "[1734 rows x 5 columns]"
            ],
            "text/html": [
              "\n",
              "  <div id=\"df-303496f9-190a-416d-9651-f8015ab05add\">\n",
              "    <div class=\"colab-df-container\">\n",
              "      <div>\n",
              "<style scoped>\n",
              "    .dataframe tbody tr th:only-of-type {\n",
              "        vertical-align: middle;\n",
              "    }\n",
              "\n",
              "    .dataframe tbody tr th {\n",
              "        vertical-align: top;\n",
              "    }\n",
              "\n",
              "    .dataframe thead th {\n",
              "        text-align: right;\n",
              "    }\n",
              "</style>\n",
              "<table border=\"1\" class=\"dataframe\">\n",
              "  <thead>\n",
              "    <tr style=\"text-align: right;\">\n",
              "      <th></th>\n",
              "      <th>AIRLINE_DELAY</th>\n",
              "      <th>AIR_SYSTEM_DELAY</th>\n",
              "      <th>SECURITY_DELAY</th>\n",
              "      <th>LATE_AIRCRAFT_DELAY</th>\n",
              "      <th>WEATHER_DELAY</th>\n",
              "    </tr>\n",
              "  </thead>\n",
              "  <tbody>\n",
              "    <tr>\n",
              "      <th>2410700</th>\n",
              "      <td>0.0</td>\n",
              "      <td>0.0</td>\n",
              "      <td>0.0</td>\n",
              "      <td>26.0</td>\n",
              "      <td>0.0</td>\n",
              "    </tr>\n",
              "    <tr>\n",
              "      <th>5702206</th>\n",
              "      <td>0.0</td>\n",
              "      <td>10.0</td>\n",
              "      <td>0.0</td>\n",
              "      <td>0.0</td>\n",
              "      <td>163.0</td>\n",
              "    </tr>\n",
              "    <tr>\n",
              "      <th>4160774</th>\n",
              "      <td>0.0</td>\n",
              "      <td>29.0</td>\n",
              "      <td>0.0</td>\n",
              "      <td>0.0</td>\n",
              "      <td>0.0</td>\n",
              "    </tr>\n",
              "    <tr>\n",
              "      <th>535055</th>\n",
              "      <td>35.0</td>\n",
              "      <td>1.0</td>\n",
              "      <td>0.0</td>\n",
              "      <td>16.0</td>\n",
              "      <td>0.0</td>\n",
              "    </tr>\n",
              "    <tr>\n",
              "      <th>1900314</th>\n",
              "      <td>0.0</td>\n",
              "      <td>1.0</td>\n",
              "      <td>0.0</td>\n",
              "      <td>29.0</td>\n",
              "      <td>0.0</td>\n",
              "    </tr>\n",
              "    <tr>\n",
              "      <th>...</th>\n",
              "      <td>...</td>\n",
              "      <td>...</td>\n",
              "      <td>...</td>\n",
              "      <td>...</td>\n",
              "      <td>...</td>\n",
              "    </tr>\n",
              "    <tr>\n",
              "      <th>5092136</th>\n",
              "      <td>4.0</td>\n",
              "      <td>56.0</td>\n",
              "      <td>0.0</td>\n",
              "      <td>0.0</td>\n",
              "      <td>0.0</td>\n",
              "    </tr>\n",
              "    <tr>\n",
              "      <th>950968</th>\n",
              "      <td>0.0</td>\n",
              "      <td>0.0</td>\n",
              "      <td>0.0</td>\n",
              "      <td>175.0</td>\n",
              "      <td>0.0</td>\n",
              "    </tr>\n",
              "    <tr>\n",
              "      <th>1365328</th>\n",
              "      <td>0.0</td>\n",
              "      <td>23.0</td>\n",
              "      <td>0.0</td>\n",
              "      <td>0.0</td>\n",
              "      <td>0.0</td>\n",
              "    </tr>\n",
              "    <tr>\n",
              "      <th>1450435</th>\n",
              "      <td>0.0</td>\n",
              "      <td>5.0</td>\n",
              "      <td>0.0</td>\n",
              "      <td>137.0</td>\n",
              "      <td>0.0</td>\n",
              "    </tr>\n",
              "    <tr>\n",
              "      <th>200977</th>\n",
              "      <td>0.0</td>\n",
              "      <td>0.0</td>\n",
              "      <td>0.0</td>\n",
              "      <td>0.0</td>\n",
              "      <td>19.0</td>\n",
              "    </tr>\n",
              "  </tbody>\n",
              "</table>\n",
              "<p>1734 rows × 5 columns</p>\n",
              "</div>\n",
              "      <button class=\"colab-df-convert\" onclick=\"convertToInteractive('df-303496f9-190a-416d-9651-f8015ab05add')\"\n",
              "              title=\"Convert this dataframe to an interactive table.\"\n",
              "              style=\"display:none;\">\n",
              "        \n",
              "  <svg xmlns=\"http://www.w3.org/2000/svg\" height=\"24px\"viewBox=\"0 0 24 24\"\n",
              "       width=\"24px\">\n",
              "    <path d=\"M0 0h24v24H0V0z\" fill=\"none\"/>\n",
              "    <path d=\"M18.56 5.44l.94 2.06.94-2.06 2.06-.94-2.06-.94-.94-2.06-.94 2.06-2.06.94zm-11 1L8.5 8.5l.94-2.06 2.06-.94-2.06-.94L8.5 2.5l-.94 2.06-2.06.94zm10 10l.94 2.06.94-2.06 2.06-.94-2.06-.94-.94-2.06-.94 2.06-2.06.94z\"/><path d=\"M17.41 7.96l-1.37-1.37c-.4-.4-.92-.59-1.43-.59-.52 0-1.04.2-1.43.59L10.3 9.45l-7.72 7.72c-.78.78-.78 2.05 0 2.83L4 21.41c.39.39.9.59 1.41.59.51 0 1.02-.2 1.41-.59l7.78-7.78 2.81-2.81c.8-.78.8-2.07 0-2.86zM5.41 20L4 18.59l7.72-7.72 1.47 1.35L5.41 20z\"/>\n",
              "  </svg>\n",
              "      </button>\n",
              "      \n",
              "  <style>\n",
              "    .colab-df-container {\n",
              "      display:flex;\n",
              "      flex-wrap:wrap;\n",
              "      gap: 12px;\n",
              "    }\n",
              "\n",
              "    .colab-df-convert {\n",
              "      background-color: #E8F0FE;\n",
              "      border: none;\n",
              "      border-radius: 50%;\n",
              "      cursor: pointer;\n",
              "      display: none;\n",
              "      fill: #1967D2;\n",
              "      height: 32px;\n",
              "      padding: 0 0 0 0;\n",
              "      width: 32px;\n",
              "    }\n",
              "\n",
              "    .colab-df-convert:hover {\n",
              "      background-color: #E2EBFA;\n",
              "      box-shadow: 0px 1px 2px rgba(60, 64, 67, 0.3), 0px 1px 3px 1px rgba(60, 64, 67, 0.15);\n",
              "      fill: #174EA6;\n",
              "    }\n",
              "\n",
              "    [theme=dark] .colab-df-convert {\n",
              "      background-color: #3B4455;\n",
              "      fill: #D2E3FC;\n",
              "    }\n",
              "\n",
              "    [theme=dark] .colab-df-convert:hover {\n",
              "      background-color: #434B5C;\n",
              "      box-shadow: 0px 1px 3px 1px rgba(0, 0, 0, 0.15);\n",
              "      filter: drop-shadow(0px 1px 2px rgba(0, 0, 0, 0.3));\n",
              "      fill: #FFFFFF;\n",
              "    }\n",
              "  </style>\n",
              "\n",
              "      <script>\n",
              "        const buttonEl =\n",
              "          document.querySelector('#df-303496f9-190a-416d-9651-f8015ab05add button.colab-df-convert');\n",
              "        buttonEl.style.display =\n",
              "          google.colab.kernel.accessAllowed ? 'block' : 'none';\n",
              "\n",
              "        async function convertToInteractive(key) {\n",
              "          const element = document.querySelector('#df-303496f9-190a-416d-9651-f8015ab05add');\n",
              "          const dataTable =\n",
              "            await google.colab.kernel.invokeFunction('convertToInteractive',\n",
              "                                                     [key], {});\n",
              "          if (!dataTable) return;\n",
              "\n",
              "          const docLinkHtml = 'Like what you see? Visit the ' +\n",
              "            '<a target=\"_blank\" href=https://colab.research.google.com/notebooks/data_table.ipynb>data table notebook</a>'\n",
              "            + ' to learn more about interactive tables.';\n",
              "          element.innerHTML = '';\n",
              "          dataTable['output_type'] = 'display_data';\n",
              "          await google.colab.output.renderOutput(dataTable, element);\n",
              "          const docLink = document.createElement('div');\n",
              "          docLink.innerHTML = docLinkHtml;\n",
              "          element.appendChild(docLink);\n",
              "        }\n",
              "      </script>\n",
              "    </div>\n",
              "  </div>\n",
              "  "
            ]
          },
          "metadata": {},
          "execution_count": 196
        }
      ]
    },
    {
      "cell_type": "code",
      "source": [
        "data['AIR_SYSTEM_DELAY'] = data['AIR_SYSTEM_DELAY'].fillna(0)\n",
        "data['SECURITY_DELAY'] = data['SECURITY_DELAY'].fillna(0)\n",
        "data['AIRLINE_DELAY'] = data['AIRLINE_DELAY'].fillna(0)\n",
        "data['LATE_AIRCRAFT_DELAY'] = data['LATE_AIRCRAFT_DELAY'].fillna(0)\n",
        "data['WEATHER_DELAY'] = data['WEATHER_DELAY'].fillna(0)"
      ],
      "metadata": {
        "id": "lHomm75fJBua"
      },
      "execution_count": 227,
      "outputs": []
    },
    {
      "cell_type": "code",
      "source": [
        "data.drop('CANCELLATION_REASON', axis = 1, inplace = True)"
      ],
      "metadata": {
        "id": "zxbVerDJJfJO"
      },
      "execution_count": 228,
      "outputs": []
    },
    {
      "cell_type": "code",
      "source": [
        "data=data.dropna(axis=0)\n"
      ],
      "metadata": {
        "id": "aB3SlhC7LKgE"
      },
      "execution_count": 229,
      "outputs": []
    },
    {
      "cell_type": "code",
      "source": [
        "data.isna().sum()"
      ],
      "metadata": {
        "colab": {
          "base_uri": "https://localhost:8080/"
        },
        "id": "2togDxgOLOOG",
        "outputId": "f9d6af9f-857f-49dc-c1ef-4a640a6b6f17"
      },
      "execution_count": 230,
      "outputs": [
        {
          "output_type": "execute_result",
          "data": {
            "text/plain": [
              "YEAR                   0\n",
              "MONTH                  0\n",
              "DAY                    0\n",
              "DAY_OF_WEEK            0\n",
              "AIRLINE                0\n",
              "FLIGHT_NUMBER          0\n",
              "TAIL_NUMBER            0\n",
              "ORIGIN_AIRPORT         0\n",
              "DESTINATION_AIRPORT    0\n",
              "SCHEDULED_DEPARTURE    0\n",
              "DEPARTURE_TIME         0\n",
              "DEPARTURE_DELAY        0\n",
              "TAXI_OUT               0\n",
              "WHEELS_OFF             0\n",
              "SCHEDULED_TIME         0\n",
              "ELAPSED_TIME           0\n",
              "AIR_TIME               0\n",
              "DISTANCE               0\n",
              "WHEELS_ON              0\n",
              "TAXI_IN                0\n",
              "SCHEDULED_ARRIVAL      0\n",
              "ARRIVAL_TIME           0\n",
              "ARRIVAL_DELAY          0\n",
              "DIVERTED               0\n",
              "CANCELLED              0\n",
              "AIR_SYSTEM_DELAY       0\n",
              "SECURITY_DELAY         0\n",
              "AIRLINE_DELAY          0\n",
              "LATE_AIRCRAFT_DELAY    0\n",
              "WEATHER_DELAY          0\n",
              "dtype: int64"
            ]
          },
          "metadata": {},
          "execution_count": 230
        }
      ]
    },
    {
      "cell_type": "code",
      "source": [
        "feature_list=['MONTH','DAY','AIRLINE','SCHEDULED_ARRIVAL','ORIGIN_AIRPORT','DESTINATION_AIRPORT',\n",
        "              'AIR_SYSTEM_DELAY','WEATHER_DELAY','SECURITY_DELAY','LATE_AIRCRAFT_DELAY',\n",
        "              'AIRLINE_DELAY','DEPARTURE_DELAY'] "
      ],
      "metadata": {
        "id": "6F9mTuq6He4f"
      },
      "execution_count": 231,
      "outputs": []
    },
    {
      "cell_type": "code",
      "source": [
        "x=data[feature_list]"
      ],
      "metadata": {
        "id": "zxnN2tEdLVz2"
      },
      "execution_count": 232,
      "outputs": []
    },
    {
      "cell_type": "code",
      "source": [
        "x"
      ],
      "metadata": {
        "colab": {
          "base_uri": "https://localhost:8080/",
          "height": 487
        },
        "id": "-QkaAYTY_6XL",
        "outputId": "eba02456-0433-4ea2-c543-0d674059b93a"
      },
      "execution_count": 233,
      "outputs": [
        {
          "output_type": "execute_result",
          "data": {
            "text/plain": [
              "         MONTH  DAY  AIRLINE  SCHEDULED_ARRIVAL  ORIGIN_AIRPORT  \\\n",
              "2873235      6   30       13                905              85   \n",
              "2330549      5   28       13               1435             176   \n",
              "1662827      4   16        2                529             286   \n",
              "1223548      3   20       11               2133              66   \n",
              "5009923     11    9       13               1820              20   \n",
              "...        ...  ...      ...                ...             ...   \n",
              "986953       3    6        0               2106             176   \n",
              "1102484      3   13        0               1624             216   \n",
              "1650026      4   16       13               1005             190   \n",
              "2267290      5   24       13               1630             222   \n",
              "5674966     12   22        0               1745             176   \n",
              "\n",
              "         DESTINATION_AIRPORT  AIR_SYSTEM_DELAY  WEATHER_DELAY  SECURITY_DELAY  \\\n",
              "2873235                  143               0.0            0.0             0.0   \n",
              "2330549                  174               0.0            0.0             0.0   \n",
              "1662827                  166               0.0            0.0             0.0   \n",
              "1223548                   20               0.0            0.0             0.0   \n",
              "5009923                  143               0.0            0.0             0.0   \n",
              "...                      ...               ...            ...             ...   \n",
              "986953                   166               0.0            0.0             0.0   \n",
              "1102484                   86               0.0            0.0             0.0   \n",
              "1650026                   81               0.0            0.0             0.0   \n",
              "2267290                  176               0.0            0.0             0.0   \n",
              "5674966                  141               0.0            0.0             0.0   \n",
              "\n",
              "         LATE_AIRCRAFT_DELAY  AIRLINE_DELAY  DEPARTURE_DELAY  \n",
              "2873235                  0.0            0.0             -3.0  \n",
              "2330549                  0.0            0.0              6.0  \n",
              "1662827                  0.0            0.0             -7.0  \n",
              "1223548                  0.0            0.0             -1.0  \n",
              "5009923                  0.0            0.0              6.0  \n",
              "...                      ...            ...              ...  \n",
              "986953                   0.0            0.0              6.0  \n",
              "1102484                  0.0            0.0             -6.0  \n",
              "1650026                  0.0            0.0             -2.0  \n",
              "2267290                  0.0            0.0              5.0  \n",
              "5674966                  0.0            0.0             -5.0  \n",
              "\n",
              "[8968 rows x 12 columns]"
            ],
            "text/html": [
              "\n",
              "  <div id=\"df-289f10a3-c89d-48c7-b0cd-f9d8863b0d71\">\n",
              "    <div class=\"colab-df-container\">\n",
              "      <div>\n",
              "<style scoped>\n",
              "    .dataframe tbody tr th:only-of-type {\n",
              "        vertical-align: middle;\n",
              "    }\n",
              "\n",
              "    .dataframe tbody tr th {\n",
              "        vertical-align: top;\n",
              "    }\n",
              "\n",
              "    .dataframe thead th {\n",
              "        text-align: right;\n",
              "    }\n",
              "</style>\n",
              "<table border=\"1\" class=\"dataframe\">\n",
              "  <thead>\n",
              "    <tr style=\"text-align: right;\">\n",
              "      <th></th>\n",
              "      <th>MONTH</th>\n",
              "      <th>DAY</th>\n",
              "      <th>AIRLINE</th>\n",
              "      <th>SCHEDULED_ARRIVAL</th>\n",
              "      <th>ORIGIN_AIRPORT</th>\n",
              "      <th>DESTINATION_AIRPORT</th>\n",
              "      <th>AIR_SYSTEM_DELAY</th>\n",
              "      <th>WEATHER_DELAY</th>\n",
              "      <th>SECURITY_DELAY</th>\n",
              "      <th>LATE_AIRCRAFT_DELAY</th>\n",
              "      <th>AIRLINE_DELAY</th>\n",
              "      <th>DEPARTURE_DELAY</th>\n",
              "    </tr>\n",
              "  </thead>\n",
              "  <tbody>\n",
              "    <tr>\n",
              "      <th>2873235</th>\n",
              "      <td>6</td>\n",
              "      <td>30</td>\n",
              "      <td>13</td>\n",
              "      <td>905</td>\n",
              "      <td>85</td>\n",
              "      <td>143</td>\n",
              "      <td>0.0</td>\n",
              "      <td>0.0</td>\n",
              "      <td>0.0</td>\n",
              "      <td>0.0</td>\n",
              "      <td>0.0</td>\n",
              "      <td>-3.0</td>\n",
              "    </tr>\n",
              "    <tr>\n",
              "      <th>2330549</th>\n",
              "      <td>5</td>\n",
              "      <td>28</td>\n",
              "      <td>13</td>\n",
              "      <td>1435</td>\n",
              "      <td>176</td>\n",
              "      <td>174</td>\n",
              "      <td>0.0</td>\n",
              "      <td>0.0</td>\n",
              "      <td>0.0</td>\n",
              "      <td>0.0</td>\n",
              "      <td>0.0</td>\n",
              "      <td>6.0</td>\n",
              "    </tr>\n",
              "    <tr>\n",
              "      <th>1662827</th>\n",
              "      <td>4</td>\n",
              "      <td>16</td>\n",
              "      <td>2</td>\n",
              "      <td>529</td>\n",
              "      <td>286</td>\n",
              "      <td>166</td>\n",
              "      <td>0.0</td>\n",
              "      <td>0.0</td>\n",
              "      <td>0.0</td>\n",
              "      <td>0.0</td>\n",
              "      <td>0.0</td>\n",
              "      <td>-7.0</td>\n",
              "    </tr>\n",
              "    <tr>\n",
              "      <th>1223548</th>\n",
              "      <td>3</td>\n",
              "      <td>20</td>\n",
              "      <td>11</td>\n",
              "      <td>2133</td>\n",
              "      <td>66</td>\n",
              "      <td>20</td>\n",
              "      <td>0.0</td>\n",
              "      <td>0.0</td>\n",
              "      <td>0.0</td>\n",
              "      <td>0.0</td>\n",
              "      <td>0.0</td>\n",
              "      <td>-1.0</td>\n",
              "    </tr>\n",
              "    <tr>\n",
              "      <th>5009923</th>\n",
              "      <td>11</td>\n",
              "      <td>9</td>\n",
              "      <td>13</td>\n",
              "      <td>1820</td>\n",
              "      <td>20</td>\n",
              "      <td>143</td>\n",
              "      <td>0.0</td>\n",
              "      <td>0.0</td>\n",
              "      <td>0.0</td>\n",
              "      <td>0.0</td>\n",
              "      <td>0.0</td>\n",
              "      <td>6.0</td>\n",
              "    </tr>\n",
              "    <tr>\n",
              "      <th>...</th>\n",
              "      <td>...</td>\n",
              "      <td>...</td>\n",
              "      <td>...</td>\n",
              "      <td>...</td>\n",
              "      <td>...</td>\n",
              "      <td>...</td>\n",
              "      <td>...</td>\n",
              "      <td>...</td>\n",
              "      <td>...</td>\n",
              "      <td>...</td>\n",
              "      <td>...</td>\n",
              "      <td>...</td>\n",
              "    </tr>\n",
              "    <tr>\n",
              "      <th>986953</th>\n",
              "      <td>3</td>\n",
              "      <td>6</td>\n",
              "      <td>0</td>\n",
              "      <td>2106</td>\n",
              "      <td>176</td>\n",
              "      <td>166</td>\n",
              "      <td>0.0</td>\n",
              "      <td>0.0</td>\n",
              "      <td>0.0</td>\n",
              "      <td>0.0</td>\n",
              "      <td>0.0</td>\n",
              "      <td>6.0</td>\n",
              "    </tr>\n",
              "    <tr>\n",
              "      <th>1102484</th>\n",
              "      <td>3</td>\n",
              "      <td>13</td>\n",
              "      <td>0</td>\n",
              "      <td>1624</td>\n",
              "      <td>216</td>\n",
              "      <td>86</td>\n",
              "      <td>0.0</td>\n",
              "      <td>0.0</td>\n",
              "      <td>0.0</td>\n",
              "      <td>0.0</td>\n",
              "      <td>0.0</td>\n",
              "      <td>-6.0</td>\n",
              "    </tr>\n",
              "    <tr>\n",
              "      <th>1650026</th>\n",
              "      <td>4</td>\n",
              "      <td>16</td>\n",
              "      <td>13</td>\n",
              "      <td>1005</td>\n",
              "      <td>190</td>\n",
              "      <td>81</td>\n",
              "      <td>0.0</td>\n",
              "      <td>0.0</td>\n",
              "      <td>0.0</td>\n",
              "      <td>0.0</td>\n",
              "      <td>0.0</td>\n",
              "      <td>-2.0</td>\n",
              "    </tr>\n",
              "    <tr>\n",
              "      <th>2267290</th>\n",
              "      <td>5</td>\n",
              "      <td>24</td>\n",
              "      <td>13</td>\n",
              "      <td>1630</td>\n",
              "      <td>222</td>\n",
              "      <td>176</td>\n",
              "      <td>0.0</td>\n",
              "      <td>0.0</td>\n",
              "      <td>0.0</td>\n",
              "      <td>0.0</td>\n",
              "      <td>0.0</td>\n",
              "      <td>5.0</td>\n",
              "    </tr>\n",
              "    <tr>\n",
              "      <th>5674966</th>\n",
              "      <td>12</td>\n",
              "      <td>22</td>\n",
              "      <td>0</td>\n",
              "      <td>1745</td>\n",
              "      <td>176</td>\n",
              "      <td>141</td>\n",
              "      <td>0.0</td>\n",
              "      <td>0.0</td>\n",
              "      <td>0.0</td>\n",
              "      <td>0.0</td>\n",
              "      <td>0.0</td>\n",
              "      <td>-5.0</td>\n",
              "    </tr>\n",
              "  </tbody>\n",
              "</table>\n",
              "<p>8968 rows × 12 columns</p>\n",
              "</div>\n",
              "      <button class=\"colab-df-convert\" onclick=\"convertToInteractive('df-289f10a3-c89d-48c7-b0cd-f9d8863b0d71')\"\n",
              "              title=\"Convert this dataframe to an interactive table.\"\n",
              "              style=\"display:none;\">\n",
              "        \n",
              "  <svg xmlns=\"http://www.w3.org/2000/svg\" height=\"24px\"viewBox=\"0 0 24 24\"\n",
              "       width=\"24px\">\n",
              "    <path d=\"M0 0h24v24H0V0z\" fill=\"none\"/>\n",
              "    <path d=\"M18.56 5.44l.94 2.06.94-2.06 2.06-.94-2.06-.94-.94-2.06-.94 2.06-2.06.94zm-11 1L8.5 8.5l.94-2.06 2.06-.94-2.06-.94L8.5 2.5l-.94 2.06-2.06.94zm10 10l.94 2.06.94-2.06 2.06-.94-2.06-.94-.94-2.06-.94 2.06-2.06.94z\"/><path d=\"M17.41 7.96l-1.37-1.37c-.4-.4-.92-.59-1.43-.59-.52 0-1.04.2-1.43.59L10.3 9.45l-7.72 7.72c-.78.78-.78 2.05 0 2.83L4 21.41c.39.39.9.59 1.41.59.51 0 1.02-.2 1.41-.59l7.78-7.78 2.81-2.81c.8-.78.8-2.07 0-2.86zM5.41 20L4 18.59l7.72-7.72 1.47 1.35L5.41 20z\"/>\n",
              "  </svg>\n",
              "      </button>\n",
              "      \n",
              "  <style>\n",
              "    .colab-df-container {\n",
              "      display:flex;\n",
              "      flex-wrap:wrap;\n",
              "      gap: 12px;\n",
              "    }\n",
              "\n",
              "    .colab-df-convert {\n",
              "      background-color: #E8F0FE;\n",
              "      border: none;\n",
              "      border-radius: 50%;\n",
              "      cursor: pointer;\n",
              "      display: none;\n",
              "      fill: #1967D2;\n",
              "      height: 32px;\n",
              "      padding: 0 0 0 0;\n",
              "      width: 32px;\n",
              "    }\n",
              "\n",
              "    .colab-df-convert:hover {\n",
              "      background-color: #E2EBFA;\n",
              "      box-shadow: 0px 1px 2px rgba(60, 64, 67, 0.3), 0px 1px 3px 1px rgba(60, 64, 67, 0.15);\n",
              "      fill: #174EA6;\n",
              "    }\n",
              "\n",
              "    [theme=dark] .colab-df-convert {\n",
              "      background-color: #3B4455;\n",
              "      fill: #D2E3FC;\n",
              "    }\n",
              "\n",
              "    [theme=dark] .colab-df-convert:hover {\n",
              "      background-color: #434B5C;\n",
              "      box-shadow: 0px 1px 3px 1px rgba(0, 0, 0, 0.15);\n",
              "      filter: drop-shadow(0px 1px 2px rgba(0, 0, 0, 0.3));\n",
              "      fill: #FFFFFF;\n",
              "    }\n",
              "  </style>\n",
              "\n",
              "      <script>\n",
              "        const buttonEl =\n",
              "          document.querySelector('#df-289f10a3-c89d-48c7-b0cd-f9d8863b0d71 button.colab-df-convert');\n",
              "        buttonEl.style.display =\n",
              "          google.colab.kernel.accessAllowed ? 'block' : 'none';\n",
              "\n",
              "        async function convertToInteractive(key) {\n",
              "          const element = document.querySelector('#df-289f10a3-c89d-48c7-b0cd-f9d8863b0d71');\n",
              "          const dataTable =\n",
              "            await google.colab.kernel.invokeFunction('convertToInteractive',\n",
              "                                                     [key], {});\n",
              "          if (!dataTable) return;\n",
              "\n",
              "          const docLinkHtml = 'Like what you see? Visit the ' +\n",
              "            '<a target=\"_blank\" href=https://colab.research.google.com/notebooks/data_table.ipynb>data table notebook</a>'\n",
              "            + ' to learn more about interactive tables.';\n",
              "          element.innerHTML = '';\n",
              "          dataTable['output_type'] = 'display_data';\n",
              "          await google.colab.output.renderOutput(dataTable, element);\n",
              "          const docLink = document.createElement('div');\n",
              "          docLink.innerHTML = docLinkHtml;\n",
              "          element.appendChild(docLink);\n",
              "        }\n",
              "      </script>\n",
              "    </div>\n",
              "  </div>\n",
              "  "
            ]
          },
          "metadata": {},
          "execution_count": 233
        }
      ]
    },
    {
      "cell_type": "code",
      "source": [
        "encoder=LabelEncoder()\n",
        "x.iloc[:,feature_list.index('AIRLINE')]=encoder.fit_transform(x.iloc[:,feature_list.index('AIRLINE')])"
      ],
      "metadata": {
        "colab": {
          "base_uri": "https://localhost:8080/"
        },
        "id": "5V0jzSV_LV98",
        "outputId": "65f8d069-26b4-4cd5-bc8b-27f97e57a095"
      },
      "execution_count": 234,
      "outputs": [
        {
          "output_type": "stream",
          "name": "stderr",
          "text": [
            "/usr/local/lib/python3.7/dist-packages/pandas/core/indexing.py:1773: SettingWithCopyWarning: \n",
            "A value is trying to be set on a copy of a slice from a DataFrame.\n",
            "Try using .loc[row_indexer,col_indexer] = value instead\n",
            "\n",
            "See the caveats in the documentation: https://pandas.pydata.org/pandas-docs/stable/user_guide/indexing.html#returning-a-view-versus-a-copy\n",
            "  self._setitem_single_column(ilocs[0], value, pi)\n"
          ]
        }
      ]
    },
    {
      "cell_type": "code",
      "source": [
        "x"
      ],
      "metadata": {
        "colab": {
          "base_uri": "https://localhost:8080/",
          "height": 487
        },
        "id": "tiQ9k6l2_mQc",
        "outputId": "d8f73b7c-2dcb-4164-b339-9bbf5f520a32"
      },
      "execution_count": 235,
      "outputs": [
        {
          "output_type": "execute_result",
          "data": {
            "text/plain": [
              "         MONTH  DAY  AIRLINE  SCHEDULED_ARRIVAL  ORIGIN_AIRPORT  \\\n",
              "2873235      6   30       13                905              85   \n",
              "2330549      5   28       13               1435             176   \n",
              "1662827      4   16        2                529             286   \n",
              "1223548      3   20       11               2133              66   \n",
              "5009923     11    9       13               1820              20   \n",
              "...        ...  ...      ...                ...             ...   \n",
              "986953       3    6        0               2106             176   \n",
              "1102484      3   13        0               1624             216   \n",
              "1650026      4   16       13               1005             190   \n",
              "2267290      5   24       13               1630             222   \n",
              "5674966     12   22        0               1745             176   \n",
              "\n",
              "         DESTINATION_AIRPORT  AIR_SYSTEM_DELAY  WEATHER_DELAY  SECURITY_DELAY  \\\n",
              "2873235                  143               0.0            0.0             0.0   \n",
              "2330549                  174               0.0            0.0             0.0   \n",
              "1662827                  166               0.0            0.0             0.0   \n",
              "1223548                   20               0.0            0.0             0.0   \n",
              "5009923                  143               0.0            0.0             0.0   \n",
              "...                      ...               ...            ...             ...   \n",
              "986953                   166               0.0            0.0             0.0   \n",
              "1102484                   86               0.0            0.0             0.0   \n",
              "1650026                   81               0.0            0.0             0.0   \n",
              "2267290                  176               0.0            0.0             0.0   \n",
              "5674966                  141               0.0            0.0             0.0   \n",
              "\n",
              "         LATE_AIRCRAFT_DELAY  AIRLINE_DELAY  DEPARTURE_DELAY  \n",
              "2873235                  0.0            0.0             -3.0  \n",
              "2330549                  0.0            0.0              6.0  \n",
              "1662827                  0.0            0.0             -7.0  \n",
              "1223548                  0.0            0.0             -1.0  \n",
              "5009923                  0.0            0.0              6.0  \n",
              "...                      ...            ...              ...  \n",
              "986953                   0.0            0.0              6.0  \n",
              "1102484                  0.0            0.0             -6.0  \n",
              "1650026                  0.0            0.0             -2.0  \n",
              "2267290                  0.0            0.0              5.0  \n",
              "5674966                  0.0            0.0             -5.0  \n",
              "\n",
              "[8968 rows x 12 columns]"
            ],
            "text/html": [
              "\n",
              "  <div id=\"df-b6f0291d-e9f4-4063-a4a2-9c6720860cb8\">\n",
              "    <div class=\"colab-df-container\">\n",
              "      <div>\n",
              "<style scoped>\n",
              "    .dataframe tbody tr th:only-of-type {\n",
              "        vertical-align: middle;\n",
              "    }\n",
              "\n",
              "    .dataframe tbody tr th {\n",
              "        vertical-align: top;\n",
              "    }\n",
              "\n",
              "    .dataframe thead th {\n",
              "        text-align: right;\n",
              "    }\n",
              "</style>\n",
              "<table border=\"1\" class=\"dataframe\">\n",
              "  <thead>\n",
              "    <tr style=\"text-align: right;\">\n",
              "      <th></th>\n",
              "      <th>MONTH</th>\n",
              "      <th>DAY</th>\n",
              "      <th>AIRLINE</th>\n",
              "      <th>SCHEDULED_ARRIVAL</th>\n",
              "      <th>ORIGIN_AIRPORT</th>\n",
              "      <th>DESTINATION_AIRPORT</th>\n",
              "      <th>AIR_SYSTEM_DELAY</th>\n",
              "      <th>WEATHER_DELAY</th>\n",
              "      <th>SECURITY_DELAY</th>\n",
              "      <th>LATE_AIRCRAFT_DELAY</th>\n",
              "      <th>AIRLINE_DELAY</th>\n",
              "      <th>DEPARTURE_DELAY</th>\n",
              "    </tr>\n",
              "  </thead>\n",
              "  <tbody>\n",
              "    <tr>\n",
              "      <th>2873235</th>\n",
              "      <td>6</td>\n",
              "      <td>30</td>\n",
              "      <td>13</td>\n",
              "      <td>905</td>\n",
              "      <td>85</td>\n",
              "      <td>143</td>\n",
              "      <td>0.0</td>\n",
              "      <td>0.0</td>\n",
              "      <td>0.0</td>\n",
              "      <td>0.0</td>\n",
              "      <td>0.0</td>\n",
              "      <td>-3.0</td>\n",
              "    </tr>\n",
              "    <tr>\n",
              "      <th>2330549</th>\n",
              "      <td>5</td>\n",
              "      <td>28</td>\n",
              "      <td>13</td>\n",
              "      <td>1435</td>\n",
              "      <td>176</td>\n",
              "      <td>174</td>\n",
              "      <td>0.0</td>\n",
              "      <td>0.0</td>\n",
              "      <td>0.0</td>\n",
              "      <td>0.0</td>\n",
              "      <td>0.0</td>\n",
              "      <td>6.0</td>\n",
              "    </tr>\n",
              "    <tr>\n",
              "      <th>1662827</th>\n",
              "      <td>4</td>\n",
              "      <td>16</td>\n",
              "      <td>2</td>\n",
              "      <td>529</td>\n",
              "      <td>286</td>\n",
              "      <td>166</td>\n",
              "      <td>0.0</td>\n",
              "      <td>0.0</td>\n",
              "      <td>0.0</td>\n",
              "      <td>0.0</td>\n",
              "      <td>0.0</td>\n",
              "      <td>-7.0</td>\n",
              "    </tr>\n",
              "    <tr>\n",
              "      <th>1223548</th>\n",
              "      <td>3</td>\n",
              "      <td>20</td>\n",
              "      <td>11</td>\n",
              "      <td>2133</td>\n",
              "      <td>66</td>\n",
              "      <td>20</td>\n",
              "      <td>0.0</td>\n",
              "      <td>0.0</td>\n",
              "      <td>0.0</td>\n",
              "      <td>0.0</td>\n",
              "      <td>0.0</td>\n",
              "      <td>-1.0</td>\n",
              "    </tr>\n",
              "    <tr>\n",
              "      <th>5009923</th>\n",
              "      <td>11</td>\n",
              "      <td>9</td>\n",
              "      <td>13</td>\n",
              "      <td>1820</td>\n",
              "      <td>20</td>\n",
              "      <td>143</td>\n",
              "      <td>0.0</td>\n",
              "      <td>0.0</td>\n",
              "      <td>0.0</td>\n",
              "      <td>0.0</td>\n",
              "      <td>0.0</td>\n",
              "      <td>6.0</td>\n",
              "    </tr>\n",
              "    <tr>\n",
              "      <th>...</th>\n",
              "      <td>...</td>\n",
              "      <td>...</td>\n",
              "      <td>...</td>\n",
              "      <td>...</td>\n",
              "      <td>...</td>\n",
              "      <td>...</td>\n",
              "      <td>...</td>\n",
              "      <td>...</td>\n",
              "      <td>...</td>\n",
              "      <td>...</td>\n",
              "      <td>...</td>\n",
              "      <td>...</td>\n",
              "    </tr>\n",
              "    <tr>\n",
              "      <th>986953</th>\n",
              "      <td>3</td>\n",
              "      <td>6</td>\n",
              "      <td>0</td>\n",
              "      <td>2106</td>\n",
              "      <td>176</td>\n",
              "      <td>166</td>\n",
              "      <td>0.0</td>\n",
              "      <td>0.0</td>\n",
              "      <td>0.0</td>\n",
              "      <td>0.0</td>\n",
              "      <td>0.0</td>\n",
              "      <td>6.0</td>\n",
              "    </tr>\n",
              "    <tr>\n",
              "      <th>1102484</th>\n",
              "      <td>3</td>\n",
              "      <td>13</td>\n",
              "      <td>0</td>\n",
              "      <td>1624</td>\n",
              "      <td>216</td>\n",
              "      <td>86</td>\n",
              "      <td>0.0</td>\n",
              "      <td>0.0</td>\n",
              "      <td>0.0</td>\n",
              "      <td>0.0</td>\n",
              "      <td>0.0</td>\n",
              "      <td>-6.0</td>\n",
              "    </tr>\n",
              "    <tr>\n",
              "      <th>1650026</th>\n",
              "      <td>4</td>\n",
              "      <td>16</td>\n",
              "      <td>13</td>\n",
              "      <td>1005</td>\n",
              "      <td>190</td>\n",
              "      <td>81</td>\n",
              "      <td>0.0</td>\n",
              "      <td>0.0</td>\n",
              "      <td>0.0</td>\n",
              "      <td>0.0</td>\n",
              "      <td>0.0</td>\n",
              "      <td>-2.0</td>\n",
              "    </tr>\n",
              "    <tr>\n",
              "      <th>2267290</th>\n",
              "      <td>5</td>\n",
              "      <td>24</td>\n",
              "      <td>13</td>\n",
              "      <td>1630</td>\n",
              "      <td>222</td>\n",
              "      <td>176</td>\n",
              "      <td>0.0</td>\n",
              "      <td>0.0</td>\n",
              "      <td>0.0</td>\n",
              "      <td>0.0</td>\n",
              "      <td>0.0</td>\n",
              "      <td>5.0</td>\n",
              "    </tr>\n",
              "    <tr>\n",
              "      <th>5674966</th>\n",
              "      <td>12</td>\n",
              "      <td>22</td>\n",
              "      <td>0</td>\n",
              "      <td>1745</td>\n",
              "      <td>176</td>\n",
              "      <td>141</td>\n",
              "      <td>0.0</td>\n",
              "      <td>0.0</td>\n",
              "      <td>0.0</td>\n",
              "      <td>0.0</td>\n",
              "      <td>0.0</td>\n",
              "      <td>-5.0</td>\n",
              "    </tr>\n",
              "  </tbody>\n",
              "</table>\n",
              "<p>8968 rows × 12 columns</p>\n",
              "</div>\n",
              "      <button class=\"colab-df-convert\" onclick=\"convertToInteractive('df-b6f0291d-e9f4-4063-a4a2-9c6720860cb8')\"\n",
              "              title=\"Convert this dataframe to an interactive table.\"\n",
              "              style=\"display:none;\">\n",
              "        \n",
              "  <svg xmlns=\"http://www.w3.org/2000/svg\" height=\"24px\"viewBox=\"0 0 24 24\"\n",
              "       width=\"24px\">\n",
              "    <path d=\"M0 0h24v24H0V0z\" fill=\"none\"/>\n",
              "    <path d=\"M18.56 5.44l.94 2.06.94-2.06 2.06-.94-2.06-.94-.94-2.06-.94 2.06-2.06.94zm-11 1L8.5 8.5l.94-2.06 2.06-.94-2.06-.94L8.5 2.5l-.94 2.06-2.06.94zm10 10l.94 2.06.94-2.06 2.06-.94-2.06-.94-.94-2.06-.94 2.06-2.06.94z\"/><path d=\"M17.41 7.96l-1.37-1.37c-.4-.4-.92-.59-1.43-.59-.52 0-1.04.2-1.43.59L10.3 9.45l-7.72 7.72c-.78.78-.78 2.05 0 2.83L4 21.41c.39.39.9.59 1.41.59.51 0 1.02-.2 1.41-.59l7.78-7.78 2.81-2.81c.8-.78.8-2.07 0-2.86zM5.41 20L4 18.59l7.72-7.72 1.47 1.35L5.41 20z\"/>\n",
              "  </svg>\n",
              "      </button>\n",
              "      \n",
              "  <style>\n",
              "    .colab-df-container {\n",
              "      display:flex;\n",
              "      flex-wrap:wrap;\n",
              "      gap: 12px;\n",
              "    }\n",
              "\n",
              "    .colab-df-convert {\n",
              "      background-color: #E8F0FE;\n",
              "      border: none;\n",
              "      border-radius: 50%;\n",
              "      cursor: pointer;\n",
              "      display: none;\n",
              "      fill: #1967D2;\n",
              "      height: 32px;\n",
              "      padding: 0 0 0 0;\n",
              "      width: 32px;\n",
              "    }\n",
              "\n",
              "    .colab-df-convert:hover {\n",
              "      background-color: #E2EBFA;\n",
              "      box-shadow: 0px 1px 2px rgba(60, 64, 67, 0.3), 0px 1px 3px 1px rgba(60, 64, 67, 0.15);\n",
              "      fill: #174EA6;\n",
              "    }\n",
              "\n",
              "    [theme=dark] .colab-df-convert {\n",
              "      background-color: #3B4455;\n",
              "      fill: #D2E3FC;\n",
              "    }\n",
              "\n",
              "    [theme=dark] .colab-df-convert:hover {\n",
              "      background-color: #434B5C;\n",
              "      box-shadow: 0px 1px 3px 1px rgba(0, 0, 0, 0.15);\n",
              "      filter: drop-shadow(0px 1px 2px rgba(0, 0, 0, 0.3));\n",
              "      fill: #FFFFFF;\n",
              "    }\n",
              "  </style>\n",
              "\n",
              "      <script>\n",
              "        const buttonEl =\n",
              "          document.querySelector('#df-b6f0291d-e9f4-4063-a4a2-9c6720860cb8 button.colab-df-convert');\n",
              "        buttonEl.style.display =\n",
              "          google.colab.kernel.accessAllowed ? 'block' : 'none';\n",
              "\n",
              "        async function convertToInteractive(key) {\n",
              "          const element = document.querySelector('#df-b6f0291d-e9f4-4063-a4a2-9c6720860cb8');\n",
              "          const dataTable =\n",
              "            await google.colab.kernel.invokeFunction('convertToInteractive',\n",
              "                                                     [key], {});\n",
              "          if (!dataTable) return;\n",
              "\n",
              "          const docLinkHtml = 'Like what you see? Visit the ' +\n",
              "            '<a target=\"_blank\" href=https://colab.research.google.com/notebooks/data_table.ipynb>data table notebook</a>'\n",
              "            + ' to learn more about interactive tables.';\n",
              "          element.innerHTML = '';\n",
              "          dataTable['output_type'] = 'display_data';\n",
              "          await google.colab.output.renderOutput(dataTable, element);\n",
              "          const docLink = document.createElement('div');\n",
              "          docLink.innerHTML = docLinkHtml;\n",
              "          element.appendChild(docLink);\n",
              "        }\n",
              "      </script>\n",
              "    </div>\n",
              "  </div>\n",
              "  "
            ]
          },
          "metadata": {},
          "execution_count": 235
        }
      ]
    },
    {
      "cell_type": "code",
      "source": [
        "y=data.ARRIVAL_DELAY\n",
        "y=np.array(y)"
      ],
      "metadata": {
        "id": "IfbgLJwELfDb"
      },
      "execution_count": 236,
      "outputs": []
    },
    {
      "cell_type": "code",
      "source": [
        "x=np.array(x)"
      ],
      "metadata": {
        "id": "9NYzjblpLfLy"
      },
      "execution_count": 237,
      "outputs": []
    },
    {
      "cell_type": "code",
      "source": [
        "x_train,x_test,y_train,y_test=train_test_split(x,y,test_size=0.20,random_state=0)"
      ],
      "metadata": {
        "id": "yKWXXtSmLfYH"
      },
      "execution_count": 238,
      "outputs": []
    },
    {
      "cell_type": "code",
      "source": [
        "x_train"
      ],
      "metadata": {
        "colab": {
          "base_uri": "https://localhost:8080/"
        },
        "id": "MR8Q8hjm_cnb",
        "outputId": "49d24d43-2869-4268-f2ab-dd8cf9a5e847"
      },
      "execution_count": null,
      "outputs": [
        {
          "output_type": "execute_result",
          "data": {
            "text/plain": [
              "array([[ 12.,  28.,   4., ...,   0.,   0.,  -5.],\n",
              "       [  5.,  30.,   9., ...,   0.,  64.,  85.],\n",
              "       [ 12.,  30.,   9., ...,   0.,   0.,   1.],\n",
              "       ...,\n",
              "       [  1.,  13.,   4., ...,   0.,   0.,  -2.],\n",
              "       [  8.,   2.,   9., ...,   0.,   0.,  -9.],\n",
              "       [  5.,   7.,   0., ...,   0.,   0., -11.]])"
            ]
          },
          "metadata": {},
          "execution_count": 240
        }
      ]
    },
    {
      "cell_type": "code",
      "source": [
        "forest=RandomForestRegressor(n_estimators=400,min_samples_split=15,min_samples_leaf=2,\n",
        "max_features='auto', max_depth=30)\n",
        "forest.fit(x_train,y_train)\n",
        "y_pred=forest.predict(x_test)\n"
      ],
      "metadata": {
        "id": "thqa0GewLqcj"
      },
      "execution_count": 239,
      "outputs": []
    },
    {
      "cell_type": "code",
      "source": [
        "#MONTH\tDAY\tAIRLINE\tSCHEDULED_ARRIVAL\tORIGIN_AIRPORT\t\n",
        "#DESTINATION_AIRPORT\tAIR_SYSTEM_DELAY\tWEATHER_DELAY\tSECURITY_DELAY\n",
        "#\tLATE_AIRCRAFT_DELAY\tAIRLINE_DELAY\tDEPARTURE_DELAY\n",
        "p=np.array([[1,10,'1','12','3',12,0,0,34,-12,9,2]])\n",
        "predictions=forest.predict(p)\n",
        "print(predictions)"
      ],
      "metadata": {
        "colab": {
          "base_uri": "https://localhost:8080/"
        },
        "id": "aChqAP0MDshZ",
        "outputId": "264e7da2-9586-4e1b-c503-d0615309c640"
      },
      "execution_count": 116,
      "outputs": [
        {
          "output_type": "stream",
          "name": "stdout",
          "text": [
            "[-6.70659439]\n"
          ]
        }
      ]
    },
    {
      "cell_type": "code",
      "source": [
        "print(\"Random Forest Score on Training set is\",forest.score(x_train, y_train))#Training Accuracy\n",
        "print(\"Random Forest Score on Test Set is\",forest.score(x_test, y_test))#Testing Accuracy\n"
      ],
      "metadata": {
        "colab": {
          "base_uri": "https://localhost:8080/"
        },
        "id": "W4x8dmaDbjVB",
        "outputId": "eb2bbf0e-87fa-4076-d543-35484e26cf67"
      },
      "execution_count": 241,
      "outputs": [
        {
          "output_type": "stream",
          "name": "stdout",
          "text": [
            "Random Forest Score on Training set is 0.9684761597354383\n",
            "Random Forest Score on Test Set is 0.9010833352489489\n"
          ]
        }
      ]
    },
    {
      "cell_type": "code",
      "source": [
        "data.columns"
      ],
      "metadata": {
        "colab": {
          "base_uri": "https://localhost:8080/"
        },
        "id": "r4zJbNGke3u8",
        "outputId": "64f10ed6-afc6-4bde-9422-8c77a7e13264"
      },
      "execution_count": null,
      "outputs": [
        {
          "output_type": "execute_result",
          "data": {
            "text/plain": [
              "Index(['YEAR', 'MONTH', 'DAY', 'DAY_OF_WEEK', 'AIRLINE', 'FLIGHT_NUMBER',\n",
              "       'TAIL_NUMBER', 'ORIGIN_AIRPORT', 'DESTINATION_AIRPORT',\n",
              "       'SCHEDULED_DEPARTURE', 'DEPARTURE_TIME', 'DEPARTURE_DELAY', 'TAXI_OUT',\n",
              "       'WHEELS_OFF', 'SCHEDULED_TIME', 'ELAPSED_TIME', 'AIR_TIME', 'DISTANCE',\n",
              "       'WHEELS_ON', 'TAXI_IN', 'SCHEDULED_ARRIVAL', 'ARRIVAL_TIME',\n",
              "       'ARRIVAL_DELAY', 'DIVERTED', 'CANCELLED', 'AIR_SYSTEM_DELAY',\n",
              "       'SECURITY_DELAY', 'AIRLINE_DELAY', 'LATE_AIRCRAFT_DELAY',\n",
              "       'WEATHER_DELAY', 'DATE'],\n",
              "      dtype='object')"
            ]
          },
          "metadata": {},
          "execution_count": 154
        }
      ]
    },
    {
      "cell_type": "code",
      "source": [
        "import seaborn as sns\n",
        "all_columns=data['DESTINATION_AIRPORT']\n",
        "for column in all_columns:\n",
        "  plt.figure(figsize=(12,5))\n",
        "  sns.barplot(x=\"ARRIVAL_DELAY\",y=column,data=data)\n",
        "  plt.xticks(rotation=90)\n",
        "  plt.title(f\"{column} Vs Arrival Delay\")"
      ],
      "metadata": {
        "colab": {
          "base_uri": "https://localhost:8080/",
          "height": 417
        },
        "id": "87xYu8ywes3M",
        "outputId": "3b91d5d4-e453-4dcd-b0fe-490f4d983d43"
      },
      "execution_count": null,
      "outputs": [
        {
          "output_type": "error",
          "ename": "AttributeError",
          "evalue": "ignored",
          "traceback": [
            "\u001b[0;31m---------------------------------------------------------------------------\u001b[0m",
            "\u001b[0;31mAttributeError\u001b[0m                            Traceback (most recent call last)",
            "\u001b[0;32m<ipython-input-157-28f11f6f07f6>\u001b[0m in \u001b[0;36m<module>\u001b[0;34m()\u001b[0m\n\u001b[1;32m      3\u001b[0m \u001b[0;32mfor\u001b[0m \u001b[0mcolumn\u001b[0m \u001b[0;32min\u001b[0m \u001b[0mall_columns\u001b[0m\u001b[0;34m:\u001b[0m\u001b[0;34m\u001b[0m\u001b[0;34m\u001b[0m\u001b[0m\n\u001b[1;32m      4\u001b[0m   \u001b[0mplt\u001b[0m\u001b[0;34m.\u001b[0m\u001b[0mfigure\u001b[0m\u001b[0;34m(\u001b[0m\u001b[0mfigsize\u001b[0m\u001b[0;34m=\u001b[0m\u001b[0;34m(\u001b[0m\u001b[0;36m12\u001b[0m\u001b[0;34m,\u001b[0m\u001b[0;36m5\u001b[0m\u001b[0;34m)\u001b[0m\u001b[0;34m)\u001b[0m\u001b[0;34m\u001b[0m\u001b[0;34m\u001b[0m\u001b[0m\n\u001b[0;32m----> 5\u001b[0;31m   \u001b[0msns\u001b[0m\u001b[0;34m.\u001b[0m\u001b[0mbarplot\u001b[0m\u001b[0;34m(\u001b[0m\u001b[0mx\u001b[0m\u001b[0;34m=\u001b[0m\u001b[0;34m\"ARRIVAL_DELAY\"\u001b[0m\u001b[0;34m,\u001b[0m\u001b[0my\u001b[0m\u001b[0;34m=\u001b[0m\u001b[0mcolumn\u001b[0m\u001b[0;34m,\u001b[0m\u001b[0mdata\u001b[0m\u001b[0;34m=\u001b[0m\u001b[0mdata\u001b[0m\u001b[0;34m)\u001b[0m\u001b[0;34m\u001b[0m\u001b[0;34m\u001b[0m\u001b[0m\n\u001b[0m\u001b[1;32m      6\u001b[0m   \u001b[0mplt\u001b[0m\u001b[0;34m.\u001b[0m\u001b[0mxticks\u001b[0m\u001b[0;34m(\u001b[0m\u001b[0mrotation\u001b[0m\u001b[0;34m=\u001b[0m\u001b[0;36m90\u001b[0m\u001b[0;34m)\u001b[0m\u001b[0;34m\u001b[0m\u001b[0;34m\u001b[0m\u001b[0m\n\u001b[1;32m      7\u001b[0m   \u001b[0mplt\u001b[0m\u001b[0;34m.\u001b[0m\u001b[0mtitle\u001b[0m\u001b[0;34m(\u001b[0m\u001b[0;34mf\"{column} Vs Arrival Delay\"\u001b[0m\u001b[0;34m)\u001b[0m\u001b[0;34m\u001b[0m\u001b[0;34m\u001b[0m\u001b[0m\n",
            "\u001b[0;32m/usr/local/lib/python3.7/dist-packages/seaborn/_decorators.py\u001b[0m in \u001b[0;36minner_f\u001b[0;34m(*args, **kwargs)\u001b[0m\n\u001b[1;32m     44\u001b[0m             )\n\u001b[1;32m     45\u001b[0m         \u001b[0mkwargs\u001b[0m\u001b[0;34m.\u001b[0m\u001b[0mupdate\u001b[0m\u001b[0;34m(\u001b[0m\u001b[0;34m{\u001b[0m\u001b[0mk\u001b[0m\u001b[0;34m:\u001b[0m \u001b[0marg\u001b[0m \u001b[0;32mfor\u001b[0m \u001b[0mk\u001b[0m\u001b[0;34m,\u001b[0m \u001b[0marg\u001b[0m \u001b[0;32min\u001b[0m \u001b[0mzip\u001b[0m\u001b[0;34m(\u001b[0m\u001b[0msig\u001b[0m\u001b[0;34m.\u001b[0m\u001b[0mparameters\u001b[0m\u001b[0;34m,\u001b[0m \u001b[0margs\u001b[0m\u001b[0;34m)\u001b[0m\u001b[0;34m}\u001b[0m\u001b[0;34m)\u001b[0m\u001b[0;34m\u001b[0m\u001b[0;34m\u001b[0m\u001b[0m\n\u001b[0;32m---> 46\u001b[0;31m         \u001b[0;32mreturn\u001b[0m \u001b[0mf\u001b[0m\u001b[0;34m(\u001b[0m\u001b[0;34m**\u001b[0m\u001b[0mkwargs\u001b[0m\u001b[0;34m)\u001b[0m\u001b[0;34m\u001b[0m\u001b[0;34m\u001b[0m\u001b[0m\n\u001b[0m\u001b[1;32m     47\u001b[0m     \u001b[0;32mreturn\u001b[0m \u001b[0minner_f\u001b[0m\u001b[0;34m\u001b[0m\u001b[0;34m\u001b[0m\u001b[0m\n\u001b[1;32m     48\u001b[0m \u001b[0;34m\u001b[0m\u001b[0m\n",
            "\u001b[0;32m/usr/local/lib/python3.7/dist-packages/seaborn/categorical.py\u001b[0m in \u001b[0;36mbarplot\u001b[0;34m(x, y, hue, data, order, hue_order, estimator, ci, n_boot, units, seed, orient, color, palette, saturation, errcolor, errwidth, capsize, dodge, ax, **kwargs)\u001b[0m\n\u001b[1;32m   3183\u001b[0m                           \u001b[0mestimator\u001b[0m\u001b[0;34m,\u001b[0m \u001b[0mci\u001b[0m\u001b[0;34m,\u001b[0m \u001b[0mn_boot\u001b[0m\u001b[0;34m,\u001b[0m \u001b[0munits\u001b[0m\u001b[0;34m,\u001b[0m \u001b[0mseed\u001b[0m\u001b[0;34m,\u001b[0m\u001b[0;34m\u001b[0m\u001b[0;34m\u001b[0m\u001b[0m\n\u001b[1;32m   3184\u001b[0m                           \u001b[0morient\u001b[0m\u001b[0;34m,\u001b[0m \u001b[0mcolor\u001b[0m\u001b[0;34m,\u001b[0m \u001b[0mpalette\u001b[0m\u001b[0;34m,\u001b[0m \u001b[0msaturation\u001b[0m\u001b[0;34m,\u001b[0m\u001b[0;34m\u001b[0m\u001b[0;34m\u001b[0m\u001b[0m\n\u001b[0;32m-> 3185\u001b[0;31m                           errcolor, errwidth, capsize, dodge)\n\u001b[0m\u001b[1;32m   3186\u001b[0m \u001b[0;34m\u001b[0m\u001b[0m\n\u001b[1;32m   3187\u001b[0m     \u001b[0;32mif\u001b[0m \u001b[0max\u001b[0m \u001b[0;32mis\u001b[0m \u001b[0;32mNone\u001b[0m\u001b[0;34m:\u001b[0m\u001b[0;34m\u001b[0m\u001b[0;34m\u001b[0m\u001b[0m\n",
            "\u001b[0;32m/usr/local/lib/python3.7/dist-packages/seaborn/categorical.py\u001b[0m in \u001b[0;36m__init__\u001b[0;34m(self, x, y, hue, data, order, hue_order, estimator, ci, n_boot, units, seed, orient, color, palette, saturation, errcolor, errwidth, capsize, dodge)\u001b[0m\n\u001b[1;32m   1583\u001b[0m         \u001b[0;34m\"\"\"Initialize the plotter.\"\"\"\u001b[0m\u001b[0;34m\u001b[0m\u001b[0;34m\u001b[0m\u001b[0m\n\u001b[1;32m   1584\u001b[0m         self.establish_variables(x, y, hue, data, orient,\n\u001b[0;32m-> 1585\u001b[0;31m                                  order, hue_order, units)\n\u001b[0m\u001b[1;32m   1586\u001b[0m         \u001b[0mself\u001b[0m\u001b[0;34m.\u001b[0m\u001b[0mestablish_colors\u001b[0m\u001b[0;34m(\u001b[0m\u001b[0mcolor\u001b[0m\u001b[0;34m,\u001b[0m \u001b[0mpalette\u001b[0m\u001b[0;34m,\u001b[0m \u001b[0msaturation\u001b[0m\u001b[0;34m)\u001b[0m\u001b[0;34m\u001b[0m\u001b[0;34m\u001b[0m\u001b[0m\n\u001b[1;32m   1587\u001b[0m         \u001b[0mself\u001b[0m\u001b[0;34m.\u001b[0m\u001b[0mestimate_statistic\u001b[0m\u001b[0;34m(\u001b[0m\u001b[0mestimator\u001b[0m\u001b[0;34m,\u001b[0m \u001b[0mci\u001b[0m\u001b[0;34m,\u001b[0m \u001b[0mn_boot\u001b[0m\u001b[0;34m,\u001b[0m \u001b[0mseed\u001b[0m\u001b[0;34m)\u001b[0m\u001b[0;34m\u001b[0m\u001b[0;34m\u001b[0m\u001b[0m\n",
            "\u001b[0;32m/usr/local/lib/python3.7/dist-packages/seaborn/categorical.py\u001b[0m in \u001b[0;36mestablish_variables\u001b[0;34m(self, x, y, hue, data, orient, order, hue_order, units)\u001b[0m\n\u001b[1;32m    155\u001b[0m             \u001b[0;31m# Figure out the plotting orientation\u001b[0m\u001b[0;34m\u001b[0m\u001b[0;34m\u001b[0m\u001b[0;34m\u001b[0m\u001b[0m\n\u001b[1;32m    156\u001b[0m             orient = infer_orient(\n\u001b[0;32m--> 157\u001b[0;31m                 \u001b[0mx\u001b[0m\u001b[0;34m,\u001b[0m \u001b[0my\u001b[0m\u001b[0;34m,\u001b[0m \u001b[0morient\u001b[0m\u001b[0;34m,\u001b[0m \u001b[0mrequire_numeric\u001b[0m\u001b[0;34m=\u001b[0m\u001b[0mself\u001b[0m\u001b[0;34m.\u001b[0m\u001b[0mrequire_numeric\u001b[0m\u001b[0;34m\u001b[0m\u001b[0;34m\u001b[0m\u001b[0m\n\u001b[0m\u001b[1;32m    158\u001b[0m             )\n\u001b[1;32m    159\u001b[0m \u001b[0;34m\u001b[0m\u001b[0m\n",
            "\u001b[0;32m/usr/local/lib/python3.7/dist-packages/seaborn/_core.py\u001b[0m in \u001b[0;36minfer_orient\u001b[0;34m(x, y, orient, require_numeric)\u001b[0m\n\u001b[1;32m   1310\u001b[0m \u001b[0;34m\u001b[0m\u001b[0m\n\u001b[1;32m   1311\u001b[0m     \u001b[0mx_type\u001b[0m \u001b[0;34m=\u001b[0m \u001b[0;32mNone\u001b[0m \u001b[0;32mif\u001b[0m \u001b[0mx\u001b[0m \u001b[0;32mis\u001b[0m \u001b[0;32mNone\u001b[0m \u001b[0;32melse\u001b[0m \u001b[0mvariable_type\u001b[0m\u001b[0;34m(\u001b[0m\u001b[0mx\u001b[0m\u001b[0;34m)\u001b[0m\u001b[0;34m\u001b[0m\u001b[0;34m\u001b[0m\u001b[0m\n\u001b[0;32m-> 1312\u001b[0;31m     \u001b[0my_type\u001b[0m \u001b[0;34m=\u001b[0m \u001b[0;32mNone\u001b[0m \u001b[0;32mif\u001b[0m \u001b[0my\u001b[0m \u001b[0;32mis\u001b[0m \u001b[0;32mNone\u001b[0m \u001b[0;32melse\u001b[0m \u001b[0mvariable_type\u001b[0m\u001b[0;34m(\u001b[0m\u001b[0my\u001b[0m\u001b[0;34m)\u001b[0m\u001b[0;34m\u001b[0m\u001b[0;34m\u001b[0m\u001b[0m\n\u001b[0m\u001b[1;32m   1313\u001b[0m \u001b[0;34m\u001b[0m\u001b[0m\n\u001b[1;32m   1314\u001b[0m     \u001b[0mnonnumeric_dv_error\u001b[0m \u001b[0;34m=\u001b[0m \u001b[0;34m\"{} orientation requires numeric `{}` variable.\"\u001b[0m\u001b[0;34m\u001b[0m\u001b[0;34m\u001b[0m\u001b[0m\n",
            "\u001b[0;32m/usr/local/lib/python3.7/dist-packages/seaborn/_core.py\u001b[0m in \u001b[0;36mvariable_type\u001b[0;34m(vector, boolean_type)\u001b[0m\n\u001b[1;32m   1227\u001b[0m \u001b[0;34m\u001b[0m\u001b[0m\n\u001b[1;32m   1228\u001b[0m     \u001b[0;31m# Special-case all-na data, which is always \"numeric\"\u001b[0m\u001b[0;34m\u001b[0m\u001b[0;34m\u001b[0m\u001b[0;34m\u001b[0m\u001b[0m\n\u001b[0;32m-> 1229\u001b[0;31m     \u001b[0;32mif\u001b[0m \u001b[0mpd\u001b[0m\u001b[0;34m.\u001b[0m\u001b[0misna\u001b[0m\u001b[0;34m(\u001b[0m\u001b[0mvector\u001b[0m\u001b[0;34m)\u001b[0m\u001b[0;34m.\u001b[0m\u001b[0mall\u001b[0m\u001b[0;34m(\u001b[0m\u001b[0;34m)\u001b[0m\u001b[0;34m:\u001b[0m\u001b[0;34m\u001b[0m\u001b[0;34m\u001b[0m\u001b[0m\n\u001b[0m\u001b[1;32m   1230\u001b[0m         \u001b[0;32mreturn\u001b[0m \u001b[0;34m\"numeric\"\u001b[0m\u001b[0;34m\u001b[0m\u001b[0;34m\u001b[0m\u001b[0m\n\u001b[1;32m   1231\u001b[0m \u001b[0;34m\u001b[0m\u001b[0m\n",
            "\u001b[0;31mAttributeError\u001b[0m: 'bool' object has no attribute 'all'"
          ]
        },
        {
          "output_type": "display_data",
          "data": {
            "text/plain": [
              "<Figure size 864x360 with 0 Axes>"
            ]
          },
          "metadata": {}
        }
      ]
    },
    {
      "cell_type": "code",
      "source": [
        "import matplotlib.pyplot as plt\n",
        "plt.hist(sorted(data['WEATHER_DELAY']))\n",
        "plt.show()"
      ],
      "metadata": {
        "colab": {
          "base_uri": "https://localhost:8080/",
          "height": 265
        },
        "id": "7EzUPOI8ZkVX",
        "outputId": "9c5a301c-dc23-4681-a6c4-8283d46c4a48"
      },
      "execution_count": null,
      "outputs": [
        {
          "output_type": "display_data",
          "data": {
            "text/plain": [
              "<Figure size 432x288 with 1 Axes>"
            ],
            "image/png": "[encoded data removed]"
          },
          "metadata": {
            "needs_background": "light"
          }
        }
      ]
    },
    {
      "cell_type": "code",
      "source": [
        "import matplotlib.pyplot as plt\n",
        "plt.hist(sorted(data['SECURITY_DELAY']))\n",
        "plt.show()"
      ],
      "metadata": {
        "colab": {
          "base_uri": "https://localhost:8080/",
          "height": 265
        },
        "id": "3mNn1_QEZtGp",
        "outputId": "3a72324a-5eb0-49a0-8d6f-869f0e93495d"
      },
      "execution_count": null,
      "outputs": [
        {
          "output_type": "display_data",
          "data": {
            "text/plain": [
              "<Figure size 432x288 with 1 Axes>"
            ],
            "image/png": "[encoded data removed]"
          },
          "metadata": {
            "needs_background": "light"
          }
        }
      ]
    },
    {
      "cell_type": "code",
      "source": [
        "import matplotlib.pyplot as plt\n",
        "plt.hist(sorted(data['DEPARTURE_DELAY']))\n",
        "plt.show()"
      ],
      "metadata": {
        "colab": {
          "base_uri": "https://localhost:8080/",
          "height": 265
        },
        "id": "1Z5oHGmKZ5Ce",
        "outputId": "d53acb0b-618b-46ea-b20f-b85461d1db9f"
      },
      "execution_count": null,
      "outputs": [
        {
          "output_type": "display_data",
          "data": {
            "text/plain": [
              "<Figure size 432x288 with 1 Axes>"
            ],
            "image/png": "[encoded data removed]"
          },
          "metadata": {
            "needs_background": "light"
          }
        }
      ]
    },
    {
      "cell_type": "code",
      "source": [
        "import matplotlib.pyplot as plt\n",
        "plt.hist(sorted(data['AIRLINE_DELAY']))\n",
        "plt.show()"
      ],
      "metadata": {
        "colab": {
          "base_uri": "https://localhost:8080/",
          "height": 265
        },
        "id": "thgAm7AQaCAU",
        "outputId": "33b74ad2-2d2a-446c-a557-596817da0145"
      },
      "execution_count": null,
      "outputs": [
        {
          "output_type": "display_data",
          "data": {
            "text/plain": [
              "<Figure size 432x288 with 1 Axes>"
            ],
            "image/png": "[encoded data removed]"
          },
          "metadata": {
            "needs_background": "light"
          }
        }
      ]
    },
    {
      "cell_type": "code",
      "source": [
        "import matplotlib.pyplot as plt\n",
        "plt.hist(sorted(data['AIR_SYSTEM_DELAY']))\n",
        "plt.show()"
      ],
      "metadata": {
        "colab": {
          "base_uri": "https://localhost:8080/",
          "height": 265
        },
        "id": "jmxDefEUaHkQ",
        "outputId": "d3e34562-0bbf-4bad-d0bf-b94b2b941420"
      },
      "execution_count": null,
      "outputs": [
        {
          "output_type": "display_data",
          "data": {
            "text/plain": [
              "<Figure size 432x288 with 1 Axes>"
            ],
            "image/png": "[encoded data removed]"
          },
          "metadata": {
            "needs_background": "light"
          }
        }
      ]
    },
    {
      "cell_type": "code",
      "source": [
        "import matplotlib.pyplot as plt\n",
        "plt.hist(sorted(data['LATE_AIRCRAFT_DELAY']))\n",
        "plt.show()"
      ],
      "metadata": {
        "colab": {
          "base_uri": "https://localhost:8080/",
          "height": 265
        },
        "id": "yRhlULsnaM9V",
        "outputId": "1809bbef-e5c4-49e8-f02d-43ab24745e72"
      },
      "execution_count": null,
      "outputs": [
        {
          "output_type": "display_data",
          "data": {
            "text/plain": [
              "<Figure size 432x288 with 1 Axes>"
            ],
            "image/png": "[encoded data removed]"
          },
          "metadata": {
            "needs_background": "light"
          }
        }
      ]
    },
    {
      "cell_type": "code",
      "source": [
        "import pickle\n",
        "pickle.dump(forest, open('randomforest90.pkl', 'wb'))\n",
        "#pickled_model = pickle.load(open('model.pkl', 'rb'))\n",
        "#pickled_model.predict(X_test)"
      ],
      "metadata": {
        "id": "qtjwDO_Of2Py"
      },
      "execution_count": 250,
      "outputs": []
    },
    {
      "cell_type": "code",
      "source": [
        "from sklearn.metrics import mean_absolute_error\n",
        "print('Mean Absolute Error:',mean_absolute_error(y_test,y_pred))"
      ],
      "metadata": {
        "colab": {
          "base_uri": "https://localhost:8080/"
        },
        "id": "LnjUg3RZMJAl",
        "outputId": "3a939bd2-4af1-4f0e-c561-bf36c5f1caaa"
      },
      "execution_count": 242,
      "outputs": [
        {
          "output_type": "stream",
          "name": "stdout",
          "text": [
            "Mean Absolute Error: 7.114891734577535\n"
          ]
        }
      ]
    },
    {
      "cell_type": "code",
      "source": [
        "from sklearn.metrics import mean_squared_error\n",
        "print('Mean Squared Error:',mean_squared_error(y_test,y_pred))\n",
        "print('Root Mean Squared Error:', np.sqrt(mean_squared_error(y_test, y_pred)))\n"
      ],
      "metadata": {
        "colab": {
          "base_uri": "https://localhost:8080/"
        },
        "id": "9Ih-JEIBMMp2",
        "outputId": "203c5094-3e63-4abb-89ac-e8b596bf7440"
      },
      "execution_count": 243,
      "outputs": [
        {
          "output_type": "stream",
          "name": "stdout",
          "text": [
            "Mean Squared Error: 216.42938955392353\n",
            "Root Mean Squared Error: 14.711539333255494\n"
          ]
        }
      ]
    },
    {
      "cell_type": "code",
      "source": [
        "from sklearn.metrics import r2_score\n",
        "print(r2_score(y_test,y_pred))"
      ],
      "metadata": {
        "colab": {
          "base_uri": "https://localhost:8080/"
        },
        "id": "7hmyuAz8MX4B",
        "outputId": "b80224e2-895a-46bf-b9f1-849e0305f281"
      },
      "execution_count": 244,
      "outputs": [
        {
          "output_type": "stream",
          "name": "stdout",
          "text": [
            "0.9010833352489489\n"
          ]
        }
      ]
    },
    {
      "cell_type": "code",
      "source": [
        "from sklearn.tree import DecisionTreeRegressor \n",
        "d= DecisionTreeRegressor()\n",
        "d.fit(x_train,y_train)\n",
        "y_pred=d.predict(x_test)\n",
        "print(r2_score(y_test,y_pred))"
      ],
      "metadata": {
        "colab": {
          "base_uri": "https://localhost:8080/"
        },
        "id": "EqDdXyRbMdDQ",
        "outputId": "e2007cfd-48f6-4425-8f4c-47de14e4d4e6"
      },
      "execution_count": 245,
      "outputs": [
        {
          "output_type": "stream",
          "name": "stdout",
          "text": [
            "0.8940668253431864\n"
          ]
        }
      ]
    },
    {
      "cell_type": "code",
      "source": [
        "print('Mean Absolute Error:',mean_absolute_error(y_test,y_pred))\n",
        "print('Mean Squared Error:',mean_squared_error(y_test,y_pred))\n",
        "print('Root Mean Squared Error:', np.sqrt(mean_squared_error(y_test, y_pred)))\n"
      ],
      "metadata": {
        "colab": {
          "base_uri": "https://localhost:8080/"
        },
        "id": "buy9iQxInGHd",
        "outputId": "96c2d5bc-1c5b-4705-f482-2a5c7dada35c"
      },
      "execution_count": 246,
      "outputs": [
        {
          "output_type": "stream",
          "name": "stdout",
          "text": [
            "Mean Absolute Error: 10.162764771460424\n",
            "Mean Squared Error: 231.78149386845038\n",
            "Root Mean Squared Error: 15.224371706853796\n"
          ]
        }
      ]
    },
    {
      "cell_type": "code",
      "source": [
        ""
      ],
      "metadata": {
        "id": "mA934pcanGNZ"
      },
      "execution_count": null,
      "outputs": []
    },
    {
      "cell_type": "code",
      "source": [
        "from xgboost import XGBRegressor\n",
        "xg=XGBRegressor()\n",
        "xg.fit(x_train,y_train)\n",
        "y_pred=xg.predict(x_test)\n",
        "predictions = [round(value) for value in y_pred]\n",
        "print(r2_score(y_test,y_pred))\n"
      ],
      "metadata": {
        "colab": {
          "base_uri": "https://localhost:8080/"
        },
        "id": "U7RIJzYTM6dy",
        "outputId": "adb43b72-ced2-471f-c1af-633fad4ee3f7"
      },
      "execution_count": 247,
      "outputs": [
        {
          "output_type": "stream",
          "name": "stdout",
          "text": [
            "[15:19:42] WARNING: /workspace/src/objective/regression_obj.cu:152: reg:linear is now deprecated in favor of reg:squarederror.\n",
            "0.9338328665453445\n"
          ]
        }
      ]
    },
    {
      "cell_type": "code",
      "source": [
        "print('Mean Absolute Error:',mean_absolute_error(y_test,y_pred))\n",
        "print('Mean Squared Error:',mean_squared_error(y_test,y_pred))\n",
        "print('Root Mean Squared Error:', np.sqrt(mean_squared_error(y_test, y_pred)))\n",
        "\n",
        "\n",
        "\n"
      ],
      "metadata": {
        "id": "MU2Zvb48kqPi",
        "colab": {
          "base_uri": "https://localhost:8080/"
        },
        "outputId": "304813c9-88c1-4109-d6aa-08227b12bd2e"
      },
      "execution_count": 249,
      "outputs": [
        {
          "output_type": "stream",
          "name": "stdout",
          "text": [
            "Mean Absolute Error: 7.114863900702401\n",
            "Mean Squared Error: 144.77350543677642\n",
            "Root Mean Squared Error: 12.032186228478032\n"
          ]
        }
      ]
    }
  ]
}