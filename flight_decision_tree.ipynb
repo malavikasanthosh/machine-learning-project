{
  "nbformat": 4,
  "nbformat_minor": 0,
  "metadata": {
    "colab": {
      "name": "flight_decision_tree.ipynb",
      "provenance": []
    },
    "kernelspec": {
      "name": "python3",
      "display_name": "Python 3"
    },
    "language_info": {
      "name": "python"
    }
  },
  "cells": [
    {
      "cell_type": "code",
      "execution_count": null,
      "metadata": {
        "id": "R7sEsZiloe4E"
      },
      "outputs": [],
      "source": [
        "import pandas as pd\n",
        "import numpy as np\n",
        "import datetime\n",
        "import time\n",
        "import matplotlib.pyplot as plt\n",
        "from sklearn.model_selection import train_test_split\n",
        "from sklearn.preprocessing import LabelEncoder\n",
        "from sklearn.ensemble import RandomForestRegressor"
      ]
    },
    {
      "cell_type": "code",
      "source": [
        "airlines_df = pd.read_csv('airlines.csv')\n",
        "airlines_le = LabelEncoder()\n",
        "airlines_le.fit(airlines_df['IATA_CODE'].astype(str))\n",
        "#pickle.dump(airlines_le,open('airlines_encoder.pkl','wb'))\n",
        "\n",
        "airports_df = pd.read_csv('airports.csv')\n",
        "airports_le = LabelEncoder()\n",
        "airports_le.fit(airports_df['IATA_CODE'].astype(str))\n",
        "#pickle.dump(airports_le,open('airports_encoder.pkl','wb'))"
      ],
      "metadata": {
        "colab": {
          "base_uri": "https://localhost:8080/"
        },
        "id": "EcxDQrqOpYU8",
        "outputId": "1da02d61-d65f-4221-a4d9-2d5f777686d9"
      },
      "execution_count": null,
      "outputs": [
        {
          "output_type": "execute_result",
          "data": {
            "text/plain": [
              "LabelEncoder()"
            ]
          },
          "metadata": {},
          "execution_count": 2
        }
      ]
    },
    {
      "cell_type": "code",
      "source": [
        "\n",
        "print(airports_df[['IATA_CODE','AIRPORT']].to_dict(\"records\"))"
      ],
      "metadata": {
        "colab": {
          "base_uri": "https://localhost:8080/"
        },
        "id": "tUUpVr4Gpey-",
        "outputId": "7da706b6-d012-4807-b638-1d1d948cac42"
      },
      "execution_count": null,
      "outputs": [
        {
          "output_type": "stream",
          "name": "stdout",
          "text": [
            "[{'IATA_CODE': 'ABE', 'AIRPORT': 'Lehigh Valley International Airport'}, {'IATA_CODE': 'ABI', 'AIRPORT': 'Abilene Regional Airport'}, {'IATA_CODE': 'ABQ', 'AIRPORT': 'Albuquerque International Sunport'}, {'IATA_CODE': 'ABR', 'AIRPORT': 'Aberdeen Regional Airport'}, {'IATA_CODE': 'ABY', 'AIRPORT': 'Southwest Georgia Regional Airport'}, {'IATA_CODE': 'ACK', 'AIRPORT': 'Nantucket Memorial Airport'}, {'IATA_CODE': 'ACT', 'AIRPORT': 'Waco Regional Airport'}, {'IATA_CODE': 'ACV', 'AIRPORT': 'Arcata Airport'}, {'IATA_CODE': 'ACY', 'AIRPORT': 'Atlantic City International Airport'}, {'IATA_CODE': 'ADK', 'AIRPORT': 'Adak Airport'}, {'IATA_CODE': 'ADQ', 'AIRPORT': 'Kodiak Airport'}, {'IATA_CODE': 'AEX', 'AIRPORT': 'Alexandria International Airport'}, {'IATA_CODE': 'AGS', 'AIRPORT': 'Augusta Regional Airport\\xa0(Bush Field)'}, {'IATA_CODE': 'AKN', 'AIRPORT': 'King Salmon Airport'}, {'IATA_CODE': 'ALB', 'AIRPORT': 'Albany International Airport'}, {'IATA_CODE': 'ALO', 'AIRPORT': 'Waterloo Regional Airport'}, {'IATA_CODE': 'AMA', 'AIRPORT': 'Rick Husband Amarillo International Airport'}, {'IATA_CODE': 'ANC', 'AIRPORT': 'Ted Stevens Anchorage International Airport'}, {'IATA_CODE': 'APN', 'AIRPORT': 'Alpena County Regional Airport'}, {'IATA_CODE': 'ASE', 'AIRPORT': 'Aspen-Pitkin County Airport'}, {'IATA_CODE': 'ATL', 'AIRPORT': 'Hartsfield-Jackson Atlanta International Airport'}, {'IATA_CODE': 'ATW', 'AIRPORT': 'Appleton International Airport'}, {'IATA_CODE': 'AUS', 'AIRPORT': 'Austin-Bergstrom International Airport'}, {'IATA_CODE': 'AVL', 'AIRPORT': 'Asheville Regional Airport'}, {'IATA_CODE': 'AVP', 'AIRPORT': 'Wilkes-Barre/Scranton International Airport'}, {'IATA_CODE': 'AZO', 'AIRPORT': 'Kalamazoo/Battle Creek International Airport'}, {'IATA_CODE': 'BDL', 'AIRPORT': 'Bradley International Airport'}, {'IATA_CODE': 'BET', 'AIRPORT': 'Bethel Airport'}, {'IATA_CODE': 'BFL', 'AIRPORT': 'Meadows Field'}, {'IATA_CODE': 'BGM', 'AIRPORT': 'Greater Binghamton Airport'}, {'IATA_CODE': 'BGR', 'AIRPORT': 'Bangor International Airport'}, {'IATA_CODE': 'BHM', 'AIRPORT': 'Birmingham-Shuttlesworth International Airport'}, {'IATA_CODE': 'BIL', 'AIRPORT': 'Billings Logan International Airport'}, {'IATA_CODE': 'BIS', 'AIRPORT': 'Bismarck Municipal Airport'}, {'IATA_CODE': 'BJI', 'AIRPORT': 'Bemidji Regional Airport'}, {'IATA_CODE': 'BLI', 'AIRPORT': 'Bellingham International Airport'}, {'IATA_CODE': 'BMI', 'AIRPORT': 'Central Illinois Regional Airport at Bloomington-Normal'}, {'IATA_CODE': 'BNA', 'AIRPORT': 'Nashville International Airport'}, {'IATA_CODE': 'BOI', 'AIRPORT': 'Boise Airport\\xa0(Boise Air Terminal)'}, {'IATA_CODE': 'BOS', 'AIRPORT': 'Gen. Edward Lawrence Logan International Airport'}, {'IATA_CODE': 'BPT', 'AIRPORT': 'Jack Brooks Regional Airport\\xa0(Southeast Texas Regional)'}, {'IATA_CODE': 'BQK', 'AIRPORT': 'Brunswick Golden Isles Airport'}, {'IATA_CODE': 'BQN', 'AIRPORT': 'Rafael Hernández Airport'}, {'IATA_CODE': 'BRD', 'AIRPORT': 'Brainerd Lakes Regional Airport'}, {'IATA_CODE': 'BRO', 'AIRPORT': 'Brownsville/South Padre Island International Airport'}, {'IATA_CODE': 'BRW', 'AIRPORT': 'Wiley Post-Will Rogers Memorial Airport'}, {'IATA_CODE': 'BTM', 'AIRPORT': 'Bert Mooney Airport'}, {'IATA_CODE': 'BTR', 'AIRPORT': 'Baton Rouge Metropolitan Airport'}, {'IATA_CODE': 'BTV', 'AIRPORT': 'Burlington International Airport'}, {'IATA_CODE': 'BUF', 'AIRPORT': 'Buffalo Niagara International Airport'}, {'IATA_CODE': 'BUR', 'AIRPORT': 'Bob Hope Airport\\xa0(Hollywood Burbank Airport)'}, {'IATA_CODE': 'BWI', 'AIRPORT': 'Baltimore-Washington International Airport'}, {'IATA_CODE': 'BZN', 'AIRPORT': 'Bozeman Yellowstone International Airport\\xa0(Gallatin Field Airport)'}, {'IATA_CODE': 'CAE', 'AIRPORT': 'Columbia Metropolitan Airport'}, {'IATA_CODE': 'CAK', 'AIRPORT': 'Akron-Canton Regional Airport'}, {'IATA_CODE': 'CDC', 'AIRPORT': 'Cedar City Regional Airport'}, {'IATA_CODE': 'CDV', 'AIRPORT': 'Merle K. (Mudhole) Smith Airport'}, {'IATA_CODE': 'CEC', 'AIRPORT': 'Del Norte County Airport\\xa0(Jack McNamara Field)'}, {'IATA_CODE': 'CHA', 'AIRPORT': 'Chattanooga Metropolitan Airport\\xa0(Lovell Field)'}, {'IATA_CODE': 'CHO', 'AIRPORT': 'Charlottesville-Albemarle Airport'}, {'IATA_CODE': 'CHS', 'AIRPORT': 'Charleston International Airport/Charleston AFB'}, {'IATA_CODE': 'CID', 'AIRPORT': 'The Eastern Iowa Airport'}, {'IATA_CODE': 'CIU', 'AIRPORT': 'Chippewa County International Airport'}, {'IATA_CODE': 'CLD', 'AIRPORT': 'McClellan-Palomar Airport'}, {'IATA_CODE': 'CLE', 'AIRPORT': 'Cleveland Hopkins International Airport'}, {'IATA_CODE': 'CLL', 'AIRPORT': 'Easterwood Airport'}, {'IATA_CODE': 'CLT', 'AIRPORT': 'Charlotte Douglas International Airport'}, {'IATA_CODE': 'CMH', 'AIRPORT': 'Port Columbus International Airport'}, {'IATA_CODE': 'CMI', 'AIRPORT': 'University of Illinois - Willard Airport'}, {'IATA_CODE': 'CMX', 'AIRPORT': 'Houghton County Memorial Airport'}, {'IATA_CODE': 'CNY', 'AIRPORT': 'Canyonlands Field'}, {'IATA_CODE': 'COD', 'AIRPORT': 'Yellowstone Regional Airport'}, {'IATA_CODE': 'COS', 'AIRPORT': 'City of Colorado Springs Municipal Airport'}, {'IATA_CODE': 'COU', 'AIRPORT': 'Columbia Regional Airport'}, {'IATA_CODE': 'CPR', 'AIRPORT': 'Natrona County International Airport'}, {'IATA_CODE': 'CRP', 'AIRPORT': 'Corpus Christi International Airport'}, {'IATA_CODE': 'CRW', 'AIRPORT': 'Yeager Airport'}, {'IATA_CODE': 'CSG', 'AIRPORT': 'Columbus Metropolitan Airport'}, {'IATA_CODE': 'CVG', 'AIRPORT': 'Cincinnati/Northern Kentucky International Airport'}, {'IATA_CODE': 'CWA', 'AIRPORT': 'Central Wisconsin Airport'}, {'IATA_CODE': 'DAB', 'AIRPORT': 'Daytona Beach International Airport'}, {'IATA_CODE': 'DAL', 'AIRPORT': 'Dallas Love Field'}, {'IATA_CODE': 'DAY', 'AIRPORT': 'James M. Cox Dayton International Airport'}, {'IATA_CODE': 'DBQ', 'AIRPORT': 'Dubuque Regional Airport'}, {'IATA_CODE': 'DCA', 'AIRPORT': 'Ronald Reagan Washington National Airport'}, {'IATA_CODE': 'DEN', 'AIRPORT': 'Denver International Airport'}, {'IATA_CODE': 'DFW', 'AIRPORT': 'Dallas/Fort Worth International Airport'}, {'IATA_CODE': 'DHN', 'AIRPORT': 'Dothan Regional Airport'}, {'IATA_CODE': 'DIK', 'AIRPORT': 'Dickinson Theodore Roosevelt Regional Airport'}, {'IATA_CODE': 'DLG', 'AIRPORT': 'Dillingham Airport'}, {'IATA_CODE': 'DLH', 'AIRPORT': 'Duluth International Airport'}, {'IATA_CODE': 'DRO', 'AIRPORT': 'Durango-La Plata County Airport'}, {'IATA_CODE': 'DSM', 'AIRPORT': 'Des Moines International Airport'}, {'IATA_CODE': 'DTW', 'AIRPORT': 'Detroit Metropolitan Airport'}, {'IATA_CODE': 'DVL', 'AIRPORT': 'Devils Lake Regional Airport'}, {'IATA_CODE': 'EAU', 'AIRPORT': 'Chippewa Valley Regional Airport'}, {'IATA_CODE': 'ECP', 'AIRPORT': 'Northwest Florida Beaches International Airport'}, {'IATA_CODE': 'EGE', 'AIRPORT': 'Eagle County Regional Airport'}, {'IATA_CODE': 'EKO', 'AIRPORT': 'Elko Regional Airport'}, {'IATA_CODE': 'ELM', 'AIRPORT': 'Elmira/Corning Regional Airport'}, {'IATA_CODE': 'ELP', 'AIRPORT': 'El Paso International Airport'}, {'IATA_CODE': 'ERI', 'AIRPORT': 'Erie International Airport'}, {'IATA_CODE': 'ESC', 'AIRPORT': 'Delta County Airport'}, {'IATA_CODE': 'EUG', 'AIRPORT': 'Eugene Airport\\xa0(Mahlon Sweet Field)'}, {'IATA_CODE': 'EVV', 'AIRPORT': 'Evansville Regional Airport'}, {'IATA_CODE': 'EWN', 'AIRPORT': 'Coastal Carolina Regional Airport\\xa0(Craven County Regional)'}, {'IATA_CODE': 'EWR', 'AIRPORT': 'Newark Liberty International Airport'}, {'IATA_CODE': 'EYW', 'AIRPORT': 'Key West International Airport'}, {'IATA_CODE': 'FAI', 'AIRPORT': 'Fairbanks International Airport'}, {'IATA_CODE': 'FAR', 'AIRPORT': 'Hector International Airport'}, {'IATA_CODE': 'FAT', 'AIRPORT': 'Fresno Yosemite International Airport'}, {'IATA_CODE': 'FAY', 'AIRPORT': 'Fayetteville Regional Airport'}, {'IATA_CODE': 'FCA', 'AIRPORT': 'Glacier Park International Airport'}, {'IATA_CODE': 'FLG', 'AIRPORT': 'Flagstaff Pulliam Airport'}, {'IATA_CODE': 'FLL', 'AIRPORT': 'Fort Lauderdale-Hollywood International Airport'}, {'IATA_CODE': 'FNT', 'AIRPORT': 'Bishop International Airport'}, {'IATA_CODE': 'FSD', 'AIRPORT': 'Sioux Falls Regional Airport'}, {'IATA_CODE': 'FSM', 'AIRPORT': 'Fort Smith Regional Airport'}, {'IATA_CODE': 'FWA', 'AIRPORT': 'Fort Wayne International Airport'}, {'IATA_CODE': 'GCC', 'AIRPORT': 'Gillette-Campbell County Airport'}, {'IATA_CODE': 'GCK', 'AIRPORT': 'Garden City Regional Airport'}, {'IATA_CODE': 'GEG', 'AIRPORT': 'Spokane International Airport'}, {'IATA_CODE': 'GFK', 'AIRPORT': 'Grand Forks International Airport'}, {'IATA_CODE': 'GGG', 'AIRPORT': 'East Texas Regional Airport'}, {'IATA_CODE': 'GJT', 'AIRPORT': 'Grand Junction Regional Airport\\xa0(Walker Field)'}, {'IATA_CODE': 'GNV', 'AIRPORT': 'Gainesville Regional Airport'}, {'IATA_CODE': 'GPT', 'AIRPORT': 'Gulfport-Biloxi International Airport'}, {'IATA_CODE': 'GRB', 'AIRPORT': 'Green Bay-Austin Straubel International Airport'}, {'IATA_CODE': 'GRI', 'AIRPORT': 'Central Nebraska Regional Airport'}, {'IATA_CODE': 'GRK', 'AIRPORT': 'Killeen-Fort Hood Regional Airport'}, {'IATA_CODE': 'GRR', 'AIRPORT': 'Gerald R. Ford International Airport'}, {'IATA_CODE': 'GSO', 'AIRPORT': 'Piedmont Triad International Airport'}, {'IATA_CODE': 'GSP', 'AIRPORT': 'Greenville-Spartanburg International Airport'}, {'IATA_CODE': 'GST', 'AIRPORT': 'Gustavus Airport'}, {'IATA_CODE': 'GTF', 'AIRPORT': 'Great Falls International Airport'}, {'IATA_CODE': 'GTR', 'AIRPORT': 'Golden Triangle Regional Airport'}, {'IATA_CODE': 'GUC', 'AIRPORT': 'Gunnison-Crested Butte Regional Airport'}, {'IATA_CODE': 'GUM', 'AIRPORT': 'Guam International Airport'}, {'IATA_CODE': 'HDN', 'AIRPORT': 'Yampa Valley Airport\\xa0(Yampa Valley Regional)'}, {'IATA_CODE': 'HIB', 'AIRPORT': 'Range Regional Airport\\xa0(Chisholm-Hibbing Airport)'}, {'IATA_CODE': 'HLN', 'AIRPORT': 'Helena Regional Airport'}, {'IATA_CODE': 'HNL', 'AIRPORT': 'Honolulu International Airport'}, {'IATA_CODE': 'HOB', 'AIRPORT': 'Lea County Regional Airport'}, {'IATA_CODE': 'HOU', 'AIRPORT': 'William P. Hobby Airport'}, {'IATA_CODE': 'HPN', 'AIRPORT': 'Westchester County Airport'}, {'IATA_CODE': 'HRL', 'AIRPORT': 'Valley International Airport'}, {'IATA_CODE': 'HSV', 'AIRPORT': 'Huntsville International Airport'}, {'IATA_CODE': 'HYA', 'AIRPORT': 'Barnstable Municipal Airport'}, {'IATA_CODE': 'HYS', 'AIRPORT': 'Hays Regional Airport'}, {'IATA_CODE': 'IAD', 'AIRPORT': 'Washington Dulles International Airport'}, {'IATA_CODE': 'IAG', 'AIRPORT': 'Niagara Falls International Airport'}, {'IATA_CODE': 'IAH', 'AIRPORT': 'George Bush Intercontinental Airport'}, {'IATA_CODE': 'ICT', 'AIRPORT': 'Wichita Dwight D. Eisenhower National Airport\\xa0(Wichita Mid-Continent Airport)'}, {'IATA_CODE': 'IDA', 'AIRPORT': 'Idaho Falls Regional Airport'}, {'IATA_CODE': 'ILG', 'AIRPORT': 'Wilmington Airport'}, {'IATA_CODE': 'ILM', 'AIRPORT': 'Wilmington International Airport'}, {'IATA_CODE': 'IMT', 'AIRPORT': 'Ford Airport'}, {'IATA_CODE': 'IND', 'AIRPORT': 'Indianapolis International Airport'}, {'IATA_CODE': 'INL', 'AIRPORT': 'Falls International Airport'}, {'IATA_CODE': 'ISN', 'AIRPORT': 'Sloulin Field International Airport'}, {'IATA_CODE': 'ISP', 'AIRPORT': 'Long Island MacArthur Airport'}, {'IATA_CODE': 'ITH', 'AIRPORT': 'Ithaca Tompkins Regional Airport'}, {'IATA_CODE': 'ITO', 'AIRPORT': 'Hilo International Airport'}, {'IATA_CODE': 'JAC', 'AIRPORT': 'Jackson Hole Airport'}, {'IATA_CODE': 'JAN', 'AIRPORT': 'Jackson-Evers International Airport'}, {'IATA_CODE': 'JAX', 'AIRPORT': 'Jacksonville International Airport'}, {'IATA_CODE': 'JFK', 'AIRPORT': 'John F. Kennedy International Airport\\xa0(New York International Airport)'}, {'IATA_CODE': 'JLN', 'AIRPORT': 'Joplin Regional Airport'}, {'IATA_CODE': 'JMS', 'AIRPORT': 'Jamestown Regional Airport'}, {'IATA_CODE': 'JNU', 'AIRPORT': 'Juneau International Airport'}, {'IATA_CODE': 'KOA', 'AIRPORT': 'Kona International Airport at Keahole'}, {'IATA_CODE': 'KTN', 'AIRPORT': 'Ketchikan International Airport'}, {'IATA_CODE': 'LAN', 'AIRPORT': 'Capital Region International Airport\\xa0( Lansing Capital City)'}, {'IATA_CODE': 'LAR', 'AIRPORT': 'Laramie Regional Airport'}, {'IATA_CODE': 'LAS', 'AIRPORT': 'McCarran International Airport'}, {'IATA_CODE': 'LAW', 'AIRPORT': 'Lawton-Fort Sill Regional Airport'}, {'IATA_CODE': 'LAX', 'AIRPORT': 'Los Angeles International Airport'}, {'IATA_CODE': 'LBB', 'AIRPORT': 'Lubbock Preston Smith International Airport'}, {'IATA_CODE': 'LBE', 'AIRPORT': 'Arnold Palmer Regional Airport'}, {'IATA_CODE': 'LCH', 'AIRPORT': 'Lake Charles Regional Airport'}, {'IATA_CODE': 'LEX', 'AIRPORT': 'Blue Grass Airport'}, {'IATA_CODE': 'LFT', 'AIRPORT': 'Lafayette Regional Airport'}, {'IATA_CODE': 'LGA', 'AIRPORT': 'LaGuardia Airport (Marine Air Terminal)'}, {'IATA_CODE': 'LGB', 'AIRPORT': 'Long Beach Airport\\xa0(Daugherty Field)'}, {'IATA_CODE': 'LIH', 'AIRPORT': 'Lihue Airport'}, {'IATA_CODE': 'LIT', 'AIRPORT': 'Bill and Hillary Clinton National Airport\\xa0(Adams Field)'}, {'IATA_CODE': 'LNK', 'AIRPORT': 'Lincoln Airport\\xa0(Lincoln Municipal)'}, {'IATA_CODE': 'LRD', 'AIRPORT': 'Laredo International Airport'}, {'IATA_CODE': 'LSE', 'AIRPORT': 'La Crosse Regional Airport'}, {'IATA_CODE': 'LWS', 'AIRPORT': 'Lewiston-Nez Perce County Airport'}, {'IATA_CODE': 'MAF', 'AIRPORT': 'Midland International Airport'}, {'IATA_CODE': 'MBS', 'AIRPORT': 'MBS International Airport'}, {'IATA_CODE': 'MCI', 'AIRPORT': 'Kansas City International Airport'}, {'IATA_CODE': 'MCO', 'AIRPORT': 'Orlando International Airport'}, {'IATA_CODE': 'MDT', 'AIRPORT': 'Harrisburg International Airport'}, {'IATA_CODE': 'MDW', 'AIRPORT': 'Chicago Midway International Airport'}, {'IATA_CODE': 'MEI', 'AIRPORT': 'Meridian Regional Airport'}, {'IATA_CODE': 'MEM', 'AIRPORT': 'Memphis International Airport'}, {'IATA_CODE': 'MFE', 'AIRPORT': 'McAllen-Miller International Airport\\xa0(McAllen Miller International)'}, {'IATA_CODE': 'MFR', 'AIRPORT': 'Rogue Valley International Airport'}, {'IATA_CODE': 'MGM', 'AIRPORT': 'Montgomery Regional Airport'}, {'IATA_CODE': 'MHK', 'AIRPORT': 'Manhattan Regional Airport'}, {'IATA_CODE': 'MHT', 'AIRPORT': 'Manchester-Boston Regional Airport'}, {'IATA_CODE': 'MIA', 'AIRPORT': 'Miami International Airport'}, {'IATA_CODE': 'MKE', 'AIRPORT': 'General Mitchell International Airport'}, {'IATA_CODE': 'MKG', 'AIRPORT': 'Muskegon County Airport'}, {'IATA_CODE': 'MLB', 'AIRPORT': 'Melbourne International Airport'}, {'IATA_CODE': 'MLI', 'AIRPORT': 'Quad City International Airport'}, {'IATA_CODE': 'MLU', 'AIRPORT': 'Monroe Regional Airport'}, {'IATA_CODE': 'MMH', 'AIRPORT': 'Mammoth Yosemite Airport'}, {'IATA_CODE': 'MOB', 'AIRPORT': 'Mobile Regional Airport'}, {'IATA_CODE': 'MOT', 'AIRPORT': 'Minot International Airport'}, {'IATA_CODE': 'MQT', 'AIRPORT': 'Sawyer International Airport'}, {'IATA_CODE': 'MRY', 'AIRPORT': 'Monterey Regional Airport\\xa0(Monterey Peninsula Airport)'}, {'IATA_CODE': 'MSN', 'AIRPORT': 'Dane County Regional Airport'}, {'IATA_CODE': 'MSO', 'AIRPORT': 'Missoula International Airport'}, {'IATA_CODE': 'MSP', 'AIRPORT': 'Minneapolis-Saint Paul International Airport'}, {'IATA_CODE': 'MSY', 'AIRPORT': 'Louis Armstrong New Orleans International Airport'}, {'IATA_CODE': 'MTJ', 'AIRPORT': 'Montrose Regional Airport'}, {'IATA_CODE': 'MVY', 'AIRPORT': \"Martha's Vineyard Airport\"}, {'IATA_CODE': 'MYR', 'AIRPORT': 'Myrtle Beach International Airport'}, {'IATA_CODE': 'OAJ', 'AIRPORT': 'Albert J. Ellis Airport'}, {'IATA_CODE': 'OAK', 'AIRPORT': 'Oakland International Airport'}, {'IATA_CODE': 'OGG', 'AIRPORT': 'Kahului Airport'}, {'IATA_CODE': 'OKC', 'AIRPORT': 'Will Rogers World Airport'}, {'IATA_CODE': 'OMA', 'AIRPORT': 'Eppley Airfield'}, {'IATA_CODE': 'OME', 'AIRPORT': 'Nome Airport'}, {'IATA_CODE': 'ONT', 'AIRPORT': 'Ontario International Airport'}, {'IATA_CODE': 'ORD', 'AIRPORT': \"Chicago O'Hare International Airport\"}, {'IATA_CODE': 'ORF', 'AIRPORT': 'Norfolk International Airport'}, {'IATA_CODE': 'ORH', 'AIRPORT': 'Worcester Regional Airport'}, {'IATA_CODE': 'OTH', 'AIRPORT': 'Southwest Oregon Regional Airport\\xa0(North Bend Municipal)'}, {'IATA_CODE': 'OTZ', 'AIRPORT': 'Ralph Wien Memorial Airport'}, {'IATA_CODE': 'PAH', 'AIRPORT': 'Barkley Regional Airport'}, {'IATA_CODE': 'PBG', 'AIRPORT': 'Plattsburgh International Airport'}, {'IATA_CODE': 'PBI', 'AIRPORT': 'Palm Beach International Airport'}, {'IATA_CODE': 'PDX', 'AIRPORT': 'Portland International Airport'}, {'IATA_CODE': 'PHF', 'AIRPORT': 'Newport News/Williamsburg International Airport'}, {'IATA_CODE': 'PHL', 'AIRPORT': 'Philadelphia International Airport'}, {'IATA_CODE': 'PHX', 'AIRPORT': 'Phoenix Sky Harbor International Airport'}, {'IATA_CODE': 'PIA', 'AIRPORT': 'General Wayne A. Downing Peoria International Airport'}, {'IATA_CODE': 'PIB', 'AIRPORT': 'Hattiesburg-Laurel Regional Airport'}, {'IATA_CODE': 'PIH', 'AIRPORT': 'Pocatello Regional Airport'}, {'IATA_CODE': 'PIT', 'AIRPORT': 'Pittsburgh International Airport'}, {'IATA_CODE': 'PLN', 'AIRPORT': 'Pellston Regional Airport of Emmet County'}, {'IATA_CODE': 'PNS', 'AIRPORT': 'Pensacola International Airport\\xa0(Pensacola Gulf Coast Regional Airport)'}, {'IATA_CODE': 'PPG', 'AIRPORT': 'Pago Pago International Airport (Tafuna Airport)'}, {'IATA_CODE': 'PSC', 'AIRPORT': 'Tri-Cities Airport'}, {'IATA_CODE': 'PSE', 'AIRPORT': 'Mercedita Airport'}, {'IATA_CODE': 'PSG', 'AIRPORT': 'Petersburg James A. Johnson Airport'}, {'IATA_CODE': 'PSP', 'AIRPORT': 'Palm Springs International Airport'}, {'IATA_CODE': 'PUB', 'AIRPORT': 'Pueblo Memorial Airport'}, {'IATA_CODE': 'PVD', 'AIRPORT': 'Theodore Francis Green State Airport'}, {'IATA_CODE': 'PWM', 'AIRPORT': 'Portland International Jetport'}, {'IATA_CODE': 'RAP', 'AIRPORT': 'Rapid City Regional Airport'}, {'IATA_CODE': 'RDD', 'AIRPORT': 'Redding Municipal Airport'}, {'IATA_CODE': 'RDM', 'AIRPORT': 'Redmond Municipal Airport\\xa0(Roberts Field)'}, {'IATA_CODE': 'RDU', 'AIRPORT': 'Raleigh-Durham International Airport'}, {'IATA_CODE': 'RHI', 'AIRPORT': 'Rhinelander-Oneida County Airport'}, {'IATA_CODE': 'RIC', 'AIRPORT': 'Richmond International Airport'}, {'IATA_CODE': 'RKS', 'AIRPORT': 'Rock Springs-Sweetwater County Airport'}, {'IATA_CODE': 'RNO', 'AIRPORT': 'Reno/Tahoe International Airport'}, {'IATA_CODE': 'ROA', 'AIRPORT': 'Roanoke Regional Airport\\xa0(Woodrum Field)'}, {'IATA_CODE': 'ROC', 'AIRPORT': 'Greater Rochester International Airport'}, {'IATA_CODE': 'ROW', 'AIRPORT': 'Roswell International Air Center'}, {'IATA_CODE': 'RST', 'AIRPORT': 'Rochester International Airport'}, {'IATA_CODE': 'RSW', 'AIRPORT': 'Southwest Florida International Airport'}, {'IATA_CODE': 'SAF', 'AIRPORT': 'Santa Fe Municipal Airport'}, {'IATA_CODE': 'SAN', 'AIRPORT': 'San Diego International Airport\\xa0(Lindbergh Field)'}, {'IATA_CODE': 'SAT', 'AIRPORT': 'San Antonio International Airport'}, {'IATA_CODE': 'SAV', 'AIRPORT': 'Savannah/Hilton Head International Airport'}, {'IATA_CODE': 'SBA', 'AIRPORT': 'Santa Barbara Municipal Airport\\xa0(Santa Barbara Airport)'}, {'IATA_CODE': 'SBN', 'AIRPORT': 'South Bend International Airport\\xa0(South Bend Regional)'}, {'IATA_CODE': 'SBP', 'AIRPORT': 'San Luis Obispo County Regional Airport\\xa0(McChesney Field)'}, {'IATA_CODE': 'SCC', 'AIRPORT': 'Deadhorse Airport\\xa0(Prudhoe Bay Airport)'}, {'IATA_CODE': 'SCE', 'AIRPORT': 'University Park Airport'}, {'IATA_CODE': 'SDF', 'AIRPORT': 'Louisville International Airport\\xa0(Standiford Field)'}, {'IATA_CODE': 'SEA', 'AIRPORT': 'Seattle-Tacoma International Airport'}, {'IATA_CODE': 'SFO', 'AIRPORT': 'San Francisco International Airport'}, {'IATA_CODE': 'SGF', 'AIRPORT': 'Springfield-Branson National Airport'}, {'IATA_CODE': 'SGU', 'AIRPORT': 'St. George Regional Airport'}, {'IATA_CODE': 'SHV', 'AIRPORT': 'Shreveport Regional Airport'}, {'IATA_CODE': 'SIT', 'AIRPORT': 'Sitka Rocky Gutierrez Airport'}, {'IATA_CODE': 'SJC', 'AIRPORT': 'Norman Y. Mineta San José International Airport'}, {'IATA_CODE': 'SJT', 'AIRPORT': 'San Angelo Regional Airport\\xa0(Mathis Field)'}, {'IATA_CODE': 'SJU', 'AIRPORT': 'Luis Muñoz Marín International Airport'}, {'IATA_CODE': 'SLC', 'AIRPORT': 'Salt Lake City International Airport'}, {'IATA_CODE': 'SMF', 'AIRPORT': 'Sacramento International Airport'}, {'IATA_CODE': 'SMX', 'AIRPORT': 'Santa Maria Public Airport\\xa0(Capt G. Allan Hancock Field)'}, {'IATA_CODE': 'SNA', 'AIRPORT': 'John Wayne Airport\\xa0(Orange County Airport)'}, {'IATA_CODE': 'SPI', 'AIRPORT': 'Abraham Lincoln Capital Airport'}, {'IATA_CODE': 'SPS', 'AIRPORT': 'Wichita Falls Municipal Airport/Sheppard AFB'}, {'IATA_CODE': 'SRQ', 'AIRPORT': 'Sarasota-Bradenton International Airport'}, {'IATA_CODE': 'STC', 'AIRPORT': 'St. Cloud Regional Airport'}, {'IATA_CODE': 'STL', 'AIRPORT': 'St. Louis International Airport at Lambert Field'}, {'IATA_CODE': 'STT', 'AIRPORT': 'Cyril E. King Airport'}, {'IATA_CODE': 'STX', 'AIRPORT': 'Henry E. Rohlsen Airport'}, {'IATA_CODE': 'SUN', 'AIRPORT': 'Friedman Memorial Airport'}, {'IATA_CODE': 'SUX', 'AIRPORT': 'Sioux Gateway Airport'}, {'IATA_CODE': 'SWF', 'AIRPORT': 'Stewart International Airport'}, {'IATA_CODE': 'SYR', 'AIRPORT': 'Syracuse Hancock International Airport'}, {'IATA_CODE': 'TLH', 'AIRPORT': 'Tallahassee International Airport'}, {'IATA_CODE': 'TOL', 'AIRPORT': 'Toledo Express Airport'}, {'IATA_CODE': 'TPA', 'AIRPORT': 'Tampa International Airport'}, {'IATA_CODE': 'TRI', 'AIRPORT': 'Tri-Cities Regional Airport'}, {'IATA_CODE': 'TTN', 'AIRPORT': 'Trenton Mercer Airport'}, {'IATA_CODE': 'TUL', 'AIRPORT': 'Tulsa International Airport'}, {'IATA_CODE': 'TUS', 'AIRPORT': 'Tucson International Airport'}, {'IATA_CODE': 'TVC', 'AIRPORT': 'Cherry Capital Airport'}, {'IATA_CODE': 'TWF', 'AIRPORT': 'Magic Valley Regional Airport\\xa0(Joslin Field)'}, {'IATA_CODE': 'TXK', 'AIRPORT': 'Texarkana Regional Airport\\xa0(Webb Field)'}, {'IATA_CODE': 'TYR', 'AIRPORT': 'Tyler Pounds Regional Airport'}, {'IATA_CODE': 'TYS', 'AIRPORT': 'McGhee Tyson Airport'}, {'IATA_CODE': 'UST', 'AIRPORT': 'Northeast Florida Regional Airport\\xa0(St. Augustine Airport)'}, {'IATA_CODE': 'VEL', 'AIRPORT': 'Valdez Airport'}, {'IATA_CODE': 'VLD', 'AIRPORT': 'Valdosta Regional Airport'}, {'IATA_CODE': 'VPS', 'AIRPORT': 'Destin-Fort Walton Beach Airport/Eglin AFB'}, {'IATA_CODE': 'WRG', 'AIRPORT': 'Wrangell Airport'}, {'IATA_CODE': 'WYS', 'AIRPORT': 'Westerly State Airport'}, {'IATA_CODE': 'XNA', 'AIRPORT': 'Northwest Arkansas Regional Airport'}, {'IATA_CODE': 'YAK', 'AIRPORT': 'Yakutat Airport'}, {'IATA_CODE': 'YUM', 'AIRPORT': 'Yuma International Airport'}]\n"
          ]
        }
      ]
    },
    {
      "cell_type": "code",
      "source": [
        "from google.colab import drive\n",
        "drive.mount('/content/drive')"
      ],
      "metadata": {
        "colab": {
          "base_uri": "https://localhost:8080/"
        },
        "id": "cZ1zv5_FpkZb",
        "outputId": "bdc47410-afef-4e6e-fcd8-12a9cfb239f9"
      },
      "execution_count": null,
      "outputs": [
        {
          "output_type": "stream",
          "name": "stdout",
          "text": [
            "Mounted at /content/drive\n"
          ]
        }
      ]
    },
    {
      "cell_type": "code",
      "source": [
        "n=pd.read_csv('/content/drive/My Drive/flights.csv')"
      ],
      "metadata": {
        "colab": {
          "base_uri": "https://localhost:8080/"
        },
        "id": "QiQof3SBpz0y",
        "outputId": "4bbb0ab8-3211-4b99-f3eb-ecc64f2dd41c"
      },
      "execution_count": null,
      "outputs": [
        {
          "output_type": "stream",
          "name": "stderr",
          "text": [
            "/usr/local/lib/python3.7/dist-packages/IPython/core/interactiveshell.py:2882: DtypeWarning: Columns (7,8) have mixed types.Specify dtype option on import or set low_memory=False.\n",
            "  exec(code_obj, self.user_global_ns, self.user_ns)\n"
          ]
        }
      ]
    },
    {
      "cell_type": "code",
      "source": [
        "n.shape"
      ],
      "metadata": {
        "colab": {
          "base_uri": "https://localhost:8080/"
        },
        "id": "ZN1ocgTqp7oG",
        "outputId": "245dfbb9-26db-4240-9344-70940e3ba5c7"
      },
      "execution_count": null,
      "outputs": [
        {
          "output_type": "execute_result",
          "data": {
            "text/plain": [
              "(5819079, 31)"
            ]
          },
          "metadata": {},
          "execution_count": 6
        }
      ]
    },
    {
      "cell_type": "code",
      "source": [
        "data=n.sample(n=10000)"
      ],
      "metadata": {
        "id": "jv8Icce8qAsP"
      },
      "execution_count": null,
      "outputs": []
    },
    {
      "cell_type": "code",
      "source": [
        "data.to_csv(\"flight_sample.csv\",sep=\",\")"
      ],
      "metadata": {
        "id": "UwGQE_NaqI3q"
      },
      "execution_count": null,
      "outputs": []
    },
    {
      "cell_type": "code",
      "source": [
        "data.head()\n",
        "data.shape"
      ],
      "metadata": {
        "colab": {
          "base_uri": "https://localhost:8080/"
        },
        "id": "BOdwjh3XqKrL",
        "outputId": "f9f10eb0-6fa2-454b-ef43-4d10beaf5b7b"
      },
      "execution_count": null,
      "outputs": [
        {
          "output_type": "execute_result",
          "data": {
            "text/plain": [
              "(10000, 31)"
            ]
          },
          "metadata": {},
          "execution_count": 8
        }
      ]
    },
    {
      "cell_type": "code",
      "source": [
        "data['DATE'] = pd.to_datetime(data[['YEAR','MONTH', 'DAY']])\n",
        "data['DATE']"
      ],
      "metadata": {
        "colab": {
          "base_uri": "https://localhost:8080/"
        },
        "id": "boKq-4imqO13",
        "outputId": "07ab6fcd-b7e1-4135-f338-894a4b1e7579"
      },
      "execution_count": null,
      "outputs": [
        {
          "output_type": "execute_result",
          "data": {
            "text/plain": [
              "1677653   2015-04-17\n",
              "2545447   2015-06-10\n",
              "3032558   2015-07-09\n",
              "1477387   2015-04-05\n",
              "3158747   2015-07-17\n",
              "             ...    \n",
              "234782    2015-01-16\n",
              "2774565   2015-06-24\n",
              "4403227   2015-10-02\n",
              "3680127   2015-08-17\n",
              "3217369   2015-07-20\n",
              "Name: DATE, Length: 10000, dtype: datetime64[ns]"
            ]
          },
          "metadata": {},
          "execution_count": 9
        }
      ]
    },
    {
      "cell_type": "code",
      "source": [
        "print(data['AIRLINE'])"
      ],
      "metadata": {
        "colab": {
          "base_uri": "https://localhost:8080/"
        },
        "id": "W4Qasu4Gqgfi",
        "outputId": "3fe0eb28-aced-4450-8b2e-eac8eda6894f"
      },
      "execution_count": null,
      "outputs": [
        {
          "output_type": "stream",
          "name": "stdout",
          "text": [
            "1677653    DL\n",
            "2545447    NK\n",
            "3032558    WN\n",
            "1477387    EV\n",
            "3158747    WN\n",
            "           ..\n",
            "234782     MQ\n",
            "2774565    DL\n",
            "4403227    AA\n",
            "3680127    AS\n",
            "3217369    UA\n",
            "Name: AIRLINE, Length: 10000, dtype: object\n"
          ]
        }
      ]
    },
    {
      "cell_type": "code",
      "source": [
        "data=data[data['ORIGIN_AIRPORT'].apply(lambda x: not (str(x).isdigit()))]\n",
        "data=data[data['DESTINATION_AIRPORT'].apply(lambda x: not (str(x).isdigit()))]\n",
        "data=data[data['AIRLINE'].apply(lambda x: not (str(x).isdigit()))]"
      ],
      "metadata": {
        "id": "GNq69BMyqmxO"
      },
      "execution_count": null,
      "outputs": []
    },
    {
      "cell_type": "code",
      "source": [
        "#airlines_le = LabelEncoder()\n",
        "#airports_le = LabelEncoder()\n",
        "data['AIRLINE']=airlines_le.transform(data['AIRLINE'].astype(str))\n",
        "data['ORIGIN_AIRPORT']=airports_le.transform(data['ORIGIN_AIRPORT'].astype(str))\n",
        "data['DESTINATION_AIRPORT']=airports_le.transform(data['DESTINATION_AIRPORT'].astype(str))"
      ],
      "metadata": {
        "id": "QI7FumAZqqtv"
      },
      "execution_count": null,
      "outputs": []
    },
    {
      "cell_type": "code",
      "source": [
        "pickle.dump(labelEncoder,open('encoder.pkl','wb'))"
      ],
      "metadata": {
        "id": "Di407m5GrYyZ"
      },
      "execution_count": null,
      "outputs": []
    },
    {
      "cell_type": "code",
      "source": [
        "data.loc[data['AIRLINE_DELAY'].notnull(),['AIRLINE_DELAY','AIR_SYSTEM_DELAY','SECURITY_DELAY','LATE_AIRCRAFT_DELAY','WEATHER_DELAY']]"
      ],
      "metadata": {
        "colab": {
          "base_uri": "https://localhost:8080/",
          "height": 424
        },
        "id": "mw_0HfPgtelB",
        "outputId": "aac69cb7-9cd5-407b-ae3e-712ed88c14f3"
      },
      "execution_count": null,
      "outputs": [
        {
          "output_type": "execute_result",
          "data": {
            "text/plain": [
              "         AIRLINE_DELAY  AIR_SYSTEM_DELAY  SECURITY_DELAY  LATE_AIRCRAFT_DELAY  \\\n",
              "3158747            7.0               0.0             0.0                 64.0   \n",
              "1633335            0.0               0.0             0.0                 88.0   \n",
              "1059925           26.0               7.0             0.0                  0.0   \n",
              "1154228            0.0               4.0             0.0                 75.0   \n",
              "5547760            0.0               0.0             0.0                 53.0   \n",
              "...                ...               ...             ...                  ...   \n",
              "820988             0.0               0.0             0.0                 61.0   \n",
              "1717961            0.0               0.0             0.0                 37.0   \n",
              "917608             1.0               2.0             0.0                 27.0   \n",
              "5771931           26.0               0.0             0.0                  7.0   \n",
              "42053              0.0               9.0             0.0                  0.0   \n",
              "\n",
              "         WEATHER_DELAY  \n",
              "3158747            0.0  \n",
              "1633335            0.0  \n",
              "1059925            0.0  \n",
              "1154228            0.0  \n",
              "5547760            0.0  \n",
              "...                ...  \n",
              "820988            14.0  \n",
              "1717961            0.0  \n",
              "917608             0.0  \n",
              "5771931            0.0  \n",
              "42053             24.0  \n",
              "\n",
              "[1696 rows x 5 columns]"
            ],
            "text/html": [
              "\n",
              "  <div id=\"df-4997cfe6-5280-4a67-abb8-0e5d2acc839b\">\n",
              "    <div class=\"colab-df-container\">\n",
              "      <div>\n",
              "<style scoped>\n",
              "    .dataframe tbody tr th:only-of-type {\n",
              "        vertical-align: middle;\n",
              "    }\n",
              "\n",
              "    .dataframe tbody tr th {\n",
              "        vertical-align: top;\n",
              "    }\n",
              "\n",
              "    .dataframe thead th {\n",
              "        text-align: right;\n",
              "    }\n",
              "</style>\n",
              "<table border=\"1\" class=\"dataframe\">\n",
              "  <thead>\n",
              "    <tr style=\"text-align: right;\">\n",
              "      <th></th>\n",
              "      <th>AIRLINE_DELAY</th>\n",
              "      <th>AIR_SYSTEM_DELAY</th>\n",
              "      <th>SECURITY_DELAY</th>\n",
              "      <th>LATE_AIRCRAFT_DELAY</th>\n",
              "      <th>WEATHER_DELAY</th>\n",
              "    </tr>\n",
              "  </thead>\n",
              "  <tbody>\n",
              "    <tr>\n",
              "      <th>3158747</th>\n",
              "      <td>7.0</td>\n",
              "      <td>0.0</td>\n",
              "      <td>0.0</td>\n",
              "      <td>64.0</td>\n",
              "      <td>0.0</td>\n",
              "    </tr>\n",
              "    <tr>\n",
              "      <th>1633335</th>\n",
              "      <td>0.0</td>\n",
              "      <td>0.0</td>\n",
              "      <td>0.0</td>\n",
              "      <td>88.0</td>\n",
              "      <td>0.0</td>\n",
              "    </tr>\n",
              "    <tr>\n",
              "      <th>1059925</th>\n",
              "      <td>26.0</td>\n",
              "      <td>7.0</td>\n",
              "      <td>0.0</td>\n",
              "      <td>0.0</td>\n",
              "      <td>0.0</td>\n",
              "    </tr>\n",
              "    <tr>\n",
              "      <th>1154228</th>\n",
              "      <td>0.0</td>\n",
              "      <td>4.0</td>\n",
              "      <td>0.0</td>\n",
              "      <td>75.0</td>\n",
              "      <td>0.0</td>\n",
              "    </tr>\n",
              "    <tr>\n",
              "      <th>5547760</th>\n",
              "      <td>0.0</td>\n",
              "      <td>0.0</td>\n",
              "      <td>0.0</td>\n",
              "      <td>53.0</td>\n",
              "      <td>0.0</td>\n",
              "    </tr>\n",
              "    <tr>\n",
              "      <th>...</th>\n",
              "      <td>...</td>\n",
              "      <td>...</td>\n",
              "      <td>...</td>\n",
              "      <td>...</td>\n",
              "      <td>...</td>\n",
              "    </tr>\n",
              "    <tr>\n",
              "      <th>820988</th>\n",
              "      <td>0.0</td>\n",
              "      <td>0.0</td>\n",
              "      <td>0.0</td>\n",
              "      <td>61.0</td>\n",
              "      <td>14.0</td>\n",
              "    </tr>\n",
              "    <tr>\n",
              "      <th>1717961</th>\n",
              "      <td>0.0</td>\n",
              "      <td>0.0</td>\n",
              "      <td>0.0</td>\n",
              "      <td>37.0</td>\n",
              "      <td>0.0</td>\n",
              "    </tr>\n",
              "    <tr>\n",
              "      <th>917608</th>\n",
              "      <td>1.0</td>\n",
              "      <td>2.0</td>\n",
              "      <td>0.0</td>\n",
              "      <td>27.0</td>\n",
              "      <td>0.0</td>\n",
              "    </tr>\n",
              "    <tr>\n",
              "      <th>5771931</th>\n",
              "      <td>26.0</td>\n",
              "      <td>0.0</td>\n",
              "      <td>0.0</td>\n",
              "      <td>7.0</td>\n",
              "      <td>0.0</td>\n",
              "    </tr>\n",
              "    <tr>\n",
              "      <th>42053</th>\n",
              "      <td>0.0</td>\n",
              "      <td>9.0</td>\n",
              "      <td>0.0</td>\n",
              "      <td>0.0</td>\n",
              "      <td>24.0</td>\n",
              "    </tr>\n",
              "  </tbody>\n",
              "</table>\n",
              "<p>1696 rows × 5 columns</p>\n",
              "</div>\n",
              "      <button class=\"colab-df-convert\" onclick=\"convertToInteractive('df-4997cfe6-5280-4a67-abb8-0e5d2acc839b')\"\n",
              "              title=\"Convert this dataframe to an interactive table.\"\n",
              "              style=\"display:none;\">\n",
              "        \n",
              "  <svg xmlns=\"http://www.w3.org/2000/svg\" height=\"24px\"viewBox=\"0 0 24 24\"\n",
              "       width=\"24px\">\n",
              "    <path d=\"M0 0h24v24H0V0z\" fill=\"none\"/>\n",
              "    <path d=\"M18.56 5.44l.94 2.06.94-2.06 2.06-.94-2.06-.94-.94-2.06-.94 2.06-2.06.94zm-11 1L8.5 8.5l.94-2.06 2.06-.94-2.06-.94L8.5 2.5l-.94 2.06-2.06.94zm10 10l.94 2.06.94-2.06 2.06-.94-2.06-.94-.94-2.06-.94 2.06-2.06.94z\"/><path d=\"M17.41 7.96l-1.37-1.37c-.4-.4-.92-.59-1.43-.59-.52 0-1.04.2-1.43.59L10.3 9.45l-7.72 7.72c-.78.78-.78 2.05 0 2.83L4 21.41c.39.39.9.59 1.41.59.51 0 1.02-.2 1.41-.59l7.78-7.78 2.81-2.81c.8-.78.8-2.07 0-2.86zM5.41 20L4 18.59l7.72-7.72 1.47 1.35L5.41 20z\"/>\n",
              "  </svg>\n",
              "      </button>\n",
              "      \n",
              "  <style>\n",
              "    .colab-df-container {\n",
              "      display:flex;\n",
              "      flex-wrap:wrap;\n",
              "      gap: 12px;\n",
              "    }\n",
              "\n",
              "    .colab-df-convert {\n",
              "      background-color: #E8F0FE;\n",
              "      border: none;\n",
              "      border-radius: 50%;\n",
              "      cursor: pointer;\n",
              "      display: none;\n",
              "      fill: #1967D2;\n",
              "      height: 32px;\n",
              "      padding: 0 0 0 0;\n",
              "      width: 32px;\n",
              "    }\n",
              "\n",
              "    .colab-df-convert:hover {\n",
              "      background-color: #E2EBFA;\n",
              "      box-shadow: 0px 1px 2px rgba(60, 64, 67, 0.3), 0px 1px 3px 1px rgba(60, 64, 67, 0.15);\n",
              "      fill: #174EA6;\n",
              "    }\n",
              "\n",
              "    [theme=dark] .colab-df-convert {\n",
              "      background-color: #3B4455;\n",
              "      fill: #D2E3FC;\n",
              "    }\n",
              "\n",
              "    [theme=dark] .colab-df-convert:hover {\n",
              "      background-color: #434B5C;\n",
              "      box-shadow: 0px 1px 3px 1px rgba(0, 0, 0, 0.15);\n",
              "      filter: drop-shadow(0px 1px 2px rgba(0, 0, 0, 0.3));\n",
              "      fill: #FFFFFF;\n",
              "    }\n",
              "  </style>\n",
              "\n",
              "      <script>\n",
              "        const buttonEl =\n",
              "          document.querySelector('#df-4997cfe6-5280-4a67-abb8-0e5d2acc839b button.colab-df-convert');\n",
              "        buttonEl.style.display =\n",
              "          google.colab.kernel.accessAllowed ? 'block' : 'none';\n",
              "\n",
              "        async function convertToInteractive(key) {\n",
              "          const element = document.querySelector('#df-4997cfe6-5280-4a67-abb8-0e5d2acc839b');\n",
              "          const dataTable =\n",
              "            await google.colab.kernel.invokeFunction('convertToInteractive',\n",
              "                                                     [key], {});\n",
              "          if (!dataTable) return;\n",
              "\n",
              "          const docLinkHtml = 'Like what you see? Visit the ' +\n",
              "            '<a target=\"_blank\" href=https://colab.research.google.com/notebooks/data_table.ipynb>data table notebook</a>'\n",
              "            + ' to learn more about interactive tables.';\n",
              "          element.innerHTML = '';\n",
              "          dataTable['output_type'] = 'display_data';\n",
              "          await google.colab.output.renderOutput(dataTable, element);\n",
              "          const docLink = document.createElement('div');\n",
              "          docLink.innerHTML = docLinkHtml;\n",
              "          element.appendChild(docLink);\n",
              "        }\n",
              "      </script>\n",
              "    </div>\n",
              "  </div>\n",
              "  "
            ]
          },
          "metadata": {},
          "execution_count": 13
        }
      ]
    },
    {
      "cell_type": "code",
      "source": [
        "data['AIR_SYSTEM_DELAY'] = data['AIR_SYSTEM_DELAY'].fillna(0)\n",
        "data['SECURITY_DELAY'] = data['SECURITY_DELAY'].fillna(0)\n",
        "data['AIRLINE_DELAY'] = data['AIRLINE_DELAY'].fillna(0)\n",
        "data['LATE_AIRCRAFT_DELAY'] = data['LATE_AIRCRAFT_DELAY'].fillna(0)\n",
        "data['WEATHER_DELAY'] = data['WEATHER_DELAY'].fillna(0)"
      ],
      "metadata": {
        "id": "xKzJZQJ-tyYx"
      },
      "execution_count": null,
      "outputs": []
    },
    {
      "cell_type": "code",
      "source": [
        "data.drop('CANCELLATION_REASON', axis = 1, inplace = True)"
      ],
      "metadata": {
        "id": "yUD5O1rnt7Td"
      },
      "execution_count": null,
      "outputs": []
    },
    {
      "cell_type": "code",
      "source": [
        "data=data.dropna(axis=0)"
      ],
      "metadata": {
        "id": "X9-At-dtuDXE"
      },
      "execution_count": null,
      "outputs": []
    },
    {
      "cell_type": "code",
      "source": [
        "data.isna().sum()"
      ],
      "metadata": {
        "colab": {
          "base_uri": "https://localhost:8080/"
        },
        "id": "uPDFQ35uuKaw",
        "outputId": "41b9db01-ef6b-426e-d488-f6435ea405cb"
      },
      "execution_count": null,
      "outputs": [
        {
          "output_type": "execute_result",
          "data": {
            "text/plain": [
              "YEAR                   0\n",
              "MONTH                  0\n",
              "DAY                    0\n",
              "DAY_OF_WEEK            0\n",
              "AIRLINE                0\n",
              "FLIGHT_NUMBER          0\n",
              "TAIL_NUMBER            0\n",
              "ORIGIN_AIRPORT         0\n",
              "DESTINATION_AIRPORT    0\n",
              "SCHEDULED_DEPARTURE    0\n",
              "DEPARTURE_TIME         0\n",
              "DEPARTURE_DELAY        0\n",
              "TAXI_OUT               0\n",
              "WHEELS_OFF             0\n",
              "SCHEDULED_TIME         0\n",
              "ELAPSED_TIME           0\n",
              "AIR_TIME               0\n",
              "DISTANCE               0\n",
              "WHEELS_ON              0\n",
              "TAXI_IN                0\n",
              "SCHEDULED_ARRIVAL      0\n",
              "ARRIVAL_TIME           0\n",
              "ARRIVAL_DELAY          0\n",
              "DIVERTED               0\n",
              "CANCELLED              0\n",
              "AIR_SYSTEM_DELAY       0\n",
              "SECURITY_DELAY         0\n",
              "AIRLINE_DELAY          0\n",
              "LATE_AIRCRAFT_DELAY    0\n",
              "WEATHER_DELAY          0\n",
              "DATE                   0\n",
              "dtype: int64"
            ]
          },
          "metadata": {},
          "execution_count": 17
        }
      ]
    },
    {
      "cell_type": "code",
      "source": [
        "feature_list=['MONTH','DAY','AIRLINE','SCHEDULED_ARRIVAL','ORIGIN_AIRPORT','DESTINATION_AIRPORT',\n",
        "              'AIR_SYSTEM_DELAY','WEATHER_DELAY','SECURITY_DELAY','LATE_AIRCRAFT_DELAY',\n",
        "              'AIRLINE_DELAY','DEPARTURE_DELAY'] "
      ],
      "metadata": {
        "id": "M76b67ztuktH"
      },
      "execution_count": null,
      "outputs": []
    },
    {
      "cell_type": "code",
      "source": [
        "x=data[feature_list]"
      ],
      "metadata": {
        "id": "9kOM01jdupeb"
      },
      "execution_count": null,
      "outputs": []
    },
    {
      "cell_type": "code",
      "source": [
        "x"
      ],
      "metadata": {
        "colab": {
          "base_uri": "https://localhost:8080/",
          "height": 488
        },
        "id": "0V1c_uYluvAJ",
        "outputId": "6365dc50-5033-4d09-f1f4-c27e38bfae61"
      },
      "execution_count": null,
      "outputs": [
        {
          "output_type": "execute_result",
          "data": {
            "text/plain": [
              "         MONTH  DAY  AIRLINE  SCHEDULED_ARRIVAL  ORIGIN_AIRPORT  \\\n",
              "1677653      4   17        3               2059              20   \n",
              "2545447      6   10        8               1602              64   \n",
              "3032558      7    9       13               1820              22   \n",
              "1477387      4    5        4               1649             211   \n",
              "3158747      7   17       13               1110             176   \n",
              "...        ...  ...      ...                ...             ...   \n",
              "5470362     12    9        0               1543              84   \n",
              "234782       1   16        7                935             228   \n",
              "2774565      6   24        3                938             245   \n",
              "3680127      8   17        1                846             277   \n",
              "3217369      7   20       10               1958             106   \n",
              "\n",
              "         DESTINATION_AIRPORT  AIR_SYSTEM_DELAY  WEATHER_DELAY  SECURITY_DELAY  \\\n",
              "1677653                  239               0.0            0.0             0.0   \n",
              "2545447                  220               0.0            0.0             0.0   \n",
              "3032558                   81               0.0            0.0             0.0   \n",
              "1477387                   85               0.0            0.0             0.0   \n",
              "3158747                   85               0.0            0.0             0.0   \n",
              "...                      ...               ...            ...             ...   \n",
              "5470362                  203               0.0            0.0             0.0   \n",
              "234782                   188               0.0            0.0             0.0   \n",
              "2774565                   20               0.0            0.0             0.0   \n",
              "3680127                  171               0.0            0.0             0.0   \n",
              "3217369                  193               0.0            0.0             0.0   \n",
              "\n",
              "         LATE_AIRCRAFT_DELAY  AIRLINE_DELAY  DEPARTURE_DELAY  \n",
              "1677653                  0.0            0.0              0.0  \n",
              "2545447                  0.0            0.0             -9.0  \n",
              "3032558                  0.0            0.0              0.0  \n",
              "1477387                  0.0            0.0             -9.0  \n",
              "3158747                 64.0            7.0             81.0  \n",
              "...                      ...            ...              ...  \n",
              "5470362                  0.0            0.0             -3.0  \n",
              "234782                   0.0            0.0             -5.0  \n",
              "2774565                  0.0            0.0              0.0  \n",
              "3680127                  0.0            0.0             -2.0  \n",
              "3217369                  0.0            0.0              0.0  \n",
              "\n",
              "[8980 rows x 12 columns]"
            ],
            "text/html": [
              "\n",
              "  <div id=\"df-d43de6ee-3fce-45b5-9048-ec1d808d21da\">\n",
              "    <div class=\"colab-df-container\">\n",
              "      <div>\n",
              "<style scoped>\n",
              "    .dataframe tbody tr th:only-of-type {\n",
              "        vertical-align: middle;\n",
              "    }\n",
              "\n",
              "    .dataframe tbody tr th {\n",
              "        vertical-align: top;\n",
              "    }\n",
              "\n",
              "    .dataframe thead th {\n",
              "        text-align: right;\n",
              "    }\n",
              "</style>\n",
              "<table border=\"1\" class=\"dataframe\">\n",
              "  <thead>\n",
              "    <tr style=\"text-align: right;\">\n",
              "      <th></th>\n",
              "      <th>MONTH</th>\n",
              "      <th>DAY</th>\n",
              "      <th>AIRLINE</th>\n",
              "      <th>SCHEDULED_ARRIVAL</th>\n",
              "      <th>ORIGIN_AIRPORT</th>\n",
              "      <th>DESTINATION_AIRPORT</th>\n",
              "      <th>AIR_SYSTEM_DELAY</th>\n",
              "      <th>WEATHER_DELAY</th>\n",
              "      <th>SECURITY_DELAY</th>\n",
              "      <th>LATE_AIRCRAFT_DELAY</th>\n",
              "      <th>AIRLINE_DELAY</th>\n",
              "      <th>DEPARTURE_DELAY</th>\n",
              "    </tr>\n",
              "  </thead>\n",
              "  <tbody>\n",
              "    <tr>\n",
              "      <th>1677653</th>\n",
              "      <td>4</td>\n",
              "      <td>17</td>\n",
              "      <td>3</td>\n",
              "      <td>2059</td>\n",
              "      <td>20</td>\n",
              "      <td>239</td>\n",
              "      <td>0.0</td>\n",
              "      <td>0.0</td>\n",
              "      <td>0.0</td>\n",
              "      <td>0.0</td>\n",
              "      <td>0.0</td>\n",
              "      <td>0.0</td>\n",
              "    </tr>\n",
              "    <tr>\n",
              "      <th>2545447</th>\n",
              "      <td>6</td>\n",
              "      <td>10</td>\n",
              "      <td>8</td>\n",
              "      <td>1602</td>\n",
              "      <td>64</td>\n",
              "      <td>220</td>\n",
              "      <td>0.0</td>\n",
              "      <td>0.0</td>\n",
              "      <td>0.0</td>\n",
              "      <td>0.0</td>\n",
              "      <td>0.0</td>\n",
              "      <td>-9.0</td>\n",
              "    </tr>\n",
              "    <tr>\n",
              "      <th>3032558</th>\n",
              "      <td>7</td>\n",
              "      <td>9</td>\n",
              "      <td>13</td>\n",
              "      <td>1820</td>\n",
              "      <td>22</td>\n",
              "      <td>81</td>\n",
              "      <td>0.0</td>\n",
              "      <td>0.0</td>\n",
              "      <td>0.0</td>\n",
              "      <td>0.0</td>\n",
              "      <td>0.0</td>\n",
              "      <td>0.0</td>\n",
              "    </tr>\n",
              "    <tr>\n",
              "      <th>1477387</th>\n",
              "      <td>4</td>\n",
              "      <td>5</td>\n",
              "      <td>4</td>\n",
              "      <td>1649</td>\n",
              "      <td>211</td>\n",
              "      <td>85</td>\n",
              "      <td>0.0</td>\n",
              "      <td>0.0</td>\n",
              "      <td>0.0</td>\n",
              "      <td>0.0</td>\n",
              "      <td>0.0</td>\n",
              "      <td>-9.0</td>\n",
              "    </tr>\n",
              "    <tr>\n",
              "      <th>3158747</th>\n",
              "      <td>7</td>\n",
              "      <td>17</td>\n",
              "      <td>13</td>\n",
              "      <td>1110</td>\n",
              "      <td>176</td>\n",
              "      <td>85</td>\n",
              "      <td>0.0</td>\n",
              "      <td>0.0</td>\n",
              "      <td>0.0</td>\n",
              "      <td>64.0</td>\n",
              "      <td>7.0</td>\n",
              "      <td>81.0</td>\n",
              "    </tr>\n",
              "    <tr>\n",
              "      <th>...</th>\n",
              "      <td>...</td>\n",
              "      <td>...</td>\n",
              "      <td>...</td>\n",
              "      <td>...</td>\n",
              "      <td>...</td>\n",
              "      <td>...</td>\n",
              "      <td>...</td>\n",
              "      <td>...</td>\n",
              "      <td>...</td>\n",
              "      <td>...</td>\n",
              "      <td>...</td>\n",
              "      <td>...</td>\n",
              "    </tr>\n",
              "    <tr>\n",
              "      <th>5470362</th>\n",
              "      <td>12</td>\n",
              "      <td>9</td>\n",
              "      <td>0</td>\n",
              "      <td>1543</td>\n",
              "      <td>84</td>\n",
              "      <td>203</td>\n",
              "      <td>0.0</td>\n",
              "      <td>0.0</td>\n",
              "      <td>0.0</td>\n",
              "      <td>0.0</td>\n",
              "      <td>0.0</td>\n",
              "      <td>-3.0</td>\n",
              "    </tr>\n",
              "    <tr>\n",
              "      <th>234782</th>\n",
              "      <td>1</td>\n",
              "      <td>16</td>\n",
              "      <td>7</td>\n",
              "      <td>935</td>\n",
              "      <td>228</td>\n",
              "      <td>188</td>\n",
              "      <td>0.0</td>\n",
              "      <td>0.0</td>\n",
              "      <td>0.0</td>\n",
              "      <td>0.0</td>\n",
              "      <td>0.0</td>\n",
              "      <td>-5.0</td>\n",
              "    </tr>\n",
              "    <tr>\n",
              "      <th>2774565</th>\n",
              "      <td>6</td>\n",
              "      <td>24</td>\n",
              "      <td>3</td>\n",
              "      <td>938</td>\n",
              "      <td>245</td>\n",
              "      <td>20</td>\n",
              "      <td>0.0</td>\n",
              "      <td>0.0</td>\n",
              "      <td>0.0</td>\n",
              "      <td>0.0</td>\n",
              "      <td>0.0</td>\n",
              "      <td>0.0</td>\n",
              "    </tr>\n",
              "    <tr>\n",
              "      <th>3680127</th>\n",
              "      <td>8</td>\n",
              "      <td>17</td>\n",
              "      <td>1</td>\n",
              "      <td>846</td>\n",
              "      <td>277</td>\n",
              "      <td>171</td>\n",
              "      <td>0.0</td>\n",
              "      <td>0.0</td>\n",
              "      <td>0.0</td>\n",
              "      <td>0.0</td>\n",
              "      <td>0.0</td>\n",
              "      <td>-2.0</td>\n",
              "    </tr>\n",
              "    <tr>\n",
              "      <th>3217369</th>\n",
              "      <td>7</td>\n",
              "      <td>20</td>\n",
              "      <td>10</td>\n",
              "      <td>1958</td>\n",
              "      <td>106</td>\n",
              "      <td>193</td>\n",
              "      <td>0.0</td>\n",
              "      <td>0.0</td>\n",
              "      <td>0.0</td>\n",
              "      <td>0.0</td>\n",
              "      <td>0.0</td>\n",
              "      <td>0.0</td>\n",
              "    </tr>\n",
              "  </tbody>\n",
              "</table>\n",
              "<p>8980 rows × 12 columns</p>\n",
              "</div>\n",
              "      <button class=\"colab-df-convert\" onclick=\"convertToInteractive('df-d43de6ee-3fce-45b5-9048-ec1d808d21da')\"\n",
              "              title=\"Convert this dataframe to an interactive table.\"\n",
              "              style=\"display:none;\">\n",
              "        \n",
              "  <svg xmlns=\"http://www.w3.org/2000/svg\" height=\"24px\"viewBox=\"0 0 24 24\"\n",
              "       width=\"24px\">\n",
              "    <path d=\"M0 0h24v24H0V0z\" fill=\"none\"/>\n",
              "    <path d=\"M18.56 5.44l.94 2.06.94-2.06 2.06-.94-2.06-.94-.94-2.06-.94 2.06-2.06.94zm-11 1L8.5 8.5l.94-2.06 2.06-.94-2.06-.94L8.5 2.5l-.94 2.06-2.06.94zm10 10l.94 2.06.94-2.06 2.06-.94-2.06-.94-.94-2.06-.94 2.06-2.06.94z\"/><path d=\"M17.41 7.96l-1.37-1.37c-.4-.4-.92-.59-1.43-.59-.52 0-1.04.2-1.43.59L10.3 9.45l-7.72 7.72c-.78.78-.78 2.05 0 2.83L4 21.41c.39.39.9.59 1.41.59.51 0 1.02-.2 1.41-.59l7.78-7.78 2.81-2.81c.8-.78.8-2.07 0-2.86zM5.41 20L4 18.59l7.72-7.72 1.47 1.35L5.41 20z\"/>\n",
              "  </svg>\n",
              "      </button>\n",
              "      \n",
              "  <style>\n",
              "    .colab-df-container {\n",
              "      display:flex;\n",
              "      flex-wrap:wrap;\n",
              "      gap: 12px;\n",
              "    }\n",
              "\n",
              "    .colab-df-convert {\n",
              "      background-color: #E8F0FE;\n",
              "      border: none;\n",
              "      border-radius: 50%;\n",
              "      cursor: pointer;\n",
              "      display: none;\n",
              "      fill: #1967D2;\n",
              "      height: 32px;\n",
              "      padding: 0 0 0 0;\n",
              "      width: 32px;\n",
              "    }\n",
              "\n",
              "    .colab-df-convert:hover {\n",
              "      background-color: #E2EBFA;\n",
              "      box-shadow: 0px 1px 2px rgba(60, 64, 67, 0.3), 0px 1px 3px 1px rgba(60, 64, 67, 0.15);\n",
              "      fill: #174EA6;\n",
              "    }\n",
              "\n",
              "    [theme=dark] .colab-df-convert {\n",
              "      background-color: #3B4455;\n",
              "      fill: #D2E3FC;\n",
              "    }\n",
              "\n",
              "    [theme=dark] .colab-df-convert:hover {\n",
              "      background-color: #434B5C;\n",
              "      box-shadow: 0px 1px 3px 1px rgba(0, 0, 0, 0.15);\n",
              "      filter: drop-shadow(0px 1px 2px rgba(0, 0, 0, 0.3));\n",
              "      fill: #FFFFFF;\n",
              "    }\n",
              "  </style>\n",
              "\n",
              "      <script>\n",
              "        const buttonEl =\n",
              "          document.querySelector('#df-d43de6ee-3fce-45b5-9048-ec1d808d21da button.colab-df-convert');\n",
              "        buttonEl.style.display =\n",
              "          google.colab.kernel.accessAllowed ? 'block' : 'none';\n",
              "\n",
              "        async function convertToInteractive(key) {\n",
              "          const element = document.querySelector('#df-d43de6ee-3fce-45b5-9048-ec1d808d21da');\n",
              "          const dataTable =\n",
              "            await google.colab.kernel.invokeFunction('convertToInteractive',\n",
              "                                                     [key], {});\n",
              "          if (!dataTable) return;\n",
              "\n",
              "          const docLinkHtml = 'Like what you see? Visit the ' +\n",
              "            '<a target=\"_blank\" href=https://colab.research.google.com/notebooks/data_table.ipynb>data table notebook</a>'\n",
              "            + ' to learn more about interactive tables.';\n",
              "          element.innerHTML = '';\n",
              "          dataTable['output_type'] = 'display_data';\n",
              "          await google.colab.output.renderOutput(dataTable, element);\n",
              "          const docLink = document.createElement('div');\n",
              "          docLink.innerHTML = docLinkHtml;\n",
              "          element.appendChild(docLink);\n",
              "        }\n",
              "      </script>\n",
              "    </div>\n",
              "  </div>\n",
              "  "
            ]
          },
          "metadata": {},
          "execution_count": 20
        }
      ]
    },
    {
      "cell_type": "code",
      "source": [
        "encoder=LabelEncoder()\n",
        "x.iloc[:,feature_list.index('AIRLINE')]=encoder.fit_transform(x.iloc[:,feature_list.index('AIRLINE')])"
      ],
      "metadata": {
        "colab": {
          "base_uri": "https://localhost:8080/"
        },
        "id": "X_PRil1pu0OL",
        "outputId": "e403f655-1a5a-41f4-f9d3-e0f3416ee4ce"
      },
      "execution_count": null,
      "outputs": [
        {
          "output_type": "stream",
          "name": "stderr",
          "text": [
            "/usr/local/lib/python3.7/dist-packages/pandas/core/indexing.py:1773: SettingWithCopyWarning: \n",
            "A value is trying to be set on a copy of a slice from a DataFrame.\n",
            "Try using .loc[row_indexer,col_indexer] = value instead\n",
            "\n",
            "See the caveats in the documentation: https://pandas.pydata.org/pandas-docs/stable/user_guide/indexing.html#returning-a-view-versus-a-copy\n",
            "  self._setitem_single_column(ilocs[0], value, pi)\n"
          ]
        }
      ]
    },
    {
      "cell_type": "code",
      "source": [
        "x"
      ],
      "metadata": {
        "colab": {
          "base_uri": "https://localhost:8080/",
          "height": 488
        },
        "id": "elZhBjIiu5YR",
        "outputId": "7fd6ad15-ae84-4ca8-e36c-d34e86e5029c"
      },
      "execution_count": null,
      "outputs": [
        {
          "output_type": "execute_result",
          "data": {
            "text/plain": [
              "         MONTH  DAY  AIRLINE  SCHEDULED_ARRIVAL  ORIGIN_AIRPORT  \\\n",
              "1677653      4   17        3               2059              20   \n",
              "2545447      6   10        8               1602              64   \n",
              "3032558      7    9       13               1820              22   \n",
              "1477387      4    5        4               1649             211   \n",
              "3158747      7   17       13               1110             176   \n",
              "...        ...  ...      ...                ...             ...   \n",
              "5470362     12    9        0               1543              84   \n",
              "234782       1   16        7                935             228   \n",
              "2774565      6   24        3                938             245   \n",
              "3680127      8   17        1                846             277   \n",
              "3217369      7   20       10               1958             106   \n",
              "\n",
              "         DESTINATION_AIRPORT  AIR_SYSTEM_DELAY  WEATHER_DELAY  SECURITY_DELAY  \\\n",
              "1677653                  239               0.0            0.0             0.0   \n",
              "2545447                  220               0.0            0.0             0.0   \n",
              "3032558                   81               0.0            0.0             0.0   \n",
              "1477387                   85               0.0            0.0             0.0   \n",
              "3158747                   85               0.0            0.0             0.0   \n",
              "...                      ...               ...            ...             ...   \n",
              "5470362                  203               0.0            0.0             0.0   \n",
              "234782                   188               0.0            0.0             0.0   \n",
              "2774565                   20               0.0            0.0             0.0   \n",
              "3680127                  171               0.0            0.0             0.0   \n",
              "3217369                  193               0.0            0.0             0.0   \n",
              "\n",
              "         LATE_AIRCRAFT_DELAY  AIRLINE_DELAY  DEPARTURE_DELAY  \n",
              "1677653                  0.0            0.0              0.0  \n",
              "2545447                  0.0            0.0             -9.0  \n",
              "3032558                  0.0            0.0              0.0  \n",
              "1477387                  0.0            0.0             -9.0  \n",
              "3158747                 64.0            7.0             81.0  \n",
              "...                      ...            ...              ...  \n",
              "5470362                  0.0            0.0             -3.0  \n",
              "234782                   0.0            0.0             -5.0  \n",
              "2774565                  0.0            0.0              0.0  \n",
              "3680127                  0.0            0.0             -2.0  \n",
              "3217369                  0.0            0.0              0.0  \n",
              "\n",
              "[8980 rows x 12 columns]"
            ],
            "text/html": [
              "\n",
              "  <div id=\"df-86461686-2b37-4395-ad01-55f82a9d2b1b\">\n",
              "    <div class=\"colab-df-container\">\n",
              "      <div>\n",
              "<style scoped>\n",
              "    .dataframe tbody tr th:only-of-type {\n",
              "        vertical-align: middle;\n",
              "    }\n",
              "\n",
              "    .dataframe tbody tr th {\n",
              "        vertical-align: top;\n",
              "    }\n",
              "\n",
              "    .dataframe thead th {\n",
              "        text-align: right;\n",
              "    }\n",
              "</style>\n",
              "<table border=\"1\" class=\"dataframe\">\n",
              "  <thead>\n",
              "    <tr style=\"text-align: right;\">\n",
              "      <th></th>\n",
              "      <th>MONTH</th>\n",
              "      <th>DAY</th>\n",
              "      <th>AIRLINE</th>\n",
              "      <th>SCHEDULED_ARRIVAL</th>\n",
              "      <th>ORIGIN_AIRPORT</th>\n",
              "      <th>DESTINATION_AIRPORT</th>\n",
              "      <th>AIR_SYSTEM_DELAY</th>\n",
              "      <th>WEATHER_DELAY</th>\n",
              "      <th>SECURITY_DELAY</th>\n",
              "      <th>LATE_AIRCRAFT_DELAY</th>\n",
              "      <th>AIRLINE_DELAY</th>\n",
              "      <th>DEPARTURE_DELAY</th>\n",
              "    </tr>\n",
              "  </thead>\n",
              "  <tbody>\n",
              "    <tr>\n",
              "      <th>1677653</th>\n",
              "      <td>4</td>\n",
              "      <td>17</td>\n",
              "      <td>3</td>\n",
              "      <td>2059</td>\n",
              "      <td>20</td>\n",
              "      <td>239</td>\n",
              "      <td>0.0</td>\n",
              "      <td>0.0</td>\n",
              "      <td>0.0</td>\n",
              "      <td>0.0</td>\n",
              "      <td>0.0</td>\n",
              "      <td>0.0</td>\n",
              "    </tr>\n",
              "    <tr>\n",
              "      <th>2545447</th>\n",
              "      <td>6</td>\n",
              "      <td>10</td>\n",
              "      <td>8</td>\n",
              "      <td>1602</td>\n",
              "      <td>64</td>\n",
              "      <td>220</td>\n",
              "      <td>0.0</td>\n",
              "      <td>0.0</td>\n",
              "      <td>0.0</td>\n",
              "      <td>0.0</td>\n",
              "      <td>0.0</td>\n",
              "      <td>-9.0</td>\n",
              "    </tr>\n",
              "    <tr>\n",
              "      <th>3032558</th>\n",
              "      <td>7</td>\n",
              "      <td>9</td>\n",
              "      <td>13</td>\n",
              "      <td>1820</td>\n",
              "      <td>22</td>\n",
              "      <td>81</td>\n",
              "      <td>0.0</td>\n",
              "      <td>0.0</td>\n",
              "      <td>0.0</td>\n",
              "      <td>0.0</td>\n",
              "      <td>0.0</td>\n",
              "      <td>0.0</td>\n",
              "    </tr>\n",
              "    <tr>\n",
              "      <th>1477387</th>\n",
              "      <td>4</td>\n",
              "      <td>5</td>\n",
              "      <td>4</td>\n",
              "      <td>1649</td>\n",
              "      <td>211</td>\n",
              "      <td>85</td>\n",
              "      <td>0.0</td>\n",
              "      <td>0.0</td>\n",
              "      <td>0.0</td>\n",
              "      <td>0.0</td>\n",
              "      <td>0.0</td>\n",
              "      <td>-9.0</td>\n",
              "    </tr>\n",
              "    <tr>\n",
              "      <th>3158747</th>\n",
              "      <td>7</td>\n",
              "      <td>17</td>\n",
              "      <td>13</td>\n",
              "      <td>1110</td>\n",
              "      <td>176</td>\n",
              "      <td>85</td>\n",
              "      <td>0.0</td>\n",
              "      <td>0.0</td>\n",
              "      <td>0.0</td>\n",
              "      <td>64.0</td>\n",
              "      <td>7.0</td>\n",
              "      <td>81.0</td>\n",
              "    </tr>\n",
              "    <tr>\n",
              "      <th>...</th>\n",
              "      <td>...</td>\n",
              "      <td>...</td>\n",
              "      <td>...</td>\n",
              "      <td>...</td>\n",
              "      <td>...</td>\n",
              "      <td>...</td>\n",
              "      <td>...</td>\n",
              "      <td>...</td>\n",
              "      <td>...</td>\n",
              "      <td>...</td>\n",
              "      <td>...</td>\n",
              "      <td>...</td>\n",
              "    </tr>\n",
              "    <tr>\n",
              "      <th>5470362</th>\n",
              "      <td>12</td>\n",
              "      <td>9</td>\n",
              "      <td>0</td>\n",
              "      <td>1543</td>\n",
              "      <td>84</td>\n",
              "      <td>203</td>\n",
              "      <td>0.0</td>\n",
              "      <td>0.0</td>\n",
              "      <td>0.0</td>\n",
              "      <td>0.0</td>\n",
              "      <td>0.0</td>\n",
              "      <td>-3.0</td>\n",
              "    </tr>\n",
              "    <tr>\n",
              "      <th>234782</th>\n",
              "      <td>1</td>\n",
              "      <td>16</td>\n",
              "      <td>7</td>\n",
              "      <td>935</td>\n",
              "      <td>228</td>\n",
              "      <td>188</td>\n",
              "      <td>0.0</td>\n",
              "      <td>0.0</td>\n",
              "      <td>0.0</td>\n",
              "      <td>0.0</td>\n",
              "      <td>0.0</td>\n",
              "      <td>-5.0</td>\n",
              "    </tr>\n",
              "    <tr>\n",
              "      <th>2774565</th>\n",
              "      <td>6</td>\n",
              "      <td>24</td>\n",
              "      <td>3</td>\n",
              "      <td>938</td>\n",
              "      <td>245</td>\n",
              "      <td>20</td>\n",
              "      <td>0.0</td>\n",
              "      <td>0.0</td>\n",
              "      <td>0.0</td>\n",
              "      <td>0.0</td>\n",
              "      <td>0.0</td>\n",
              "      <td>0.0</td>\n",
              "    </tr>\n",
              "    <tr>\n",
              "      <th>3680127</th>\n",
              "      <td>8</td>\n",
              "      <td>17</td>\n",
              "      <td>1</td>\n",
              "      <td>846</td>\n",
              "      <td>277</td>\n",
              "      <td>171</td>\n",
              "      <td>0.0</td>\n",
              "      <td>0.0</td>\n",
              "      <td>0.0</td>\n",
              "      <td>0.0</td>\n",
              "      <td>0.0</td>\n",
              "      <td>-2.0</td>\n",
              "    </tr>\n",
              "    <tr>\n",
              "      <th>3217369</th>\n",
              "      <td>7</td>\n",
              "      <td>20</td>\n",
              "      <td>10</td>\n",
              "      <td>1958</td>\n",
              "      <td>106</td>\n",
              "      <td>193</td>\n",
              "      <td>0.0</td>\n",
              "      <td>0.0</td>\n",
              "      <td>0.0</td>\n",
              "      <td>0.0</td>\n",
              "      <td>0.0</td>\n",
              "      <td>0.0</td>\n",
              "    </tr>\n",
              "  </tbody>\n",
              "</table>\n",
              "<p>8980 rows × 12 columns</p>\n",
              "</div>\n",
              "      <button class=\"colab-df-convert\" onclick=\"convertToInteractive('df-86461686-2b37-4395-ad01-55f82a9d2b1b')\"\n",
              "              title=\"Convert this dataframe to an interactive table.\"\n",
              "              style=\"display:none;\">\n",
              "        \n",
              "  <svg xmlns=\"http://www.w3.org/2000/svg\" height=\"24px\"viewBox=\"0 0 24 24\"\n",
              "       width=\"24px\">\n",
              "    <path d=\"M0 0h24v24H0V0z\" fill=\"none\"/>\n",
              "    <path d=\"M18.56 5.44l.94 2.06.94-2.06 2.06-.94-2.06-.94-.94-2.06-.94 2.06-2.06.94zm-11 1L8.5 8.5l.94-2.06 2.06-.94-2.06-.94L8.5 2.5l-.94 2.06-2.06.94zm10 10l.94 2.06.94-2.06 2.06-.94-2.06-.94-.94-2.06-.94 2.06-2.06.94z\"/><path d=\"M17.41 7.96l-1.37-1.37c-.4-.4-.92-.59-1.43-.59-.52 0-1.04.2-1.43.59L10.3 9.45l-7.72 7.72c-.78.78-.78 2.05 0 2.83L4 21.41c.39.39.9.59 1.41.59.51 0 1.02-.2 1.41-.59l7.78-7.78 2.81-2.81c.8-.78.8-2.07 0-2.86zM5.41 20L4 18.59l7.72-7.72 1.47 1.35L5.41 20z\"/>\n",
              "  </svg>\n",
              "      </button>\n",
              "      \n",
              "  <style>\n",
              "    .colab-df-container {\n",
              "      display:flex;\n",
              "      flex-wrap:wrap;\n",
              "      gap: 12px;\n",
              "    }\n",
              "\n",
              "    .colab-df-convert {\n",
              "      background-color: #E8F0FE;\n",
              "      border: none;\n",
              "      border-radius: 50%;\n",
              "      cursor: pointer;\n",
              "      display: none;\n",
              "      fill: #1967D2;\n",
              "      height: 32px;\n",
              "      padding: 0 0 0 0;\n",
              "      width: 32px;\n",
              "    }\n",
              "\n",
              "    .colab-df-convert:hover {\n",
              "      background-color: #E2EBFA;\n",
              "      box-shadow: 0px 1px 2px rgba(60, 64, 67, 0.3), 0px 1px 3px 1px rgba(60, 64, 67, 0.15);\n",
              "      fill: #174EA6;\n",
              "    }\n",
              "\n",
              "    [theme=dark] .colab-df-convert {\n",
              "      background-color: #3B4455;\n",
              "      fill: #D2E3FC;\n",
              "    }\n",
              "\n",
              "    [theme=dark] .colab-df-convert:hover {\n",
              "      background-color: #434B5C;\n",
              "      box-shadow: 0px 1px 3px 1px rgba(0, 0, 0, 0.15);\n",
              "      filter: drop-shadow(0px 1px 2px rgba(0, 0, 0, 0.3));\n",
              "      fill: #FFFFFF;\n",
              "    }\n",
              "  </style>\n",
              "\n",
              "      <script>\n",
              "        const buttonEl =\n",
              "          document.querySelector('#df-86461686-2b37-4395-ad01-55f82a9d2b1b button.colab-df-convert');\n",
              "        buttonEl.style.display =\n",
              "          google.colab.kernel.accessAllowed ? 'block' : 'none';\n",
              "\n",
              "        async function convertToInteractive(key) {\n",
              "          const element = document.querySelector('#df-86461686-2b37-4395-ad01-55f82a9d2b1b');\n",
              "          const dataTable =\n",
              "            await google.colab.kernel.invokeFunction('convertToInteractive',\n",
              "                                                     [key], {});\n",
              "          if (!dataTable) return;\n",
              "\n",
              "          const docLinkHtml = 'Like what you see? Visit the ' +\n",
              "            '<a target=\"_blank\" href=https://colab.research.google.com/notebooks/data_table.ipynb>data table notebook</a>'\n",
              "            + ' to learn more about interactive tables.';\n",
              "          element.innerHTML = '';\n",
              "          dataTable['output_type'] = 'display_data';\n",
              "          await google.colab.output.renderOutput(dataTable, element);\n",
              "          const docLink = document.createElement('div');\n",
              "          docLink.innerHTML = docLinkHtml;\n",
              "          element.appendChild(docLink);\n",
              "        }\n",
              "      </script>\n",
              "    </div>\n",
              "  </div>\n",
              "  "
            ]
          },
          "metadata": {},
          "execution_count": 22
        }
      ]
    },
    {
      "cell_type": "code",
      "source": [
        "y=data.ARRIVAL_DELAY\n",
        "y=np.array(y)"
      ],
      "metadata": {
        "id": "X1n2c3EfvGZA"
      },
      "execution_count": null,
      "outputs": []
    },
    {
      "cell_type": "code",
      "source": [
        "x=np.array(x)"
      ],
      "metadata": {
        "id": "QnAm9E1KvRHJ"
      },
      "execution_count": null,
      "outputs": []
    },
    {
      "cell_type": "code",
      "source": [
        "x_train,x_test,y_train,y_test=train_test_split(x,y,test_size=0.20,random_state=0)"
      ],
      "metadata": {
        "id": "L5uyO_JivUHc"
      },
      "execution_count": null,
      "outputs": []
    },
    {
      "cell_type": "code",
      "source": [
        "x_train"
      ],
      "metadata": {
        "colab": {
          "base_uri": "https://localhost:8080/"
        },
        "id": "R5x3v9OUvfxS",
        "outputId": "a1c1373d-ec2d-433c-8b06-f83ec812c9e2"
      },
      "execution_count": null,
      "outputs": [
        {
          "output_type": "execute_result",
          "data": {
            "text/plain": [
              "array([[ 4.,  1.,  4., ...,  0.,  0., -6.],\n",
              "       [ 8., 30.,  2., ...,  0.,  0., -2.],\n",
              "       [ 7., 14.,  3., ...,  0.,  0.,  5.],\n",
              "       ...,\n",
              "       [ 9., 25.,  7., ...,  0.,  0., -3.],\n",
              "       [ 9., 28.,  0., ...,  0.,  0., -5.],\n",
              "       [ 4.,  7., 13., ...,  0.,  0., 14.]])"
            ]
          },
          "metadata": {},
          "execution_count": 26
        }
      ]
    },
    {
      "cell_type": "code",
      "source": [
        "from sklearn.tree import DecisionTreeRegressor \n",
        "from sklearn.metrics import r2_score\n",
        "d= DecisionTreeRegressor()\n",
        "d.fit(x_train,y_train)\n",
        "y_pred=d.predict(x_test)\n",
        "print(r2_score(y_test,y_pred))"
      ],
      "metadata": {
        "colab": {
          "base_uri": "https://localhost:8080/"
        },
        "id": "aSdug-5nvjOj",
        "outputId": "05ec70ec-d6ef-4525-e16a-75cbb3d8c80b"
      },
      "execution_count": null,
      "outputs": [
        {
          "output_type": "stream",
          "name": "stdout",
          "text": [
            "0.8689187361348646\n"
          ]
        }
      ]
    },
    {
      "cell_type": "code",
      "source": [
        "from sklearn.metrics import mean_absolute_error\n",
        "from sklearn.metrics import mean_squared_error\n",
        "print('Mean Absolute Error:',mean_absolute_error(y_test,y_pred))\n",
        "print('Mean Squared Error:',mean_squared_error(y_test,y_pred))\n",
        "print('Root Mean Squared Error:', np.sqrt(mean_squared_error(y_test, y_pred)))"
      ],
      "metadata": {
        "colab": {
          "base_uri": "https://localhost:8080/"
        },
        "id": "rNnMpfOqv-jX",
        "outputId": "a07ea928-2ddb-423b-eb3f-0e27d9f9b413"
      },
      "execution_count": null,
      "outputs": [
        {
          "output_type": "stream",
          "name": "stdout",
          "text": [
            "Mean Absolute Error: 10.021158129175946\n",
            "Mean Squared Error: 182.0946547884187\n",
            "Root Mean Squared Error: 13.494245247082873\n"
          ]
        }
      ]
    },
    {
      "cell_type": "code",
      "source": [
        "import pickle\n",
        "pickle.dump(d, open('decision_tree86.pkl', 'wb'))"
      ],
      "metadata": {
        "id": "NKQavWI-wXqx"
      },
      "execution_count": null,
      "outputs": []
    }
  ]
}